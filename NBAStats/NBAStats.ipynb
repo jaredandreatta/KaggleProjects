{
 "cells": [
  {
   "cell_type": "markdown",
   "metadata": {},
   "source": [
    "# Welcome!\n",
    "### For this analysis, I want to analyze the difference in player performance during the playoffs and regular season for the 2023-2024 season. In order to analyze their performance, we're going to use a statistic known as player efficiency (denoted EFF). EFF is calculated by adding their \"positive\" stats (e.g. Points, Rebounds) and subtracting their \"negative\" stats (e.g. Turnovers, Field Goals Missed). The complete formula is below:\n",
    "\n",
    "\\begin{align}\n",
    "EFF = \\frac{(PTS + REB + AST + BLK) - (FG Missed + FT Missed + TOV)}{GP}\n",
    "\\end{align}\n",
    "\n",
    "### We will use this statistics to analyze who really steps up their game during the playoffs, and who is not themselves during the playoffs."
   ]
  },
  {
   "cell_type": "code",
   "execution_count": 201,
   "metadata": {},
   "outputs": [],
   "source": [
    "import pandas as pd\n",
    "import numpy as np\n",
    "from scipy.stats import kurtosis, skew, norm\n",
    "import plotly.express as px\n",
    "import plotly.graph_objects as go\n",
    "from matplotlib import pyplot as plt\n",
    "import warnings\n",
    "\n",
    "warnings.filterwarnings('ignore')"
   ]
  },
  {
   "cell_type": "markdown",
   "metadata": {},
   "source": [
    "### Let's start by processing the data. We are going to limit this analysis to the 2023-2024 to keep it relevant. We're then going to make columns for regular season EFF, playoff season EFF, and the difference between them."
   ]
  },
  {
   "cell_type": "code",
   "execution_count": 202,
   "metadata": {},
   "outputs": [
    {
     "data": {
      "text/html": [
       "<div>\n",
       "<style scoped>\n",
       "    .dataframe tbody tr th:only-of-type {\n",
       "        vertical-align: middle;\n",
       "    }\n",
       "\n",
       "    .dataframe tbody tr th {\n",
       "        vertical-align: top;\n",
       "    }\n",
       "\n",
       "    .dataframe thead th {\n",
       "        text-align: right;\n",
       "    }\n",
       "</style>\n",
       "<table border=\"1\" class=\"dataframe\">\n",
       "  <thead>\n",
       "    <tr style=\"text-align: right;\">\n",
       "      <th></th>\n",
       "      <th>Unnamed: 0.1_reg</th>\n",
       "      <th>Unnamed: 0_reg</th>\n",
       "      <th>year</th>\n",
       "      <th>Season_type_reg</th>\n",
       "      <th>PLAYER_ID</th>\n",
       "      <th>RANK_reg</th>\n",
       "      <th>PLAYER_reg</th>\n",
       "      <th>TEAM_ID_reg</th>\n",
       "      <th>TEAM_reg</th>\n",
       "      <th>GP_reg</th>\n",
       "      <th>...</th>\n",
       "      <th>STL_poff</th>\n",
       "      <th>BLK_poff</th>\n",
       "      <th>TOV_poff</th>\n",
       "      <th>PF_poff</th>\n",
       "      <th>PTS_poff</th>\n",
       "      <th>AST_TOV_poff</th>\n",
       "      <th>STL_TOV_poff</th>\n",
       "      <th>EFF_reg</th>\n",
       "      <th>EFF_poff</th>\n",
       "      <th>EFF_diff</th>\n",
       "    </tr>\n",
       "  </thead>\n",
       "  <tbody>\n",
       "    <tr>\n",
       "      <th>0</th>\n",
       "      <td>5687</td>\n",
       "      <td>8049</td>\n",
       "      <td>2023-24</td>\n",
       "      <td>Regular_Season</td>\n",
       "      <td>1629029</td>\n",
       "      <td>1</td>\n",
       "      <td>Luka Doncic</td>\n",
       "      <td>1610612742</td>\n",
       "      <td>DAL</td>\n",
       "      <td>70</td>\n",
       "      <td>...</td>\n",
       "      <td>41</td>\n",
       "      <td>8</td>\n",
       "      <td>90</td>\n",
       "      <td>56</td>\n",
       "      <td>635</td>\n",
       "      <td>1.98</td>\n",
       "      <td>0.46</td>\n",
       "      <td>36.857143</td>\n",
       "      <td>30.227273</td>\n",
       "      <td>-6.629870</td>\n",
       "    </tr>\n",
       "    <tr>\n",
       "      <th>1</th>\n",
       "      <td>5688</td>\n",
       "      <td>8050</td>\n",
       "      <td>2023-24</td>\n",
       "      <td>Regular_Season</td>\n",
       "      <td>1628983</td>\n",
       "      <td>2</td>\n",
       "      <td>Shai Gilgeous-Alexander</td>\n",
       "      <td>1610612760</td>\n",
       "      <td>OKC</td>\n",
       "      <td>75</td>\n",
       "      <td>...</td>\n",
       "      <td>13</td>\n",
       "      <td>17</td>\n",
       "      <td>22</td>\n",
       "      <td>31</td>\n",
       "      <td>302</td>\n",
       "      <td>2.91</td>\n",
       "      <td>0.59</td>\n",
       "      <td>32.213333</td>\n",
       "      <td>31.600000</td>\n",
       "      <td>-0.613333</td>\n",
       "    </tr>\n",
       "    <tr>\n",
       "      <th>2</th>\n",
       "      <td>5690</td>\n",
       "      <td>8052</td>\n",
       "      <td>2023-24</td>\n",
       "      <td>Regular_Season</td>\n",
       "      <td>1628973</td>\n",
       "      <td>4</td>\n",
       "      <td>Jalen Brunson</td>\n",
       "      <td>1610612752</td>\n",
       "      <td>NYK</td>\n",
       "      <td>77</td>\n",
       "      <td>...</td>\n",
       "      <td>10</td>\n",
       "      <td>2</td>\n",
       "      <td>35</td>\n",
       "      <td>26</td>\n",
       "      <td>421</td>\n",
       "      <td>2.77</td>\n",
       "      <td>0.29</td>\n",
       "      <td>25.610390</td>\n",
       "      <td>24.769231</td>\n",
       "      <td>-0.841159</td>\n",
       "    </tr>\n",
       "    <tr>\n",
       "      <th>3</th>\n",
       "      <td>5691</td>\n",
       "      <td>8053</td>\n",
       "      <td>2023-24</td>\n",
       "      <td>Regular_Season</td>\n",
       "      <td>203999</td>\n",
       "      <td>5</td>\n",
       "      <td>Nikola Jokic</td>\n",
       "      <td>1610612743</td>\n",
       "      <td>DEN</td>\n",
       "      <td>79</td>\n",
       "      <td>...</td>\n",
       "      <td>17</td>\n",
       "      <td>8</td>\n",
       "      <td>40</td>\n",
       "      <td>32</td>\n",
       "      <td>344</td>\n",
       "      <td>2.60</td>\n",
       "      <td>0.42</td>\n",
       "      <td>38.468354</td>\n",
       "      <td>39.666667</td>\n",
       "      <td>1.198312</td>\n",
       "    </tr>\n",
       "    <tr>\n",
       "      <th>4</th>\n",
       "      <td>5692</td>\n",
       "      <td>8054</td>\n",
       "      <td>2023-24</td>\n",
       "      <td>Regular_Season</td>\n",
       "      <td>1630162</td>\n",
       "      <td>6</td>\n",
       "      <td>Anthony Edwards</td>\n",
       "      <td>1610612750</td>\n",
       "      <td>MIN</td>\n",
       "      <td>79</td>\n",
       "      <td>...</td>\n",
       "      <td>24</td>\n",
       "      <td>9</td>\n",
       "      <td>52</td>\n",
       "      <td>37</td>\n",
       "      <td>441</td>\n",
       "      <td>2.00</td>\n",
       "      <td>0.46</td>\n",
       "      <td>23.582278</td>\n",
       "      <td>28.187500</td>\n",
       "      <td>4.605222</td>\n",
       "    </tr>\n",
       "    <tr>\n",
       "      <th>...</th>\n",
       "      <td>...</td>\n",
       "      <td>...</td>\n",
       "      <td>...</td>\n",
       "      <td>...</td>\n",
       "      <td>...</td>\n",
       "      <td>...</td>\n",
       "      <td>...</td>\n",
       "      <td>...</td>\n",
       "      <td>...</td>\n",
       "      <td>...</td>\n",
       "      <td>...</td>\n",
       "      <td>...</td>\n",
       "      <td>...</td>\n",
       "      <td>...</td>\n",
       "      <td>...</td>\n",
       "      <td>...</td>\n",
       "      <td>...</td>\n",
       "      <td>...</td>\n",
       "      <td>...</td>\n",
       "      <td>...</td>\n",
       "      <td>...</td>\n",
       "    </tr>\n",
       "    <tr>\n",
       "      <th>200</th>\n",
       "      <td>6161</td>\n",
       "      <td>8523</td>\n",
       "      <td>2023-24</td>\n",
       "      <td>Regular_Season</td>\n",
       "      <td>1629216</td>\n",
       "      <td>474</td>\n",
       "      <td>Gabe Vincent</td>\n",
       "      <td>1610612747</td>\n",
       "      <td>LAL</td>\n",
       "      <td>11</td>\n",
       "      <td>...</td>\n",
       "      <td>2</td>\n",
       "      <td>0</td>\n",
       "      <td>3</td>\n",
       "      <td>8</td>\n",
       "      <td>7</td>\n",
       "      <td>1.00</td>\n",
       "      <td>0.67</td>\n",
       "      <td>3.000000</td>\n",
       "      <td>1.600000</td>\n",
       "      <td>-1.400000</td>\n",
       "    </tr>\n",
       "    <tr>\n",
       "      <th>205</th>\n",
       "      <td>6192</td>\n",
       "      <td>8554</td>\n",
       "      <td>2023-24</td>\n",
       "      <td>Regular_Season</td>\n",
       "      <td>1631112</td>\n",
       "      <td>505</td>\n",
       "      <td>Kendall Brown</td>\n",
       "      <td>1610612754</td>\n",
       "      <td>IND</td>\n",
       "      <td>15</td>\n",
       "      <td>...</td>\n",
       "      <td>0</td>\n",
       "      <td>1</td>\n",
       "      <td>3</td>\n",
       "      <td>2</td>\n",
       "      <td>4</td>\n",
       "      <td>0.67</td>\n",
       "      <td>0.00</td>\n",
       "      <td>1.266667</td>\n",
       "      <td>0.428571</td>\n",
       "      <td>-0.838095</td>\n",
       "    </tr>\n",
       "    <tr>\n",
       "      <th>207</th>\n",
       "      <td>6199</td>\n",
       "      <td>8561</td>\n",
       "      <td>2023-24</td>\n",
       "      <td>Regular_Season</td>\n",
       "      <td>1631111</td>\n",
       "      <td>511</td>\n",
       "      <td>Wendell Moore Jr.</td>\n",
       "      <td>1610612750</td>\n",
       "      <td>MIN</td>\n",
       "      <td>25</td>\n",
       "      <td>...</td>\n",
       "      <td>1</td>\n",
       "      <td>0</td>\n",
       "      <td>1</td>\n",
       "      <td>3</td>\n",
       "      <td>7</td>\n",
       "      <td>2.00</td>\n",
       "      <td>1.00</td>\n",
       "      <td>1.160000</td>\n",
       "      <td>1.166667</td>\n",
       "      <td>0.006667</td>\n",
       "    </tr>\n",
       "    <tr>\n",
       "      <th>209</th>\n",
       "      <td>6206</td>\n",
       "      <td>8568</td>\n",
       "      <td>2023-24</td>\n",
       "      <td>Regular_Season</td>\n",
       "      <td>1629610</td>\n",
       "      <td>519</td>\n",
       "      <td>DaQuan Jeffries</td>\n",
       "      <td>1610612752</td>\n",
       "      <td>NYK</td>\n",
       "      <td>17</td>\n",
       "      <td>...</td>\n",
       "      <td>1</td>\n",
       "      <td>0</td>\n",
       "      <td>0</td>\n",
       "      <td>2</td>\n",
       "      <td>8</td>\n",
       "      <td>0.00</td>\n",
       "      <td>0.00</td>\n",
       "      <td>0.529412</td>\n",
       "      <td>2.000000</td>\n",
       "      <td>1.470588</td>\n",
       "    </tr>\n",
       "    <tr>\n",
       "      <th>210</th>\n",
       "      <td>6215</td>\n",
       "      <td>8577</td>\n",
       "      <td>2023-24</td>\n",
       "      <td>Regular_Season</td>\n",
       "      <td>1629603</td>\n",
       "      <td>527</td>\n",
       "      <td>Mamadi Diakite</td>\n",
       "      <td>1610612752</td>\n",
       "      <td>NYK</td>\n",
       "      <td>6</td>\n",
       "      <td>...</td>\n",
       "      <td>1</td>\n",
       "      <td>1</td>\n",
       "      <td>1</td>\n",
       "      <td>3</td>\n",
       "      <td>2</td>\n",
       "      <td>1.00</td>\n",
       "      <td>1.00</td>\n",
       "      <td>2.500000</td>\n",
       "      <td>1.000000</td>\n",
       "      <td>-1.500000</td>\n",
       "    </tr>\n",
       "  </tbody>\n",
       "</table>\n",
       "<p>170 rows × 63 columns</p>\n",
       "</div>"
      ],
      "text/plain": [
       "     Unnamed: 0.1_reg  Unnamed: 0_reg     year Season_type_reg  PLAYER_ID  \\\n",
       "0                5687            8049  2023-24  Regular_Season    1629029   \n",
       "1                5688            8050  2023-24  Regular_Season    1628983   \n",
       "2                5690            8052  2023-24  Regular_Season    1628973   \n",
       "3                5691            8053  2023-24  Regular_Season     203999   \n",
       "4                5692            8054  2023-24  Regular_Season    1630162   \n",
       "..                ...             ...      ...             ...        ...   \n",
       "200              6161            8523  2023-24  Regular_Season    1629216   \n",
       "205              6192            8554  2023-24  Regular_Season    1631112   \n",
       "207              6199            8561  2023-24  Regular_Season    1631111   \n",
       "209              6206            8568  2023-24  Regular_Season    1629610   \n",
       "210              6215            8577  2023-24  Regular_Season    1629603   \n",
       "\n",
       "     RANK_reg               PLAYER_reg  TEAM_ID_reg TEAM_reg  GP_reg  ...  \\\n",
       "0           1              Luka Doncic   1610612742      DAL      70  ...   \n",
       "1           2  Shai Gilgeous-Alexander   1610612760      OKC      75  ...   \n",
       "2           4            Jalen Brunson   1610612752      NYK      77  ...   \n",
       "3           5             Nikola Jokic   1610612743      DEN      79  ...   \n",
       "4           6          Anthony Edwards   1610612750      MIN      79  ...   \n",
       "..        ...                      ...          ...      ...     ...  ...   \n",
       "200       474             Gabe Vincent   1610612747      LAL      11  ...   \n",
       "205       505            Kendall Brown   1610612754      IND      15  ...   \n",
       "207       511        Wendell Moore Jr.   1610612750      MIN      25  ...   \n",
       "209       519          DaQuan Jeffries   1610612752      NYK      17  ...   \n",
       "210       527           Mamadi Diakite   1610612752      NYK       6  ...   \n",
       "\n",
       "     STL_poff  BLK_poff  TOV_poff  PF_poff  PTS_poff  AST_TOV_poff  \\\n",
       "0          41         8        90       56       635          1.98   \n",
       "1          13        17        22       31       302          2.91   \n",
       "2          10         2        35       26       421          2.77   \n",
       "3          17         8        40       32       344          2.60   \n",
       "4          24         9        52       37       441          2.00   \n",
       "..        ...       ...       ...      ...       ...           ...   \n",
       "200         2         0         3        8         7          1.00   \n",
       "205         0         1         3        2         4          0.67   \n",
       "207         1         0         1        3         7          2.00   \n",
       "209         1         0         0        2         8          0.00   \n",
       "210         1         1         1        3         2          1.00   \n",
       "\n",
       "     STL_TOV_poff    EFF_reg   EFF_poff  EFF_diff  \n",
       "0            0.46  36.857143  30.227273 -6.629870  \n",
       "1            0.59  32.213333  31.600000 -0.613333  \n",
       "2            0.29  25.610390  24.769231 -0.841159  \n",
       "3            0.42  38.468354  39.666667  1.198312  \n",
       "4            0.46  23.582278  28.187500  4.605222  \n",
       "..            ...        ...        ...       ...  \n",
       "200          0.67   3.000000   1.600000 -1.400000  \n",
       "205          0.00   1.266667   0.428571 -0.838095  \n",
       "207          1.00   1.160000   1.166667  0.006667  \n",
       "209          0.00   0.529412   2.000000  1.470588  \n",
       "210          1.00   2.500000   1.000000 -1.500000  \n",
       "\n",
       "[170 rows x 63 columns]"
      ]
     },
     "execution_count": 202,
     "metadata": {},
     "output_type": "execute_result"
    }
   ],
   "source": [
    "playoff_data = pd.read_csv('Playoffs.csv')\n",
    "regular_data = pd.read_csv('Regular_Season.csv')\n",
    "\n",
    "# Data for the 2023-2024 season\n",
    "filtered_regular_data = regular_data[regular_data['year'] == \"2023-24\"]\n",
    "filtered_playoff_data = playoff_data[playoff_data['year'] == \"2023-24\"]\n",
    "\n",
    "# Merging the dataframes for analysis\n",
    "df = pd.merge(filtered_regular_data,filtered_playoff_data, on=['PLAYER_ID','year'], suffixes=['_reg', '_poff'])\n",
    "\n",
    "# Creating EFF columns\n",
    "df['EFF_reg'] = (df['PTS_reg'] + df['REB_reg'] + df['AST_reg'] + df['STL_reg'] + df['BLK_reg']\n",
    "                 - (df['FGA_reg']-df['FGM_reg']) - (df['FTA_reg']-df['FTM_reg']) - df['TOV_reg']) / df['GP_reg']\n",
    "df['EFF_poff'] = (df['PTS_poff'] + df['REB_poff'] + df['AST_poff'] + df['STL_poff'] + df['BLK_poff']\n",
    "                 - (df['FGA_poff']-df['FGM_poff']) - (df['FTA_poff']-df['FTM_poff']) - df['TOV_poff']) / df['GP_poff']\n",
    "df['EFF_diff']= df['EFF_poff']-df['EFF_reg']\n",
    "\n",
    "# This is ensuring that we have players that actually played during the playoffs by making sure they played at least 4 games (the minimum length of a single series.)\n",
    "df=df[df['GP_poff']>=4]\n",
    "df"
   ]
  },
  {
   "cell_type": "code",
   "execution_count": 203,
   "metadata": {},
   "outputs": [],
   "source": [
    "# Dropping unnecessary columns\n",
    "df=df.drop(columns=['Unnamed: 0.1_reg', 'Unnamed: 0_reg'])"
   ]
  },
  {
   "cell_type": "code",
   "execution_count": 204,
   "metadata": {},
   "outputs": [
    {
     "data": {
      "text/html": [
       "<div>\n",
       "<style scoped>\n",
       "    .dataframe tbody tr th:only-of-type {\n",
       "        vertical-align: middle;\n",
       "    }\n",
       "\n",
       "    .dataframe tbody tr th {\n",
       "        vertical-align: top;\n",
       "    }\n",
       "\n",
       "    .dataframe thead th {\n",
       "        text-align: right;\n",
       "    }\n",
       "</style>\n",
       "<table border=\"1\" class=\"dataframe\">\n",
       "  <thead>\n",
       "    <tr style=\"text-align: right;\">\n",
       "      <th></th>\n",
       "      <th>PLAYER_ID</th>\n",
       "      <th>PLAYER_reg</th>\n",
       "      <th>EFF_reg</th>\n",
       "      <th>EFF_poff</th>\n",
       "      <th>EFF_diff</th>\n",
       "    </tr>\n",
       "  </thead>\n",
       "  <tbody>\n",
       "    <tr>\n",
       "      <th>0</th>\n",
       "      <td>1629029</td>\n",
       "      <td>Luka Doncic</td>\n",
       "      <td>36.857143</td>\n",
       "      <td>30.227273</td>\n",
       "      <td>-6.629870</td>\n",
       "    </tr>\n",
       "    <tr>\n",
       "      <th>1</th>\n",
       "      <td>1628983</td>\n",
       "      <td>Shai Gilgeous-Alexander</td>\n",
       "      <td>32.213333</td>\n",
       "      <td>31.600000</td>\n",
       "      <td>-0.613333</td>\n",
       "    </tr>\n",
       "    <tr>\n",
       "      <th>2</th>\n",
       "      <td>1628973</td>\n",
       "      <td>Jalen Brunson</td>\n",
       "      <td>25.610390</td>\n",
       "      <td>24.769231</td>\n",
       "      <td>-0.841159</td>\n",
       "    </tr>\n",
       "    <tr>\n",
       "      <th>3</th>\n",
       "      <td>203999</td>\n",
       "      <td>Nikola Jokic</td>\n",
       "      <td>38.468354</td>\n",
       "      <td>39.666667</td>\n",
       "      <td>1.198312</td>\n",
       "    </tr>\n",
       "    <tr>\n",
       "      <th>4</th>\n",
       "      <td>1630162</td>\n",
       "      <td>Anthony Edwards</td>\n",
       "      <td>23.582278</td>\n",
       "      <td>28.187500</td>\n",
       "      <td>4.605222</td>\n",
       "    </tr>\n",
       "  </tbody>\n",
       "</table>\n",
       "</div>"
      ],
      "text/plain": [
       "   PLAYER_ID               PLAYER_reg    EFF_reg   EFF_poff  EFF_diff\n",
       "0    1629029              Luka Doncic  36.857143  30.227273 -6.629870\n",
       "1    1628983  Shai Gilgeous-Alexander  32.213333  31.600000 -0.613333\n",
       "2    1628973            Jalen Brunson  25.610390  24.769231 -0.841159\n",
       "3     203999             Nikola Jokic  38.468354  39.666667  1.198312\n",
       "4    1630162          Anthony Edwards  23.582278  28.187500  4.605222"
      ]
     },
     "execution_count": 204,
     "metadata": {},
     "output_type": "execute_result"
    }
   ],
   "source": [
    "# Creating an EFF df for analysis\n",
    "eff_df=df[['PLAYER_ID','PLAYER_reg','EFF_reg','EFF_poff','EFF_diff']]\n",
    "eff_df.head()"
   ]
  },
  {
   "cell_type": "markdown",
   "metadata": {},
   "source": [
    "### Next is an interactive visualization that shows us the difference in each player's EFF ratings from playoffs to regular season."
   ]
  },
  {
   "cell_type": "code",
   "execution_count": 205,
   "metadata": {},
   "outputs": [
    {
     "data": {
      "application/vnd.plotly.v1+json": {
       "config": {
        "plotlyServerURL": "https://plot.ly"
       },
       "data": [
        {
         "type": "bar",
         "x": [
          "Luka Doncic",
          "Shai Gilgeous-Alexander",
          "Jalen Brunson",
          "Nikola Jokic",
          "Anthony Edwards",
          "Kevin Durant",
          "Jayson Tatum",
          "Anthony Davis",
          "Devin Booker",
          "LeBron James",
          "Tyrese Maxey",
          "Paolo Banchero",
          "Damian Lillard",
          "Pascal Siakam",
          "Paul George",
          "Jaylen Brown",
          "Kyrie Irving",
          "Donovan Mitchell",
          "Franz Wagner",
          "Tyrese Haliburton",
          "D'Angelo Russell",
          "Bam Adebayo",
          "Chet Holmgren",
          "Michael Porter Jr.",
          "Jalen Williams",
          "Joel Embiid",
          "Karl-Anthony Towns",
          "Brandon Ingram",
          "CJ McCollum",
          "Myles Turner",
          "Austin Reaves",
          "Jarrett Allen",
          "Donte DiVincenzo",
          "Jamal Murray",
          "Tobias Harris",
          "James Harden",
          "Kristaps Porzingis",
          "Tim Hardaway Jr.",
          "Bobby Portis",
          "Derrick White",
          "Naz Reid",
          "Rudy Gobert",
          "Norman Powell",
          "Kelly Oubre Jr.",
          "Darius Garland",
          "Aaron Gordon",
          "Buddy Hield",
          "Jonas Valanciunas",
          "Brook Lopez",
          "Josh Giddey",
          "Bradley Beal",
          "Caris LeVert",
          "Jalen Suggs",
          "P.J. Washington",
          "Cole Anthony",
          "Rui Hachimura",
          "Jaime Jaquez Jr.",
          "Malik Beasley",
          "Aaron Nesmith",
          "Duncan Robinson",
          "Tyler Herro",
          "Mike Conley",
          "Bojan Bogdanovic",
          "Moritz Wagner",
          "Jrue Holiday",
          "Luguentz Dort",
          "Max Strus",
          "Obi Toppin",
          "Trey Murphy III",
          "Herbert Jones",
          "Reggie Jackson",
          "Jusuf Nurkic",
          "Khris Middleton",
          "Daniel Gafford",
          "Spencer Dinwiddie",
          "Ivica Zubac",
          "Payton Pritchard",
          "Evan Mobley",
          "Georges Niang",
          "Kentavious Caldwell-Pope",
          "Josh Hart",
          "Jaden McDaniels",
          "Russell Westbrook",
          "Eric Gordon",
          "OG Anunoby",
          "T.J. McConnell",
          "Sam Hauser",
          "Taurean Prince",
          "Alec Burks",
          "Terance Mann",
          "Derrick Jones Jr.",
          "Nickeil Alexander-Walker",
          "Isaac Okoro",
          "Caleb Martin",
          "Isaiah Joe",
          "Andrew Nembhard",
          "Royce O'Neale",
          "Wendell Carter Jr.",
          "Jalen Smith",
          "Christian Braun",
          "Paul Reed",
          "Isaiah Hartenstein",
          "Cameron Payne",
          "Precious Achiuwa",
          "Al Horford",
          "Miles McBride",
          "Cason Wallace",
          "Aaron Wiggins",
          "Peyton Watson",
          "Jaden Hardy",
          "Kyle Anderson",
          "Gordon Hayward",
          "Kyle Lowry",
          "Kevin Love",
          "Sam Merrill",
          "Dereck Lively II",
          "Josh Green",
          "Naji Marshall",
          "Amir Coffey",
          "Patrick Beverley",
          "Dante Exum",
          "Pat Connaughton",
          "Haywood Highsmith",
          "Jose Alvarado",
          "Jonathan Isaac",
          "Isaiah Jackson",
          "Gary Harris",
          "Nikola Jovic",
          "Doug McDermott",
          "Larry Nance Jr.",
          "Markelle Fultz",
          "Luke Kornet",
          "Kenrich Williams",
          "Nicolas Batum",
          "Marcus Morris Sr.",
          "Jae Crowder",
          "Jaxson Hayes",
          "Joe Ingles",
          "Xavier Tillman",
          "Josh Okogie",
          "Jaylin Williams",
          "AJ Green",
          "Ben Sheppard",
          "Mason Plumlee",
          "Justin Holiday",
          "Shake Milton",
          "MarJon Beauchamp",
          "Delon Wright",
          "Dwight Powell",
          "Oshae Brissett",
          "Jordan McLaughlin",
          "Maxi Kleber",
          "Mitchell Robinson",
          "Monte Morris",
          "Jaden Springer",
          "Svi Mykhailiuk",
          "Tristan Thompson",
          "Nassir Little",
          "AJ Lawson",
          "Ousmane Dieng",
          "Andre Jackson Jr.",
          "Jarace Walker",
          "Luka Garza",
          "Jericho Sims",
          "Josh Minott",
          "Gabe Vincent",
          "Kendall Brown",
          "Wendell Moore Jr.",
          "DaQuan Jeffries",
          "Mamadi Diakite"
         ],
         "y": [
          -6.6298701298701275,
          -0.6133333333333297,
          -0.8411588411588404,
          1.1983122362869167,
          4.605221518987342,
          -0.6666666666666679,
          0.20697012802275694,
          5.873684210526314,
          0.529411764705884,
          3.2563380281690186,
          4.590476190476188,
          1.6910714285714263,
          2.647260273972602,
          0.018382352941177516,
          -1.621621621621621,
          0.6180451127819566,
          -5.7053291536050175,
          -0.39090909090909065,
          1.678571428571427,
          -2.1304347826086953,
          -7.4184210526315795,
          -1.5408450704225345,
          -2.6975609756097576,
          -1.2438271604938258,
          1.5943661971830991,
          -4.88461538461538,
          -1.840725806451612,
          -8.875,
          -4.863636363636363,
          -0.44003055767761623,
          0.1560975609756099,
          3.0129870129870113,
          1.46153846153846,
          -5.502824858757062,
          -6.757142857142856,
          2.2777777777777786,
          -8.691729323308271,
          -7.489150090415913,
          2.577235772357721,
          0.41384282624369106,
          -3.5709876543209873,
          -5.428070175438599,
          -2.947368421052632,
          0.10294117647058876,
          -1.3947368421052637,
          3.211187214611872,
          -7.892857142857142,
          0.4146341463414629,
          1.3080168776371295,
          -7.200000000000001,
          -6.358490566037737,
          -5.4264705882352935,
          0.9066666666666663,
          0.21357409713574071,
          -7.793650793650793,
          -7.664705882352942,
          -2.3933333333333326,
          -2.419831223628691,
          -0.8039215686274517,
          -10.147058823529411,
          -5.4,
          -0.11315789473684212,
          -6.3508771929824555,
          -5.414285714285714,
          1.5484363081617083,
          0.1316455696202521,
          -2.276190476190477,
          0.17503586800573956,
          -2.587719298245613,
          -1.026315789473685,
          -7.065040650406505,
          -4.921052631578949,
          8.863636363636363,
          -6.585995085995085,
          -7.947368421052632,
          1.3872549019607838,
          -5.132862644415917,
          -0.7833333333333314,
          -8.304878048780488,
          -1.171052631578947,
          5.776828110161443,
          2.7986111111111107,
          -8.715686274509803,
          -3.1911764705882355,
          1.253333333333332,
          -0.1996685998343004,
          -4.13057961359094,
          -1.9461538461538463,
          6.348484848484848,
          0.3533333333333335,
          0.7200956937799052,
          -2.036585365853659,
          -5.8731884057971016,
          0.5031250000000007,
          -1.9384615384615387,
          6.970588235294118,
          -4.617088607594937,
          -3.823376623376623,
          -10.569086651053864,
          -3.2439024390243905,
          -8.96747967479675,
          -0.3200000000000003,
          -2.1564102564102567,
          -4.2027027027027035,
          0.09392712550607385,
          1.4174208144796374,
          -3.9731707317073166,
          -0.4717948717948719,
          -6.525,
          -2.5104542177361213,
          -3.3240506329113924,
          -9.210084033613446,
          -0.21666666666666679,
          -8.618181818181819,
          -4.368852459016393,
          -1.5142857142857142,
          -3.248006379585327,
          0.18181818181818166,
          -5.328571428571428,
          4.267123287671232,
          -8.156709956709957,
          0.5701754385964914,
          -3.0575757575757576,
          -6.892857142857142,
          -0.7339901477832527,
          -3.866666666666667,
          -2.666666666666667,
          4.334782608695653,
          -2.903125,
          1.5368852459016402,
          -3.4352159468438535,
          -4.4603174603174605,
          -5.614906832298137,
          0.40000000000000036,
          -0.36054421768707545,
          -5.44,
          -4.707142857142857,
          -2.890756302521009,
          -4.652777777777779,
          -3.166666666666667,
          0.4536231884057971,
          -1.3095238095238098,
          1.8163054695562435,
          -4.079710144927536,
          -2.1034482758620694,
          -4.083333333333333,
          -4.75,
          4.680851063829787,
          -6.147741147741147,
          -2.6454545454545455,
          -5.880952380952381,
          -2.688729874776387,
          -3.327956989247312,
          -4.484848484848484,
          -2.704081632653061,
          -3.524390243902439,
          -2.2020408163265306,
          -2.5888888888888886,
          -2.1952380952380954,
          -4.174242424242424,
          1.9824561403508776,
          -4.474747474747475,
          1.2342857142857144,
          -1.9555555555555553,
          -0.5375000000000001,
          -1.4,
          -0.838095238095238,
          0.006666666666666821,
          1.4705882352941178,
          -1.5
         ]
        }
       ],
       "layout": {
        "height": 800,
        "template": {
         "data": {
          "bar": [
           {
            "error_x": {
             "color": "rgb(36,36,36)"
            },
            "error_y": {
             "color": "rgb(36,36,36)"
            },
            "marker": {
             "line": {
              "color": "rgb(234,234,242)",
              "width": 0.5
             },
             "pattern": {
              "fillmode": "overlay",
              "size": 10,
              "solidity": 0.2
             }
            },
            "type": "bar"
           }
          ],
          "barpolar": [
           {
            "marker": {
             "line": {
              "color": "rgb(234,234,242)",
              "width": 0.5
             },
             "pattern": {
              "fillmode": "overlay",
              "size": 10,
              "solidity": 0.2
             }
            },
            "type": "barpolar"
           }
          ],
          "carpet": [
           {
            "aaxis": {
             "endlinecolor": "rgb(36,36,36)",
             "gridcolor": "white",
             "linecolor": "white",
             "minorgridcolor": "white",
             "startlinecolor": "rgb(36,36,36)"
            },
            "baxis": {
             "endlinecolor": "rgb(36,36,36)",
             "gridcolor": "white",
             "linecolor": "white",
             "minorgridcolor": "white",
             "startlinecolor": "rgb(36,36,36)"
            },
            "type": "carpet"
           }
          ],
          "choropleth": [
           {
            "colorbar": {
             "outlinewidth": 0,
             "tickcolor": "rgb(36,36,36)",
             "ticklen": 8,
             "ticks": "outside",
             "tickwidth": 2
            },
            "type": "choropleth"
           }
          ],
          "contour": [
           {
            "colorbar": {
             "outlinewidth": 0,
             "tickcolor": "rgb(36,36,36)",
             "ticklen": 8,
             "ticks": "outside",
             "tickwidth": 2
            },
            "colorscale": [
             [
              0,
              "rgb(2,4,25)"
             ],
             [
              0.06274509803921569,
              "rgb(24,15,41)"
             ],
             [
              0.12549019607843137,
              "rgb(47,23,57)"
             ],
             [
              0.18823529411764706,
              "rgb(71,28,72)"
             ],
             [
              0.25098039215686274,
              "rgb(97,30,82)"
             ],
             [
              0.3137254901960784,
              "rgb(123,30,89)"
             ],
             [
              0.3764705882352941,
              "rgb(150,27,91)"
             ],
             [
              0.4392156862745098,
              "rgb(177,22,88)"
             ],
             [
              0.5019607843137255,
              "rgb(203,26,79)"
             ],
             [
              0.5647058823529412,
              "rgb(223,47,67)"
             ],
             [
              0.6274509803921569,
              "rgb(236,76,61)"
             ],
             [
              0.6901960784313725,
              "rgb(242,107,73)"
             ],
             [
              0.7529411764705882,
              "rgb(244,135,95)"
             ],
             [
              0.8156862745098039,
              "rgb(245,162,122)"
             ],
             [
              0.8784313725490196,
              "rgb(246,188,153)"
             ],
             [
              0.9411764705882353,
              "rgb(247,212,187)"
             ],
             [
              1,
              "rgb(250,234,220)"
             ]
            ],
            "type": "contour"
           }
          ],
          "contourcarpet": [
           {
            "colorbar": {
             "outlinewidth": 0,
             "tickcolor": "rgb(36,36,36)",
             "ticklen": 8,
             "ticks": "outside",
             "tickwidth": 2
            },
            "type": "contourcarpet"
           }
          ],
          "heatmap": [
           {
            "colorbar": {
             "outlinewidth": 0,
             "tickcolor": "rgb(36,36,36)",
             "ticklen": 8,
             "ticks": "outside",
             "tickwidth": 2
            },
            "colorscale": [
             [
              0,
              "rgb(2,4,25)"
             ],
             [
              0.06274509803921569,
              "rgb(24,15,41)"
             ],
             [
              0.12549019607843137,
              "rgb(47,23,57)"
             ],
             [
              0.18823529411764706,
              "rgb(71,28,72)"
             ],
             [
              0.25098039215686274,
              "rgb(97,30,82)"
             ],
             [
              0.3137254901960784,
              "rgb(123,30,89)"
             ],
             [
              0.3764705882352941,
              "rgb(150,27,91)"
             ],
             [
              0.4392156862745098,
              "rgb(177,22,88)"
             ],
             [
              0.5019607843137255,
              "rgb(203,26,79)"
             ],
             [
              0.5647058823529412,
              "rgb(223,47,67)"
             ],
             [
              0.6274509803921569,
              "rgb(236,76,61)"
             ],
             [
              0.6901960784313725,
              "rgb(242,107,73)"
             ],
             [
              0.7529411764705882,
              "rgb(244,135,95)"
             ],
             [
              0.8156862745098039,
              "rgb(245,162,122)"
             ],
             [
              0.8784313725490196,
              "rgb(246,188,153)"
             ],
             [
              0.9411764705882353,
              "rgb(247,212,187)"
             ],
             [
              1,
              "rgb(250,234,220)"
             ]
            ],
            "type": "heatmap"
           }
          ],
          "heatmapgl": [
           {
            "colorbar": {
             "outlinewidth": 0,
             "tickcolor": "rgb(36,36,36)",
             "ticklen": 8,
             "ticks": "outside",
             "tickwidth": 2
            },
            "colorscale": [
             [
              0,
              "rgb(2,4,25)"
             ],
             [
              0.06274509803921569,
              "rgb(24,15,41)"
             ],
             [
              0.12549019607843137,
              "rgb(47,23,57)"
             ],
             [
              0.18823529411764706,
              "rgb(71,28,72)"
             ],
             [
              0.25098039215686274,
              "rgb(97,30,82)"
             ],
             [
              0.3137254901960784,
              "rgb(123,30,89)"
             ],
             [
              0.3764705882352941,
              "rgb(150,27,91)"
             ],
             [
              0.4392156862745098,
              "rgb(177,22,88)"
             ],
             [
              0.5019607843137255,
              "rgb(203,26,79)"
             ],
             [
              0.5647058823529412,
              "rgb(223,47,67)"
             ],
             [
              0.6274509803921569,
              "rgb(236,76,61)"
             ],
             [
              0.6901960784313725,
              "rgb(242,107,73)"
             ],
             [
              0.7529411764705882,
              "rgb(244,135,95)"
             ],
             [
              0.8156862745098039,
              "rgb(245,162,122)"
             ],
             [
              0.8784313725490196,
              "rgb(246,188,153)"
             ],
             [
              0.9411764705882353,
              "rgb(247,212,187)"
             ],
             [
              1,
              "rgb(250,234,220)"
             ]
            ],
            "type": "heatmapgl"
           }
          ],
          "histogram": [
           {
            "marker": {
             "pattern": {
              "fillmode": "overlay",
              "size": 10,
              "solidity": 0.2
             }
            },
            "type": "histogram"
           }
          ],
          "histogram2d": [
           {
            "colorbar": {
             "outlinewidth": 0,
             "tickcolor": "rgb(36,36,36)",
             "ticklen": 8,
             "ticks": "outside",
             "tickwidth": 2
            },
            "colorscale": [
             [
              0,
              "rgb(2,4,25)"
             ],
             [
              0.06274509803921569,
              "rgb(24,15,41)"
             ],
             [
              0.12549019607843137,
              "rgb(47,23,57)"
             ],
             [
              0.18823529411764706,
              "rgb(71,28,72)"
             ],
             [
              0.25098039215686274,
              "rgb(97,30,82)"
             ],
             [
              0.3137254901960784,
              "rgb(123,30,89)"
             ],
             [
              0.3764705882352941,
              "rgb(150,27,91)"
             ],
             [
              0.4392156862745098,
              "rgb(177,22,88)"
             ],
             [
              0.5019607843137255,
              "rgb(203,26,79)"
             ],
             [
              0.5647058823529412,
              "rgb(223,47,67)"
             ],
             [
              0.6274509803921569,
              "rgb(236,76,61)"
             ],
             [
              0.6901960784313725,
              "rgb(242,107,73)"
             ],
             [
              0.7529411764705882,
              "rgb(244,135,95)"
             ],
             [
              0.8156862745098039,
              "rgb(245,162,122)"
             ],
             [
              0.8784313725490196,
              "rgb(246,188,153)"
             ],
             [
              0.9411764705882353,
              "rgb(247,212,187)"
             ],
             [
              1,
              "rgb(250,234,220)"
             ]
            ],
            "type": "histogram2d"
           }
          ],
          "histogram2dcontour": [
           {
            "colorbar": {
             "outlinewidth": 0,
             "tickcolor": "rgb(36,36,36)",
             "ticklen": 8,
             "ticks": "outside",
             "tickwidth": 2
            },
            "colorscale": [
             [
              0,
              "rgb(2,4,25)"
             ],
             [
              0.06274509803921569,
              "rgb(24,15,41)"
             ],
             [
              0.12549019607843137,
              "rgb(47,23,57)"
             ],
             [
              0.18823529411764706,
              "rgb(71,28,72)"
             ],
             [
              0.25098039215686274,
              "rgb(97,30,82)"
             ],
             [
              0.3137254901960784,
              "rgb(123,30,89)"
             ],
             [
              0.3764705882352941,
              "rgb(150,27,91)"
             ],
             [
              0.4392156862745098,
              "rgb(177,22,88)"
             ],
             [
              0.5019607843137255,
              "rgb(203,26,79)"
             ],
             [
              0.5647058823529412,
              "rgb(223,47,67)"
             ],
             [
              0.6274509803921569,
              "rgb(236,76,61)"
             ],
             [
              0.6901960784313725,
              "rgb(242,107,73)"
             ],
             [
              0.7529411764705882,
              "rgb(244,135,95)"
             ],
             [
              0.8156862745098039,
              "rgb(245,162,122)"
             ],
             [
              0.8784313725490196,
              "rgb(246,188,153)"
             ],
             [
              0.9411764705882353,
              "rgb(247,212,187)"
             ],
             [
              1,
              "rgb(250,234,220)"
             ]
            ],
            "type": "histogram2dcontour"
           }
          ],
          "mesh3d": [
           {
            "colorbar": {
             "outlinewidth": 0,
             "tickcolor": "rgb(36,36,36)",
             "ticklen": 8,
             "ticks": "outside",
             "tickwidth": 2
            },
            "type": "mesh3d"
           }
          ],
          "parcoords": [
           {
            "line": {
             "colorbar": {
              "outlinewidth": 0,
              "tickcolor": "rgb(36,36,36)",
              "ticklen": 8,
              "ticks": "outside",
              "tickwidth": 2
             }
            },
            "type": "parcoords"
           }
          ],
          "pie": [
           {
            "automargin": true,
            "type": "pie"
           }
          ],
          "scatter": [
           {
            "fillpattern": {
             "fillmode": "overlay",
             "size": 10,
             "solidity": 0.2
            },
            "type": "scatter"
           }
          ],
          "scatter3d": [
           {
            "line": {
             "colorbar": {
              "outlinewidth": 0,
              "tickcolor": "rgb(36,36,36)",
              "ticklen": 8,
              "ticks": "outside",
              "tickwidth": 2
             }
            },
            "marker": {
             "colorbar": {
              "outlinewidth": 0,
              "tickcolor": "rgb(36,36,36)",
              "ticklen": 8,
              "ticks": "outside",
              "tickwidth": 2
             }
            },
            "type": "scatter3d"
           }
          ],
          "scattercarpet": [
           {
            "marker": {
             "colorbar": {
              "outlinewidth": 0,
              "tickcolor": "rgb(36,36,36)",
              "ticklen": 8,
              "ticks": "outside",
              "tickwidth": 2
             }
            },
            "type": "scattercarpet"
           }
          ],
          "scattergeo": [
           {
            "marker": {
             "colorbar": {
              "outlinewidth": 0,
              "tickcolor": "rgb(36,36,36)",
              "ticklen": 8,
              "ticks": "outside",
              "tickwidth": 2
             }
            },
            "type": "scattergeo"
           }
          ],
          "scattergl": [
           {
            "marker": {
             "colorbar": {
              "outlinewidth": 0,
              "tickcolor": "rgb(36,36,36)",
              "ticklen": 8,
              "ticks": "outside",
              "tickwidth": 2
             }
            },
            "type": "scattergl"
           }
          ],
          "scattermapbox": [
           {
            "marker": {
             "colorbar": {
              "outlinewidth": 0,
              "tickcolor": "rgb(36,36,36)",
              "ticklen": 8,
              "ticks": "outside",
              "tickwidth": 2
             }
            },
            "type": "scattermapbox"
           }
          ],
          "scatterpolar": [
           {
            "marker": {
             "colorbar": {
              "outlinewidth": 0,
              "tickcolor": "rgb(36,36,36)",
              "ticklen": 8,
              "ticks": "outside",
              "tickwidth": 2
             }
            },
            "type": "scatterpolar"
           }
          ],
          "scatterpolargl": [
           {
            "marker": {
             "colorbar": {
              "outlinewidth": 0,
              "tickcolor": "rgb(36,36,36)",
              "ticklen": 8,
              "ticks": "outside",
              "tickwidth": 2
             }
            },
            "type": "scatterpolargl"
           }
          ],
          "scatterternary": [
           {
            "marker": {
             "colorbar": {
              "outlinewidth": 0,
              "tickcolor": "rgb(36,36,36)",
              "ticklen": 8,
              "ticks": "outside",
              "tickwidth": 2
             }
            },
            "type": "scatterternary"
           }
          ],
          "surface": [
           {
            "colorbar": {
             "outlinewidth": 0,
             "tickcolor": "rgb(36,36,36)",
             "ticklen": 8,
             "ticks": "outside",
             "tickwidth": 2
            },
            "colorscale": [
             [
              0,
              "rgb(2,4,25)"
             ],
             [
              0.06274509803921569,
              "rgb(24,15,41)"
             ],
             [
              0.12549019607843137,
              "rgb(47,23,57)"
             ],
             [
              0.18823529411764706,
              "rgb(71,28,72)"
             ],
             [
              0.25098039215686274,
              "rgb(97,30,82)"
             ],
             [
              0.3137254901960784,
              "rgb(123,30,89)"
             ],
             [
              0.3764705882352941,
              "rgb(150,27,91)"
             ],
             [
              0.4392156862745098,
              "rgb(177,22,88)"
             ],
             [
              0.5019607843137255,
              "rgb(203,26,79)"
             ],
             [
              0.5647058823529412,
              "rgb(223,47,67)"
             ],
             [
              0.6274509803921569,
              "rgb(236,76,61)"
             ],
             [
              0.6901960784313725,
              "rgb(242,107,73)"
             ],
             [
              0.7529411764705882,
              "rgb(244,135,95)"
             ],
             [
              0.8156862745098039,
              "rgb(245,162,122)"
             ],
             [
              0.8784313725490196,
              "rgb(246,188,153)"
             ],
             [
              0.9411764705882353,
              "rgb(247,212,187)"
             ],
             [
              1,
              "rgb(250,234,220)"
             ]
            ],
            "type": "surface"
           }
          ],
          "table": [
           {
            "cells": {
             "fill": {
              "color": "rgb(231,231,240)"
             },
             "line": {
              "color": "white"
             }
            },
            "header": {
             "fill": {
              "color": "rgb(183,183,191)"
             },
             "line": {
              "color": "white"
             }
            },
            "type": "table"
           }
          ]
         },
         "layout": {
          "annotationdefaults": {
           "arrowcolor": "rgb(67,103,167)"
          },
          "autotypenumbers": "strict",
          "coloraxis": {
           "colorbar": {
            "outlinewidth": 0,
            "tickcolor": "rgb(36,36,36)",
            "ticklen": 8,
            "ticks": "outside",
            "tickwidth": 2
           }
          },
          "colorscale": {
           "sequential": [
            [
             0,
             "rgb(2,4,25)"
            ],
            [
             0.06274509803921569,
             "rgb(24,15,41)"
            ],
            [
             0.12549019607843137,
             "rgb(47,23,57)"
            ],
            [
             0.18823529411764706,
             "rgb(71,28,72)"
            ],
            [
             0.25098039215686274,
             "rgb(97,30,82)"
            ],
            [
             0.3137254901960784,
             "rgb(123,30,89)"
            ],
            [
             0.3764705882352941,
             "rgb(150,27,91)"
            ],
            [
             0.4392156862745098,
             "rgb(177,22,88)"
            ],
            [
             0.5019607843137255,
             "rgb(203,26,79)"
            ],
            [
             0.5647058823529412,
             "rgb(223,47,67)"
            ],
            [
             0.6274509803921569,
             "rgb(236,76,61)"
            ],
            [
             0.6901960784313725,
             "rgb(242,107,73)"
            ],
            [
             0.7529411764705882,
             "rgb(244,135,95)"
            ],
            [
             0.8156862745098039,
             "rgb(245,162,122)"
            ],
            [
             0.8784313725490196,
             "rgb(246,188,153)"
            ],
            [
             0.9411764705882353,
             "rgb(247,212,187)"
            ],
            [
             1,
             "rgb(250,234,220)"
            ]
           ],
           "sequentialminus": [
            [
             0,
             "rgb(2,4,25)"
            ],
            [
             0.06274509803921569,
             "rgb(24,15,41)"
            ],
            [
             0.12549019607843137,
             "rgb(47,23,57)"
            ],
            [
             0.18823529411764706,
             "rgb(71,28,72)"
            ],
            [
             0.25098039215686274,
             "rgb(97,30,82)"
            ],
            [
             0.3137254901960784,
             "rgb(123,30,89)"
            ],
            [
             0.3764705882352941,
             "rgb(150,27,91)"
            ],
            [
             0.4392156862745098,
             "rgb(177,22,88)"
            ],
            [
             0.5019607843137255,
             "rgb(203,26,79)"
            ],
            [
             0.5647058823529412,
             "rgb(223,47,67)"
            ],
            [
             0.6274509803921569,
             "rgb(236,76,61)"
            ],
            [
             0.6901960784313725,
             "rgb(242,107,73)"
            ],
            [
             0.7529411764705882,
             "rgb(244,135,95)"
            ],
            [
             0.8156862745098039,
             "rgb(245,162,122)"
            ],
            [
             0.8784313725490196,
             "rgb(246,188,153)"
            ],
            [
             0.9411764705882353,
             "rgb(247,212,187)"
            ],
            [
             1,
             "rgb(250,234,220)"
            ]
           ]
          },
          "colorway": [
           "rgb(76,114,176)",
           "rgb(221,132,82)",
           "rgb(85,168,104)",
           "rgb(196,78,82)",
           "rgb(129,114,179)",
           "rgb(147,120,96)",
           "rgb(218,139,195)",
           "rgb(140,140,140)",
           "rgb(204,185,116)",
           "rgb(100,181,205)"
          ],
          "font": {
           "color": "rgb(36,36,36)"
          },
          "geo": {
           "bgcolor": "white",
           "lakecolor": "white",
           "landcolor": "rgb(234,234,242)",
           "showlakes": true,
           "showland": true,
           "subunitcolor": "white"
          },
          "hoverlabel": {
           "align": "left"
          },
          "hovermode": "closest",
          "paper_bgcolor": "white",
          "plot_bgcolor": "rgb(234,234,242)",
          "polar": {
           "angularaxis": {
            "gridcolor": "white",
            "linecolor": "white",
            "showgrid": true,
            "ticks": ""
           },
           "bgcolor": "rgb(234,234,242)",
           "radialaxis": {
            "gridcolor": "white",
            "linecolor": "white",
            "showgrid": true,
            "ticks": ""
           }
          },
          "scene": {
           "xaxis": {
            "backgroundcolor": "rgb(234,234,242)",
            "gridcolor": "white",
            "gridwidth": 2,
            "linecolor": "white",
            "showbackground": true,
            "showgrid": true,
            "ticks": "",
            "zerolinecolor": "white"
           },
           "yaxis": {
            "backgroundcolor": "rgb(234,234,242)",
            "gridcolor": "white",
            "gridwidth": 2,
            "linecolor": "white",
            "showbackground": true,
            "showgrid": true,
            "ticks": "",
            "zerolinecolor": "white"
           },
           "zaxis": {
            "backgroundcolor": "rgb(234,234,242)",
            "gridcolor": "white",
            "gridwidth": 2,
            "linecolor": "white",
            "showbackground": true,
            "showgrid": true,
            "ticks": "",
            "zerolinecolor": "white"
           }
          },
          "shapedefaults": {
           "fillcolor": "rgb(67,103,167)",
           "line": {
            "width": 0
           },
           "opacity": 0.5
          },
          "ternary": {
           "aaxis": {
            "gridcolor": "white",
            "linecolor": "white",
            "showgrid": true,
            "ticks": ""
           },
           "baxis": {
            "gridcolor": "white",
            "linecolor": "white",
            "showgrid": true,
            "ticks": ""
           },
           "bgcolor": "rgb(234,234,242)",
           "caxis": {
            "gridcolor": "white",
            "linecolor": "white",
            "showgrid": true,
            "ticks": ""
           }
          },
          "xaxis": {
           "automargin": true,
           "gridcolor": "white",
           "linecolor": "white",
           "showgrid": true,
           "ticks": "",
           "title": {
            "standoff": 15
           },
           "zerolinecolor": "white"
          },
          "yaxis": {
           "automargin": true,
           "gridcolor": "white",
           "linecolor": "white",
           "showgrid": true,
           "ticks": "",
           "title": {
            "standoff": 15
           },
           "zerolinecolor": "white"
          }
         }
        },
        "title": {
         "text": "Difference in Playoff and Regular Season PER for Each Player in the 2023-2024 season"
        },
        "width": 4500,
        "xaxis": {
         "title": {
          "text": "Player"
         }
        },
        "yaxis": {
         "title": {
          "text": "Playoff and Regular Season PER Difference"
         }
        }
       }
      }
     },
     "metadata": {},
     "output_type": "display_data"
    }
   ],
   "source": [
    "# Using a plotly bar graph for interactivity\n",
    "fig = go.Figure(data=[\n",
    "    go.Bar(x=eff_df['PLAYER_reg'], y=eff_df['EFF_diff'])\n",
    "])\n",
    "\n",
    "fig.update_layout(\n",
    "    title='Difference in Playoff and Regular Season PER for Each Player in the 2023-2024 season',\n",
    "    xaxis_title='Player',\n",
    "    yaxis_title='Playoff and Regular Season PER Difference',\n",
    "    height=800, width=4500,\n",
    "    template='seaborn'\n",
    ")\n",
    "\n",
    "\n",
    "fig.show()\n"
   ]
  },
  {
   "cell_type": "markdown",
   "metadata": {},
   "source": [
    "### Let's get a sense of how the data is distributed. We will calculate the moments of the distribution to start. The skewness and kurtosis are quite close to 0, so we will assume that the data is normally distributed when we create the distribution plot. It seems like players tend to play worse in the playoffs, at least for this season."
   ]
  },
  {
   "cell_type": "code",
   "execution_count": 206,
   "metadata": {},
   "outputs": [
    {
     "name": "stdout",
     "output_type": "stream",
     "text": [
      "Mean: -2.1139269553466624 \n",
      "Std Dev: 3.6781457478385406 \n",
      "Skewness=0.11117729383780259 \n",
      "Kurtosis: -0.14624723901546677\n"
     ]
    }
   ],
   "source": [
    "mean, std_dev, skewness, kurt = np.mean(eff_df['EFF_diff']), np.std(eff_df['EFF_diff']), skew(eff_df['EFF_diff']), kurtosis(eff_df['EFF_diff'])\n",
    "print(f'Mean: {mean} \\nStd Dev: {std_dev} \\nSkewness={skewness} \\nKurtosis: {kurt}')"
   ]
  },
  {
   "cell_type": "code",
   "execution_count": 207,
   "metadata": {},
   "outputs": [
    {
     "data": {
      "image/png": "[encoded data removed]",
      "text/plain": [
       "<Figure size 1400x700 with 1 Axes>"
      ]
     },
     "metadata": {},
     "output_type": "display_data"
    }
   ],
   "source": [
    "import numpy as np\n",
    "import matplotlib.pyplot as plt\n",
    "from scipy.stats import norm\n",
    "\n",
    "# Plot the histogram\n",
    "plt.figure(figsize=(14, 7))\n",
    "count, bins, ignored = plt.hist(eff_df['EFF_diff'], bins=30, alpha=0.4, color='b', density=False)\n",
    "\n",
    "# Calculate the normal distribution curve scaled to histogram\n",
    "bin_centers = 0.5 * (bins[1:] + bins[:-1])\n",
    "pdf = norm.pdf(bin_centers, mean, std_dev) * sum(count) * np.diff(bins)\n",
    "\n",
    "# Plot the normal distribution curve\n",
    "plt.plot(bin_centers, pdf, color='red', linewidth=2)\n",
    "\n",
    "plt.title('Distribution of PER Difference Between Playoffs and Regular Season with Normal Distribution')\n",
    "plt.xlabel('PER Difference (Playoffs - Regular Season)')\n",
    "plt.ylabel('Frequency')\n",
    "\n",
    "plt.grid(True)\n",
    "plt.show()"
   ]
  },
  {
   "cell_type": "markdown",
   "metadata": {},
   "source": [
    "### Finally, let's find out who step up their game for the playoffs and who underperforms their norm. We'll take a look at the top/bottom in either category. To do this, we will find the top 5% and bottom 5% of players who change their game in the playoffs. We do this by calculating:\n",
    "\n",
    "\\begin{align}\n",
    "top5\\% = EFF\\_diff >= μ + 1.645σ \\newline\n",
    "\n",
    "bottom5\\% = EFF\\_diff <= μ - 1.645σ\n",
    "\\end{align}"
   ]
  },
  {
   "cell_type": "code",
   "execution_count": 214,
   "metadata": {},
   "outputs": [
    {
     "data": {
      "text/html": [
       "<div>\n",
       "<style scoped>\n",
       "    .dataframe tbody tr th:only-of-type {\n",
       "        vertical-align: middle;\n",
       "    }\n",
       "\n",
       "    .dataframe tbody tr th {\n",
       "        vertical-align: top;\n",
       "    }\n",
       "\n",
       "    .dataframe thead th {\n",
       "        text-align: right;\n",
       "    }\n",
       "</style>\n",
       "<table border=\"1\" class=\"dataframe\">\n",
       "  <thead>\n",
       "    <tr style=\"text-align: right;\">\n",
       "      <th></th>\n",
       "      <th>PLAYER_ID</th>\n",
       "      <th>PLAYER_reg</th>\n",
       "      <th>EFF_reg</th>\n",
       "      <th>EFF_poff</th>\n",
       "      <th>EFF_diff</th>\n",
       "    </tr>\n",
       "  </thead>\n",
       "  <tbody>\n",
       "    <tr>\n",
       "      <th>74</th>\n",
       "      <td>203114</td>\n",
       "      <td>Khris Middleton</td>\n",
       "      <td>17.636364</td>\n",
       "      <td>26.500000</td>\n",
       "      <td>8.863636</td>\n",
       "    </tr>\n",
       "    <tr>\n",
       "      <th>97</th>\n",
       "      <td>1629614</td>\n",
       "      <td>Andrew Nembhard</td>\n",
       "      <td>10.911765</td>\n",
       "      <td>17.882353</td>\n",
       "      <td>6.970588</td>\n",
       "    </tr>\n",
       "    <tr>\n",
       "      <th>90</th>\n",
       "      <td>202692</td>\n",
       "      <td>Alec Burks</td>\n",
       "      <td>8.151515</td>\n",
       "      <td>14.500000</td>\n",
       "      <td>6.348485</td>\n",
       "    </tr>\n",
       "    <tr>\n",
       "      <th>7</th>\n",
       "      <td>203076</td>\n",
       "      <td>Anthony Davis</td>\n",
       "      <td>33.526316</td>\n",
       "      <td>39.400000</td>\n",
       "      <td>5.873684</td>\n",
       "    </tr>\n",
       "    <tr>\n",
       "      <th>82</th>\n",
       "      <td>1628404</td>\n",
       "      <td>Josh Hart</td>\n",
       "      <td>16.530864</td>\n",
       "      <td>22.307692</td>\n",
       "      <td>5.776828</td>\n",
       "    </tr>\n",
       "    <tr>\n",
       "      <th>164</th>\n",
       "      <td>1626153</td>\n",
       "      <td>Delon Wright</td>\n",
       "      <td>7.319149</td>\n",
       "      <td>12.000000</td>\n",
       "      <td>4.680851</td>\n",
       "    </tr>\n",
       "    <tr>\n",
       "      <th>4</th>\n",
       "      <td>1630162</td>\n",
       "      <td>Anthony Edwards</td>\n",
       "      <td>23.582278</td>\n",
       "      <td>28.187500</td>\n",
       "      <td>4.605222</td>\n",
       "    </tr>\n",
       "    <tr>\n",
       "      <th>10</th>\n",
       "      <td>1630178</td>\n",
       "      <td>Tyrese Maxey</td>\n",
       "      <td>23.742857</td>\n",
       "      <td>28.333333</td>\n",
       "      <td>4.590476</td>\n",
       "    </tr>\n",
       "    <tr>\n",
       "      <th>135</th>\n",
       "      <td>1631107</td>\n",
       "      <td>Nikola Jovic</td>\n",
       "      <td>10.065217</td>\n",
       "      <td>14.400000</td>\n",
       "      <td>4.334783</td>\n",
       "    </tr>\n",
       "    <tr>\n",
       "      <th>122</th>\n",
       "      <td>201976</td>\n",
       "      <td>Patrick Beverley</td>\n",
       "      <td>9.232877</td>\n",
       "      <td>13.500000</td>\n",
       "      <td>4.267123</td>\n",
       "    </tr>\n",
       "  </tbody>\n",
       "</table>\n",
       "</div>"
      ],
      "text/plain": [
       "     PLAYER_ID        PLAYER_reg    EFF_reg   EFF_poff  EFF_diff\n",
       "74      203114   Khris Middleton  17.636364  26.500000  8.863636\n",
       "97     1629614   Andrew Nembhard  10.911765  17.882353  6.970588\n",
       "90      202692        Alec Burks   8.151515  14.500000  6.348485\n",
       "7       203076     Anthony Davis  33.526316  39.400000  5.873684\n",
       "82     1628404         Josh Hart  16.530864  22.307692  5.776828\n",
       "164    1626153      Delon Wright   7.319149  12.000000  4.680851\n",
       "4      1630162   Anthony Edwards  23.582278  28.187500  4.605222\n",
       "10     1630178      Tyrese Maxey  23.742857  28.333333  4.590476\n",
       "135    1631107      Nikola Jovic  10.065217  14.400000  4.334783\n",
       "122     201976  Patrick Beverley   9.232877  13.500000  4.267123"
      ]
     },
     "metadata": {},
     "output_type": "display_data"
    },
    {
     "data": {
      "text/html": [
       "<div>\n",
       "<style scoped>\n",
       "    .dataframe tbody tr th:only-of-type {\n",
       "        vertical-align: middle;\n",
       "    }\n",
       "\n",
       "    .dataframe tbody tr th {\n",
       "        vertical-align: top;\n",
       "    }\n",
       "\n",
       "    .dataframe thead th {\n",
       "        text-align: right;\n",
       "    }\n",
       "</style>\n",
       "<table border=\"1\" class=\"dataframe\">\n",
       "  <thead>\n",
       "    <tr style=\"text-align: right;\">\n",
       "      <th></th>\n",
       "      <th>PLAYER_ID</th>\n",
       "      <th>PLAYER_reg</th>\n",
       "      <th>EFF_reg</th>\n",
       "      <th>EFF_poff</th>\n",
       "      <th>EFF_diff</th>\n",
       "    </tr>\n",
       "  </thead>\n",
       "  <tbody>\n",
       "    <tr>\n",
       "      <th>100</th>\n",
       "      <td>1630188</td>\n",
       "      <td>Jalen Smith</td>\n",
       "      <td>13.426230</td>\n",
       "      <td>2.857143</td>\n",
       "      <td>-10.569087</td>\n",
       "    </tr>\n",
       "    <tr>\n",
       "      <th>61</th>\n",
       "      <td>1629130</td>\n",
       "      <td>Duncan Robinson</td>\n",
       "      <td>12.147059</td>\n",
       "      <td>2.000000</td>\n",
       "      <td>-10.147059</td>\n",
       "    </tr>\n",
       "    <tr>\n",
       "      <th>114</th>\n",
       "      <td>202330</td>\n",
       "      <td>Gordon Hayward</td>\n",
       "      <td>11.352941</td>\n",
       "      <td>2.142857</td>\n",
       "      <td>-9.210084</td>\n",
       "    </tr>\n",
       "    <tr>\n",
       "      <th>102</th>\n",
       "      <td>1630194</td>\n",
       "      <td>Paul Reed</td>\n",
       "      <td>12.634146</td>\n",
       "      <td>3.666667</td>\n",
       "      <td>-8.967480</td>\n",
       "    </tr>\n",
       "    <tr>\n",
       "      <th>28</th>\n",
       "      <td>1627742</td>\n",
       "      <td>Brandon Ingram</td>\n",
       "      <td>21.375000</td>\n",
       "      <td>12.500000</td>\n",
       "      <td>-8.875000</td>\n",
       "    </tr>\n",
       "    <tr>\n",
       "      <th>84</th>\n",
       "      <td>201566</td>\n",
       "      <td>Russell Westbrook</td>\n",
       "      <td>13.882353</td>\n",
       "      <td>5.166667</td>\n",
       "      <td>-8.715686</td>\n",
       "    </tr>\n",
       "    <tr>\n",
       "      <th>37</th>\n",
       "      <td>204001</td>\n",
       "      <td>Kristaps Porzingis</td>\n",
       "      <td>23.263158</td>\n",
       "      <td>14.571429</td>\n",
       "      <td>-8.691729</td>\n",
       "    </tr>\n",
       "    <tr>\n",
       "      <th>116</th>\n",
       "      <td>201567</td>\n",
       "      <td>Kevin Love</td>\n",
       "      <td>12.618182</td>\n",
       "      <td>4.000000</td>\n",
       "      <td>-8.618182</td>\n",
       "    </tr>\n",
       "    <tr>\n",
       "      <th>80</th>\n",
       "      <td>1627777</td>\n",
       "      <td>Georges Niang</td>\n",
       "      <td>9.304878</td>\n",
       "      <td>1.000000</td>\n",
       "      <td>-8.304878</td>\n",
       "    </tr>\n",
       "  </tbody>\n",
       "</table>\n",
       "</div>"
      ],
      "text/plain": [
       "     PLAYER_ID          PLAYER_reg    EFF_reg   EFF_poff   EFF_diff\n",
       "100    1630188         Jalen Smith  13.426230   2.857143 -10.569087\n",
       "61     1629130     Duncan Robinson  12.147059   2.000000 -10.147059\n",
       "114     202330      Gordon Hayward  11.352941   2.142857  -9.210084\n",
       "102    1630194           Paul Reed  12.634146   3.666667  -8.967480\n",
       "28     1627742      Brandon Ingram  21.375000  12.500000  -8.875000\n",
       "84      201566   Russell Westbrook  13.882353   5.166667  -8.715686\n",
       "37      204001  Kristaps Porzingis  23.263158  14.571429  -8.691729\n",
       "116     201567          Kevin Love  12.618182   4.000000  -8.618182\n",
       "80     1627777       Georges Niang   9.304878   1.000000  -8.304878"
      ]
     },
     "metadata": {},
     "output_type": "display_data"
    }
   ],
   "source": [
    "top5pct = mean + 1.645*std_dev\n",
    "bottom5pct = mean - 1.645*std_dev\n",
    "\n",
    "top_performers = eff_df[eff_df['EFF_diff']>=top5pct].sort_values(by='EFF_diff', ascending=False)\n",
    "worst_performers = eff_df[eff_df['EFF_diff']<=bottom5pct].sort_values(by='EFF_diff')\n",
    "\n",
    "display(top_performers)\n",
    "display(worst_performers)"
   ]
  },
  {
   "cell_type": "markdown",
   "metadata": {},
   "source": [
    "# Conclusion\n",
    "### Through this analysis, we are able to roughly see how player performances change from the transition in regular season to playoffs. Note that this measurement does not truly encapsulate player performance; if a player averages a EFF rating of 34 for the regular season and averages 30 during the playoffs, they are still playing incredibly efficient. This is more so for us to view how players that may not do so well during the regular season perform at an elite level, and vice versa. Perhaps a more captivating statistic to use is the PER, which scales the importance of player's stats based off of how it contributes to the team performance.\n",
    "\n",
    "### In any case, I hope you enjoyed this analysis. Upvotes, comments, and feedback is always appreciated. Thank you!"
   ]
  }
 ],
 "metadata": {
  "kernelspec": {
   "display_name": "base",
   "language": "python",
   "name": "python3"
  },
  "language_info": {
   "codemirror_mode": {
    "name": "ipython",
    "version": 3
   },
   "file_extension": ".py",
   "mimetype": "text/x-python",
   "name": "python",
   "nbconvert_exporter": "python",
   "pygments_lexer": "ipython3",
   "version": "3.11.7"
  }
 },
 "nbformat": 4,
 "nbformat_minor": 2
}
