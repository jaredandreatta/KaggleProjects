{
 "cells": [
  {
   "cell_type": "markdown",
   "metadata": {},
   "source": [
    "## Hello. This notebook is an EDA for this dataset and provides some basic visualizations for the data. I'm new to data science and this is my first time using plotly, so any upvotes and feedbacks are valued. Thank you! ##"
   ]
  },
  {
   "cell_type": "code",
   "execution_count": 186,
   "metadata": {},
   "outputs": [
    {
     "data": {
      "text/plain": [
       "'C:\\\\Users\\\\Jared\\\\anaconda3\\\\python.exe'"
      ]
     },
     "execution_count": 186,
     "metadata": {},
     "output_type": "execute_result"
    }
   ],
   "source": [
    "import numpy\n",
    "import pandas as pd\n",
    "import matplotlib\n",
    "from matplotlib import pyplot as plt\n",
    "import plotly\n",
    "import seaborn as sns"
   ]
  },
  {
   "cell_type": "code",
   "execution_count": 187,
   "metadata": {},
   "outputs": [],
   "source": [
    "%matplotlib inline"
   ]
  },
  {
   "cell_type": "code",
   "execution_count": 188,
   "metadata": {},
   "outputs": [
    {
     "data": {
      "text/html": [
       "<div>\n",
       "<style scoped>\n",
       "    .dataframe tbody tr th:only-of-type {\n",
       "        vertical-align: middle;\n",
       "    }\n",
       "\n",
       "    .dataframe tbody tr th {\n",
       "        vertical-align: top;\n",
       "    }\n",
       "\n",
       "    .dataframe thead th {\n",
       "        text-align: right;\n",
       "    }\n",
       "</style>\n",
       "<table border=\"1\" class=\"dataframe\">\n",
       "  <thead>\n",
       "    <tr style=\"text-align: right;\">\n",
       "      <th></th>\n",
       "      <th>Year</th>\n",
       "      <th>Country</th>\n",
       "      <th>SolarEnergy</th>\n",
       "      <th>WindEnergy</th>\n",
       "      <th>HydroEnergy</th>\n",
       "      <th>OtherRenewableEnergy</th>\n",
       "      <th>TotalRenewableEnergy</th>\n",
       "    </tr>\n",
       "  </thead>\n",
       "  <tbody>\n",
       "    <tr>\n",
       "      <th>0</th>\n",
       "      <td>2000</td>\n",
       "      <td>USA</td>\n",
       "      <td>437.086107</td>\n",
       "      <td>1435.928598</td>\n",
       "      <td>1544.389701</td>\n",
       "      <td>319.396318</td>\n",
       "      <td>3736.800724</td>\n",
       "    </tr>\n",
       "    <tr>\n",
       "      <th>1</th>\n",
       "      <td>2001</td>\n",
       "      <td>USA</td>\n",
       "      <td>240.416776</td>\n",
       "      <td>402.792876</td>\n",
       "      <td>398.742141</td>\n",
       "      <td>439.779266</td>\n",
       "      <td>1481.731059</td>\n",
       "    </tr>\n",
       "    <tr>\n",
       "      <th>2</th>\n",
       "      <td>2002</td>\n",
       "      <td>USA</td>\n",
       "      <td>641.003511</td>\n",
       "      <td>1120.494351</td>\n",
       "      <td>334.993640</td>\n",
       "      <td>486.459433</td>\n",
       "      <td>2582.950935</td>\n",
       "    </tr>\n",
       "    <tr>\n",
       "      <th>3</th>\n",
       "      <td>2003</td>\n",
       "      <td>USA</td>\n",
       "      <td>849.198377</td>\n",
       "      <td>476.040844</td>\n",
       "      <td>609.102444</td>\n",
       "      <td>132.532029</td>\n",
       "      <td>2066.873694</td>\n",
       "    </tr>\n",
       "    <tr>\n",
       "      <th>4</th>\n",
       "      <td>2004</td>\n",
       "      <td>USA</td>\n",
       "      <td>373.818019</td>\n",
       "      <td>882.183361</td>\n",
       "      <td>1034.306532</td>\n",
       "      <td>181.053113</td>\n",
       "      <td>2471.361025</td>\n",
       "    </tr>\n",
       "  </tbody>\n",
       "</table>\n",
       "</div>"
      ],
      "text/plain": [
       "   Year Country  SolarEnergy   WindEnergy  HydroEnergy  OtherRenewableEnergy  \\\n",
       "0  2000     USA   437.086107  1435.928598  1544.389701            319.396318   \n",
       "1  2001     USA   240.416776   402.792876   398.742141            439.779266   \n",
       "2  2002     USA   641.003511  1120.494351   334.993640            486.459433   \n",
       "3  2003     USA   849.198377   476.040844   609.102444            132.532029   \n",
       "4  2004     USA   373.818019   882.183361  1034.306532            181.053113   \n",
       "\n",
       "   TotalRenewableEnergy  \n",
       "0           3736.800724  \n",
       "1           1481.731059  \n",
       "2           2582.950935  \n",
       "3           2066.873694  \n",
       "4           2471.361025  "
      ]
     },
     "execution_count": 188,
     "metadata": {},
     "output_type": "execute_result"
    }
   ],
   "source": [
    "df = pd.read_csv('global_renewable_energy_production.csv')\n",
    "df.head()"
   ]
  },
  {
   "cell_type": "code",
   "execution_count": 189,
   "metadata": {},
   "outputs": [
    {
     "data": {
      "text/html": [
       "<div>\n",
       "<style scoped>\n",
       "    .dataframe tbody tr th:only-of-type {\n",
       "        vertical-align: middle;\n",
       "    }\n",
       "\n",
       "    .dataframe tbody tr th {\n",
       "        vertical-align: top;\n",
       "    }\n",
       "\n",
       "    .dataframe thead th {\n",
       "        text-align: right;\n",
       "    }\n",
       "</style>\n",
       "<table border=\"1\" class=\"dataframe\">\n",
       "  <thead>\n",
       "    <tr style=\"text-align: right;\">\n",
       "      <th></th>\n",
       "      <th>Year</th>\n",
       "      <th>SolarEnergy</th>\n",
       "      <th>WindEnergy</th>\n",
       "      <th>HydroEnergy</th>\n",
       "      <th>OtherRenewableEnergy</th>\n",
       "      <th>TotalRenewableEnergy</th>\n",
       "    </tr>\n",
       "  </thead>\n",
       "  <tbody>\n",
       "    <tr>\n",
       "      <th>count</th>\n",
       "      <td>240.000000</td>\n",
       "      <td>240.000000</td>\n",
       "      <td>240.000000</td>\n",
       "      <td>240.000000</td>\n",
       "      <td>240.000000</td>\n",
       "      <td>240.000000</td>\n",
       "    </tr>\n",
       "    <tr>\n",
       "      <th>mean</th>\n",
       "      <td>2011.500000</td>\n",
       "      <td>528.523858</td>\n",
       "      <td>857.133260</td>\n",
       "      <td>1076.581975</td>\n",
       "      <td>287.127554</td>\n",
       "      <td>2749.366647</td>\n",
       "    </tr>\n",
       "    <tr>\n",
       "      <th>std</th>\n",
       "      <td>6.936653</td>\n",
       "      <td>271.183089</td>\n",
       "      <td>375.020314</td>\n",
       "      <td>499.981598</td>\n",
       "      <td>128.460792</td>\n",
       "      <td>695.126957</td>\n",
       "    </tr>\n",
       "    <tr>\n",
       "      <th>min</th>\n",
       "      <td>2000.000000</td>\n",
       "      <td>104.555425</td>\n",
       "      <td>206.021630</td>\n",
       "      <td>320.662607</td>\n",
       "      <td>54.876943</td>\n",
       "      <td>910.381025</td>\n",
       "    </tr>\n",
       "    <tr>\n",
       "      <th>25%</th>\n",
       "      <td>2005.750000</td>\n",
       "      <td>284.700505</td>\n",
       "      <td>523.572495</td>\n",
       "      <td>593.796081</td>\n",
       "      <td>176.322725</td>\n",
       "      <td>2250.759951</td>\n",
       "    </tr>\n",
       "    <tr>\n",
       "      <th>50%</th>\n",
       "      <td>2011.500000</td>\n",
       "      <td>533.436429</td>\n",
       "      <td>882.024084</td>\n",
       "      <td>1046.390380</td>\n",
       "      <td>291.398276</td>\n",
       "      <td>2815.458943</td>\n",
       "    </tr>\n",
       "    <tr>\n",
       "      <th>75%</th>\n",
       "      <td>2017.250000</td>\n",
       "      <td>766.701662</td>\n",
       "      <td>1160.199295</td>\n",
       "      <td>1495.160715</td>\n",
       "      <td>405.479393</td>\n",
       "      <td>3217.212712</td>\n",
       "    </tr>\n",
       "    <tr>\n",
       "      <th>max</th>\n",
       "      <td>2023.000000</td>\n",
       "      <td>996.973153</td>\n",
       "      <td>1487.070005</td>\n",
       "      <td>1983.858741</td>\n",
       "      <td>499.872953</td>\n",
       "      <td>4628.164753</td>\n",
       "    </tr>\n",
       "  </tbody>\n",
       "</table>\n",
       "</div>"
      ],
      "text/plain": [
       "              Year  SolarEnergy   WindEnergy  HydroEnergy  \\\n",
       "count   240.000000   240.000000   240.000000   240.000000   \n",
       "mean   2011.500000   528.523858   857.133260  1076.581975   \n",
       "std       6.936653   271.183089   375.020314   499.981598   \n",
       "min    2000.000000   104.555425   206.021630   320.662607   \n",
       "25%    2005.750000   284.700505   523.572495   593.796081   \n",
       "50%    2011.500000   533.436429   882.024084  1046.390380   \n",
       "75%    2017.250000   766.701662  1160.199295  1495.160715   \n",
       "max    2023.000000   996.973153  1487.070005  1983.858741   \n",
       "\n",
       "       OtherRenewableEnergy  TotalRenewableEnergy  \n",
       "count            240.000000            240.000000  \n",
       "mean             287.127554           2749.366647  \n",
       "std              128.460792            695.126957  \n",
       "min               54.876943            910.381025  \n",
       "25%              176.322725           2250.759951  \n",
       "50%              291.398276           2815.458943  \n",
       "75%              405.479393           3217.212712  \n",
       "max              499.872953           4628.164753  "
      ]
     },
     "execution_count": 189,
     "metadata": {},
     "output_type": "execute_result"
    }
   ],
   "source": [
    "df.describe()"
   ]
  },
  {
   "cell_type": "markdown",
   "metadata": {},
   "source": [
    "### Creating a correlation heatmap for the variables (i.e. renewable energy resource type) ###"
   ]
  },
  {
   "cell_type": "code",
   "execution_count": 190,
   "metadata": {},
   "outputs": [
    {
     "data": {
      "image/png": "[encoded data removed]",
      "text/plain": [
       "<Figure size 800x600 with 2 Axes>"
      ]
     },
     "metadata": {},
     "output_type": "display_data"
    }
   ],
   "source": [
    "columns = ['SolarEnergy', 'WindEnergy', 'HydroEnergy', 'OtherRenewableEnergy', 'TotalRenewableEnergy']\n",
    "correlation_matrix = df[columns].corr()\n",
    "\n",
    "plt.figure(figsize=(8, 6))\n",
    "heatmap = sns.heatmap(correlation_matrix, annot=True, fmt=\".2f\", cmap='coolwarm', annot_kws={\"size\": 12})\n",
    "\n",
    "\n",
    "plt.title('Correlation Heatmap of Renewable Energy Production')\n",
    "plt.show()"
   ]
  },
  {
   "cell_type": "markdown",
   "metadata": {},
   "source": [
    "### Here I create 2 more dataframes and group them into certain categories. For example, I group year_groups by year in order to create dataframes for each year. Same for country_dfs. ###"
   ]
  },
  {
   "cell_type": "code",
   "execution_count": 191,
   "metadata": {},
   "outputs": [],
   "source": [
    "year_groups = df.groupby('Year')\n",
    "year_dfs = [(year ,group) for year, group in year_groups]\n",
    "\n",
    "country_groups = df.groupby('Country')\n",
    "country_dfs = [(country, group) for country, group in country_groups]"
   ]
  },
  {
   "cell_type": "markdown",
   "metadata": {},
   "source": [
    "### This plot will show the total renewable energy production by year for each country. ###"
   ]
  },
  {
   "cell_type": "code",
   "execution_count": 192,
   "metadata": {
    "scrolled": true
   },
   "outputs": [
    {
     "data": {
      "application/vnd.plotly.v1+json": {
       "config": {
        "plotlyServerURL": "https://plot.ly"
       },
       "data": [
        {
         "name": "2000",
         "type": "bar",
         "x": [
          "USA",
          "China",
          "India",
          "Germany",
          "UK",
          "France",
          "Brazil",
          "Canada",
          "Australia",
          "Japan"
         ],
         "xaxis": "x",
         "y": [
          3736.8007242635726,
          1768.026527921858,
          3016.9030992607345,
          1744.6274754887006,
          2915.3957169958967,
          3176.053016144782,
          2939.7377185158234,
          2543.8201610281067,
          2594.485554022319,
          2083.99526229356
         ],
         "yaxis": "y"
        },
        {
         "name": "2001",
         "type": "bar",
         "x": [
          "USA",
          "China",
          "India",
          "Germany",
          "UK",
          "France",
          "Brazil",
          "Canada",
          "Australia",
          "Japan"
         ],
         "xaxis": "x2",
         "y": [
          1481.7310591199162,
          2268.881780614847,
          4328.594365808196,
          2309.6006769612004,
          4243.975133535502,
          2551.080576266058,
          3322.653512902812,
          3305.625233931129,
          2704.0782379594507,
          3412.018100276068
         ],
         "yaxis": "y2"
        },
        {
         "name": "2002",
         "type": "bar",
         "x": [
          "USA",
          "China",
          "India",
          "Germany",
          "UK",
          "France",
          "Brazil",
          "Canada",
          "Australia",
          "Japan"
         ],
         "xaxis": "x3",
         "y": [
          2582.950935479509,
          2828.538705931964,
          2016.328634830452,
          2720.8817016741423,
          2992.3599411298355,
          3716.3894034734976,
          1719.2136059412248,
          2312.0368865418795,
          3307.833141547074,
          1874.3794847800116
         ],
         "yaxis": "y3"
        },
        {
         "name": "2003",
         "type": "bar",
         "x": [
          "USA",
          "China",
          "India",
          "Germany",
          "UK",
          "France",
          "Brazil",
          "Canada",
          "Australia",
          "Japan"
         ],
         "xaxis": "x4",
         "y": [
          2066.873694288255,
          1521.119280937599,
          1678.8197397661293,
          2593.1977325017133,
          3596.2888208298878,
          2091.496363333603,
          1487.1145852934217,
          3307.962315378893,
          2563.7169735908483,
          2296.926790571604
         ],
         "yaxis": "y4"
        },
        {
         "name": "2004",
         "type": "bar",
         "x": [
          "USA",
          "China",
          "India",
          "Germany",
          "UK",
          "France",
          "Brazil",
          "Canada",
          "Australia",
          "Japan"
         ],
         "xaxis": "x5",
         "y": [
          2471.361024566209,
          4006.2280321942494,
          2107.806173189253,
          3595.130908587283,
          3146.965153545617,
          3376.6115367685693,
          3000.882579238765,
          2327.4016122621256,
          3166.572863501043,
          1811.784659683088
         ],
         "yaxis": "y5"
        },
        {
         "name": "2005",
         "type": "bar",
         "x": [
          "USA",
          "China",
          "India",
          "Germany",
          "UK",
          "France",
          "Brazil",
          "Canada",
          "Australia",
          "Japan"
         ],
         "xaxis": "x6",
         "y": [
          2043.518356089828,
          3375.900252056055,
          2845.78200151544,
          2499.306288736131,
          2768.744634986823,
          2867.675525420011,
          1820.100006525699,
          1891.9836141109945,
          2821.7743744799745,
          2818.883172325718
         ],
         "yaxis": "y6"
        },
        {
         "name": "2006",
         "type": "bar",
         "x": [
          "USA",
          "China",
          "India",
          "Germany",
          "UK",
          "France",
          "Brazil",
          "Canada",
          "Australia",
          "Japan"
         ],
         "xaxis": "x7",
         "y": [
          2652.0426625615864,
          3131.744103037821,
          3399.8250180994173,
          3658.613205768128,
          2553.8775276758784,
          3396.3780494018083,
          1505.042960967639,
          2144.306847566438,
          2323.433388581359,
          2668.5382965851504
         ],
         "yaxis": "y7"
        },
        {
         "name": "2007",
         "type": "bar",
         "x": [
          "USA",
          "China",
          "India",
          "Germany",
          "UK",
          "France",
          "Brazil",
          "Canada",
          "Australia",
          "Japan"
         ],
         "xaxis": "x8",
         "y": [
          2353.1207524035617,
          3188.3356360354733,
          2305.3720040909243,
          1621.8925427798567,
          3526.9394323829747,
          3679.270482289221,
          1872.2734411945653,
          1829.4149647177856,
          3823.0107150217223,
          3141.524131721502
         ],
         "yaxis": "y8"
        },
        {
         "name": "2008",
         "type": "bar",
         "x": [
          "USA",
          "China",
          "India",
          "Germany",
          "UK",
          "France",
          "Brazil",
          "Canada",
          "Australia",
          "Japan"
         ],
         "xaxis": "x9",
         "y": [
          3947.4508949952433,
          2129.77563089366,
          3036.880586485561,
          3321.584491791407,
          2823.00351708707,
          2704.0755690734286,
          2427.154138226484,
          2906.430812624035,
          2737.527509826466,
          2139.651630165129
         ],
         "yaxis": "y9"
        },
        {
         "name": "2009",
         "type": "bar",
         "x": [
          "USA",
          "China",
          "India",
          "Germany",
          "UK",
          "France",
          "Brazil",
          "Canada",
          "Australia",
          "Japan"
         ],
         "xaxis": "x10",
         "y": [
          2412.39090771782,
          2945.1663694856534,
          3850.6880213739823,
          3686.320969376213,
          2766.464237285119,
          3788.593381038621,
          3220.8733332961874,
          3325.554923264493,
          3994.024866399661,
          1442.3984367564071
         ],
         "yaxis": "y10"
        },
        {
         "name": "2010",
         "type": "bar",
         "x": [
          "USA",
          "China",
          "India",
          "Germany",
          "UK",
          "France",
          "Brazil",
          "Canada",
          "Australia",
          "Japan"
         ],
         "xaxis": "x11",
         "y": [
          1871.2190613362752,
          3086.308467401993,
          2466.5030292525994,
          2295.8746459526265,
          2566.259165611812,
          3707.683749133144,
          2772.1701427815924,
          2621.175926121205,
          3254.69907099334,
          3733.227183152709
         ],
         "yaxis": "y11"
        },
        {
         "name": "2011",
         "type": "bar",
         "x": [
          "USA",
          "China",
          "India",
          "Germany",
          "UK",
          "France",
          "Brazil",
          "Canada",
          "Australia",
          "Japan"
         ],
         "xaxis": "x12",
         "y": [
          2508.120391982205,
          2824.237249455475,
          2111.3085913330174,
          910.3810249062876,
          1703.7762764154418,
          2842.023278316334,
          1936.060955839772,
          3192.2880946424884,
          3671.5918016978735,
          2501.211261351078
         ],
         "yaxis": "y12"
        },
        {
         "name": "2012",
         "type": "bar",
         "x": [
          "USA",
          "China",
          "India",
          "Germany",
          "UK",
          "France",
          "Brazil",
          "Canada",
          "Australia",
          "Japan"
         ],
         "xaxis": "x13",
         "y": [
          3379.453681304388,
          2216.774404719426,
          4458.360754510699,
          3184.790624545341,
          1796.273415496362,
          3656.681704617294,
          2808.6879654045124,
          2176.657343858341,
          1944.784951939714,
          2878.706310472092
         ],
         "yaxis": "y13"
        },
        {
         "name": "2013",
         "type": "bar",
         "x": [
          "USA",
          "China",
          "India",
          "Germany",
          "UK",
          "France",
          "Brazil",
          "Canada",
          "Australia",
          "Japan"
         ],
         "xaxis": "x14",
         "y": [
          4090.097972702961,
          2710.4261365760344,
          3033.6328069491096,
          2197.6440106239984,
          3021.123520260136,
          4001.457554903891,
          2626.720283211744,
          2856.886542249317,
          2124.7142376350635,
          3509.1892618050265
         ],
         "yaxis": "y14"
        },
        {
         "name": "2014",
         "type": "bar",
         "x": [
          "USA",
          "China",
          "India",
          "Germany",
          "UK",
          "France",
          "Brazil",
          "Canada",
          "Australia",
          "Japan"
         ],
         "xaxis": "x15",
         "y": [
          1207.706012983,
          3201.2246174111287,
          3300.027365877058,
          2909.305399297932,
          2812.034713693706,
          2560.28195072116,
          2185.7852130971837,
          1690.027794355196,
          3074.385475256156,
          3945.955386928737
         ],
         "yaxis": "y15"
        },
        {
         "name": "2015",
         "type": "bar",
         "x": [
          "USA",
          "China",
          "India",
          "Germany",
          "UK",
          "France",
          "Brazil",
          "Canada",
          "Australia",
          "Japan"
         ],
         "xaxis": "x16",
         "y": [
          2921.9560645969937,
          2976.70867425504,
          2366.7198485409467,
          3041.5213117132253,
          4628.164752996172,
          2987.631026657516,
          2072.058560545697,
          2933.414617202288,
          2487.060427713204,
          1762.3891623902614
         ],
         "yaxis": "y16"
        },
        {
         "name": "2016",
         "type": "bar",
         "x": [
          "USA",
          "China",
          "India",
          "Germany",
          "UK",
          "France",
          "Brazil",
          "Canada",
          "Australia",
          "Japan"
         ],
         "xaxis": "x17",
         "y": [
          2208.90579062078,
          3121.1015153461435,
          3410.2114437709342,
          1863.6945694364815,
          2669.6162281438483,
          2167.182794610928,
          1593.602413632273,
          2980.934205804002,
          2041.816066734072,
          2168.008321390181
         ],
         "yaxis": "y17"
        },
        {
         "name": "2017",
         "type": "bar",
         "x": [
          "USA",
          "China",
          "India",
          "Germany",
          "UK",
          "France",
          "Brazil",
          "Canada",
          "Australia",
          "Japan"
         ],
         "xaxis": "x18",
         "y": [
          3402.2867613871613,
          2446.4134774468625,
          2961.967678630567,
          3292.723225609536,
          2620.777525796779,
          3390.0504671034773,
          3230.174598256093,
          2955.3631653572734,
          3215.992504849376,
          2633.7522825025208
         ],
         "yaxis": "y18"
        },
        {
         "name": "2018",
         "type": "bar",
         "x": [
          "USA",
          "China",
          "India",
          "Germany",
          "UK",
          "France",
          "Brazil",
          "Canada",
          "Australia",
          "Japan"
         ],
         "xaxis": "x19",
         "y": [
          3244.78047256192,
          2614.182391693417,
          3903.67956530178,
          2860.1850865886777,
          1418.660745862797,
          3547.813932207805,
          2397.691406921346,
          2925.6522347248288,
          2259.5263810910565,
          2314.749312316023
         ],
         "yaxis": "y19"
        },
        {
         "name": "2019",
         "type": "bar",
         "x": [
          "USA",
          "China",
          "India",
          "Germany",
          "UK",
          "France",
          "Brazil",
          "Canada",
          "Australia",
          "Japan"
         ],
         "xaxis": "x20",
         "y": [
          2101.9341745832407,
          2580.586896974983,
          3095.676425560725,
          4040.683504420762,
          3130.5392538952187,
          2370.9038175671285,
          2938.460687506879,
          2898.9854193865644,
          1916.4956648873035,
          3097.879573755427
         ],
         "yaxis": "y20"
        },
        {
         "name": "2020",
         "type": "bar",
         "x": [
          "USA",
          "China",
          "India",
          "Germany",
          "UK",
          "France",
          "Brazil",
          "Canada",
          "Australia",
          "Japan"
         ],
         "xaxis": "x21",
         "y": [
          2828.2085480420737,
          3428.925320201064,
          3712.54221571834,
          1095.9041363329045,
          2879.867201372323,
          1798.9018092989406,
          2732.3148479018105,
          2244.38840551788,
          2327.488255054132,
          1487.787681789187
         ],
         "yaxis": "y21"
        },
        {
         "name": "2021",
         "type": "bar",
         "x": [
          "USA",
          "China",
          "India",
          "Germany",
          "UK",
          "France",
          "Brazil",
          "Canada",
          "Australia",
          "Japan"
         ],
         "xaxis": "x22",
         "y": [
          2879.853773463422,
          3071.2571536529963,
          3764.8691636655335,
          1887.4672061361812,
          2560.5336349314275,
          2596.100387417184,
          3389.526125926841,
          3776.0510361425463,
          2440.932473177017,
          3533.28326891069
         ],
         "yaxis": "y22"
        },
        {
         "name": "2022",
         "type": "bar",
         "x": [
          "USA",
          "China",
          "India",
          "Germany",
          "UK",
          "France",
          "Brazil",
          "Canada",
          "Australia",
          "Japan"
         ],
         "xaxis": "x23",
         "y": [
          2586.6412433746887,
          3379.2448303498977,
          2571.181403959102,
          2952.072365378304,
          3191.256012263406,
          3142.900919479857,
          1430.755862518459,
          1948.953449235985,
          2286.3805439954917,
          2880.8919104923502
         ],
         "yaxis": "y23"
        },
        {
         "name": "2023",
         "type": "bar",
         "x": [
          "USA",
          "China",
          "India",
          "Germany",
          "UK",
          "France",
          "Brazil",
          "Canada",
          "Australia",
          "Japan"
         ],
         "xaxis": "x24",
         "y": [
          3597.2191248822824,
          2003.1152950400187,
          2252.883799275913,
          3126.171905445863,
          3319.635818412611,
          3708.9037999007846,
          1886.813594031151,
          3111.760083896874,
          3027.057034177034,
          1792.878545839327
         ],
         "yaxis": "y24"
        }
       ],
       "layout": {
        "annotations": [
         {
          "font": {
           "size": 16
          },
          "showarrow": false,
          "text": "2000",
          "x": 0.06944444444444445,
          "xanchor": "center",
          "xref": "paper",
          "y": 1,
          "yanchor": "bottom",
          "yref": "paper"
         },
         {
          "font": {
           "size": 16
          },
          "showarrow": false,
          "text": "2001",
          "x": 0.24166666666666667,
          "xanchor": "center",
          "xref": "paper",
          "y": 1,
          "yanchor": "bottom",
          "yref": "paper"
         },
         {
          "font": {
           "size": 16
          },
          "showarrow": false,
          "text": "2002",
          "x": 0.41388888888888886,
          "xanchor": "center",
          "xref": "paper",
          "y": 1,
          "yanchor": "bottom",
          "yref": "paper"
         },
         {
          "font": {
           "size": 16
          },
          "showarrow": false,
          "text": "2003",
          "x": 0.5861111111111112,
          "xanchor": "center",
          "xref": "paper",
          "y": 1,
          "yanchor": "bottom",
          "yref": "paper"
         },
         {
          "font": {
           "size": 16
          },
          "showarrow": false,
          "text": "2004",
          "x": 0.7583333333333333,
          "xanchor": "center",
          "xref": "paper",
          "y": 1,
          "yanchor": "bottom",
          "yref": "paper"
         },
         {
          "font": {
           "size": 16
          },
          "showarrow": false,
          "text": "2005",
          "x": 0.9305555555555556,
          "xanchor": "center",
          "xref": "paper",
          "y": 1,
          "yanchor": "bottom",
          "yref": "paper"
         },
         {
          "font": {
           "size": 16
          },
          "showarrow": false,
          "text": "2006",
          "x": 0.06944444444444445,
          "xanchor": "center",
          "xref": "paper",
          "y": 0.71875,
          "yanchor": "bottom",
          "yref": "paper"
         },
         {
          "font": {
           "size": 16
          },
          "showarrow": false,
          "text": "2007",
          "x": 0.24166666666666667,
          "xanchor": "center",
          "xref": "paper",
          "y": 0.71875,
          "yanchor": "bottom",
          "yref": "paper"
         },
         {
          "font": {
           "size": 16
          },
          "showarrow": false,
          "text": "2008",
          "x": 0.41388888888888886,
          "xanchor": "center",
          "xref": "paper",
          "y": 0.71875,
          "yanchor": "bottom",
          "yref": "paper"
         },
         {
          "font": {
           "size": 16
          },
          "showarrow": false,
          "text": "2009",
          "x": 0.5861111111111112,
          "xanchor": "center",
          "xref": "paper",
          "y": 0.71875,
          "yanchor": "bottom",
          "yref": "paper"
         },
         {
          "font": {
           "size": 16
          },
          "showarrow": false,
          "text": "2010",
          "x": 0.7583333333333333,
          "xanchor": "center",
          "xref": "paper",
          "y": 0.71875,
          "yanchor": "bottom",
          "yref": "paper"
         },
         {
          "font": {
           "size": 16
          },
          "showarrow": false,
          "text": "2011",
          "x": 0.9305555555555556,
          "xanchor": "center",
          "xref": "paper",
          "y": 0.71875,
          "yanchor": "bottom",
          "yref": "paper"
         },
         {
          "font": {
           "size": 16
          },
          "showarrow": false,
          "text": "2012",
          "x": 0.06944444444444445,
          "xanchor": "center",
          "xref": "paper",
          "y": 0.4375,
          "yanchor": "bottom",
          "yref": "paper"
         },
         {
          "font": {
           "size": 16
          },
          "showarrow": false,
          "text": "2013",
          "x": 0.24166666666666667,
          "xanchor": "center",
          "xref": "paper",
          "y": 0.4375,
          "yanchor": "bottom",
          "yref": "paper"
         },
         {
          "font": {
           "size": 16
          },
          "showarrow": false,
          "text": "2014",
          "x": 0.41388888888888886,
          "xanchor": "center",
          "xref": "paper",
          "y": 0.4375,
          "yanchor": "bottom",
          "yref": "paper"
         },
         {
          "font": {
           "size": 16
          },
          "showarrow": false,
          "text": "2015",
          "x": 0.5861111111111112,
          "xanchor": "center",
          "xref": "paper",
          "y": 0.4375,
          "yanchor": "bottom",
          "yref": "paper"
         },
         {
          "font": {
           "size": 16
          },
          "showarrow": false,
          "text": "2016",
          "x": 0.7583333333333333,
          "xanchor": "center",
          "xref": "paper",
          "y": 0.4375,
          "yanchor": "bottom",
          "yref": "paper"
         },
         {
          "font": {
           "size": 16
          },
          "showarrow": false,
          "text": "2017",
          "x": 0.9305555555555556,
          "xanchor": "center",
          "xref": "paper",
          "y": 0.4375,
          "yanchor": "bottom",
          "yref": "paper"
         },
         {
          "font": {
           "size": 16
          },
          "showarrow": false,
          "text": "2018",
          "x": 0.06944444444444445,
          "xanchor": "center",
          "xref": "paper",
          "y": 0.15625,
          "yanchor": "bottom",
          "yref": "paper"
         },
         {
          "font": {
           "size": 16
          },
          "showarrow": false,
          "text": "2019",
          "x": 0.24166666666666667,
          "xanchor": "center",
          "xref": "paper",
          "y": 0.15625,
          "yanchor": "bottom",
          "yref": "paper"
         },
         {
          "font": {
           "size": 16
          },
          "showarrow": false,
          "text": "2020",
          "x": 0.41388888888888886,
          "xanchor": "center",
          "xref": "paper",
          "y": 0.15625,
          "yanchor": "bottom",
          "yref": "paper"
         },
         {
          "font": {
           "size": 16
          },
          "showarrow": false,
          "text": "2021",
          "x": 0.5861111111111112,
          "xanchor": "center",
          "xref": "paper",
          "y": 0.15625,
          "yanchor": "bottom",
          "yref": "paper"
         },
         {
          "font": {
           "size": 16
          },
          "showarrow": false,
          "text": "2022",
          "x": 0.7583333333333333,
          "xanchor": "center",
          "xref": "paper",
          "y": 0.15625,
          "yanchor": "bottom",
          "yref": "paper"
         },
         {
          "font": {
           "size": 16
          },
          "showarrow": false,
          "text": "2023",
          "x": 0.9305555555555556,
          "xanchor": "center",
          "xref": "paper",
          "y": 0.15625,
          "yanchor": "bottom",
          "yref": "paper"
         }
        ],
        "height": 2000,
        "showlegend": false,
        "template": {
         "data": {
          "bar": [
           {
            "error_x": {
             "color": "#2a3f5f"
            },
            "error_y": {
             "color": "#2a3f5f"
            },
            "marker": {
             "line": {
              "color": "#E5ECF6",
              "width": 0.5
             },
             "pattern": {
              "fillmode": "overlay",
              "size": 10,
              "solidity": 0.2
             }
            },
            "type": "bar"
           }
          ],
          "barpolar": [
           {
            "marker": {
             "line": {
              "color": "#E5ECF6",
              "width": 0.5
             },
             "pattern": {
              "fillmode": "overlay",
              "size": 10,
              "solidity": 0.2
             }
            },
            "type": "barpolar"
           }
          ],
          "carpet": [
           {
            "aaxis": {
             "endlinecolor": "#2a3f5f",
             "gridcolor": "white",
             "linecolor": "white",
             "minorgridcolor": "white",
             "startlinecolor": "#2a3f5f"
            },
            "baxis": {
             "endlinecolor": "#2a3f5f",
             "gridcolor": "white",
             "linecolor": "white",
             "minorgridcolor": "white",
             "startlinecolor": "#2a3f5f"
            },
            "type": "carpet"
           }
          ],
          "choropleth": [
           {
            "colorbar": {
             "outlinewidth": 0,
             "ticks": ""
            },
            "type": "choropleth"
           }
          ],
          "contour": [
           {
            "colorbar": {
             "outlinewidth": 0,
             "ticks": ""
            },
            "colorscale": [
             [
              0,
              "#0d0887"
             ],
             [
              0.1111111111111111,
              "#46039f"
             ],
             [
              0.2222222222222222,
              "#7201a8"
             ],
             [
              0.3333333333333333,
              "#9c179e"
             ],
             [
              0.4444444444444444,
              "#bd3786"
             ],
             [
              0.5555555555555556,
              "#d8576b"
             ],
             [
              0.6666666666666666,
              "#ed7953"
             ],
             [
              0.7777777777777778,
              "#fb9f3a"
             ],
             [
              0.8888888888888888,
              "#fdca26"
             ],
             [
              1,
              "#f0f921"
             ]
            ],
            "type": "contour"
           }
          ],
          "contourcarpet": [
           {
            "colorbar": {
             "outlinewidth": 0,
             "ticks": ""
            },
            "type": "contourcarpet"
           }
          ],
          "heatmap": [
           {
            "colorbar": {
             "outlinewidth": 0,
             "ticks": ""
            },
            "colorscale": [
             [
              0,
              "#0d0887"
             ],
             [
              0.1111111111111111,
              "#46039f"
             ],
             [
              0.2222222222222222,
              "#7201a8"
             ],
             [
              0.3333333333333333,
              "#9c179e"
             ],
             [
              0.4444444444444444,
              "#bd3786"
             ],
             [
              0.5555555555555556,
              "#d8576b"
             ],
             [
              0.6666666666666666,
              "#ed7953"
             ],
             [
              0.7777777777777778,
              "#fb9f3a"
             ],
             [
              0.8888888888888888,
              "#fdca26"
             ],
             [
              1,
              "#f0f921"
             ]
            ],
            "type": "heatmap"
           }
          ],
          "heatmapgl": [
           {
            "colorbar": {
             "outlinewidth": 0,
             "ticks": ""
            },
            "colorscale": [
             [
              0,
              "#0d0887"
             ],
             [
              0.1111111111111111,
              "#46039f"
             ],
             [
              0.2222222222222222,
              "#7201a8"
             ],
             [
              0.3333333333333333,
              "#9c179e"
             ],
             [
              0.4444444444444444,
              "#bd3786"
             ],
             [
              0.5555555555555556,
              "#d8576b"
             ],
             [
              0.6666666666666666,
              "#ed7953"
             ],
             [
              0.7777777777777778,
              "#fb9f3a"
             ],
             [
              0.8888888888888888,
              "#fdca26"
             ],
             [
              1,
              "#f0f921"
             ]
            ],
            "type": "heatmapgl"
           }
          ],
          "histogram": [
           {
            "marker": {
             "pattern": {
              "fillmode": "overlay",
              "size": 10,
              "solidity": 0.2
             }
            },
            "type": "histogram"
           }
          ],
          "histogram2d": [
           {
            "colorbar": {
             "outlinewidth": 0,
             "ticks": ""
            },
            "colorscale": [
             [
              0,
              "#0d0887"
             ],
             [
              0.1111111111111111,
              "#46039f"
             ],
             [
              0.2222222222222222,
              "#7201a8"
             ],
             [
              0.3333333333333333,
              "#9c179e"
             ],
             [
              0.4444444444444444,
              "#bd3786"
             ],
             [
              0.5555555555555556,
              "#d8576b"
             ],
             [
              0.6666666666666666,
              "#ed7953"
             ],
             [
              0.7777777777777778,
              "#fb9f3a"
             ],
             [
              0.8888888888888888,
              "#fdca26"
             ],
             [
              1,
              "#f0f921"
             ]
            ],
            "type": "histogram2d"
           }
          ],
          "histogram2dcontour": [
           {
            "colorbar": {
             "outlinewidth": 0,
             "ticks": ""
            },
            "colorscale": [
             [
              0,
              "#0d0887"
             ],
             [
              0.1111111111111111,
              "#46039f"
             ],
             [
              0.2222222222222222,
              "#7201a8"
             ],
             [
              0.3333333333333333,
              "#9c179e"
             ],
             [
              0.4444444444444444,
              "#bd3786"
             ],
             [
              0.5555555555555556,
              "#d8576b"
             ],
             [
              0.6666666666666666,
              "#ed7953"
             ],
             [
              0.7777777777777778,
              "#fb9f3a"
             ],
             [
              0.8888888888888888,
              "#fdca26"
             ],
             [
              1,
              "#f0f921"
             ]
            ],
            "type": "histogram2dcontour"
           }
          ],
          "mesh3d": [
           {
            "colorbar": {
             "outlinewidth": 0,
             "ticks": ""
            },
            "type": "mesh3d"
           }
          ],
          "parcoords": [
           {
            "line": {
             "colorbar": {
              "outlinewidth": 0,
              "ticks": ""
             }
            },
            "type": "parcoords"
           }
          ],
          "pie": [
           {
            "automargin": true,
            "type": "pie"
           }
          ],
          "scatter": [
           {
            "fillpattern": {
             "fillmode": "overlay",
             "size": 10,
             "solidity": 0.2
            },
            "type": "scatter"
           }
          ],
          "scatter3d": [
           {
            "line": {
             "colorbar": {
              "outlinewidth": 0,
              "ticks": ""
             }
            },
            "marker": {
             "colorbar": {
              "outlinewidth": 0,
              "ticks": ""
             }
            },
            "type": "scatter3d"
           }
          ],
          "scattercarpet": [
           {
            "marker": {
             "colorbar": {
              "outlinewidth": 0,
              "ticks": ""
             }
            },
            "type": "scattercarpet"
           }
          ],
          "scattergeo": [
           {
            "marker": {
             "colorbar": {
              "outlinewidth": 0,
              "ticks": ""
             }
            },
            "type": "scattergeo"
           }
          ],
          "scattergl": [
           {
            "marker": {
             "colorbar": {
              "outlinewidth": 0,
              "ticks": ""
             }
            },
            "type": "scattergl"
           }
          ],
          "scattermapbox": [
           {
            "marker": {
             "colorbar": {
              "outlinewidth": 0,
              "ticks": ""
             }
            },
            "type": "scattermapbox"
           }
          ],
          "scatterpolar": [
           {
            "marker": {
             "colorbar": {
              "outlinewidth": 0,
              "ticks": ""
             }
            },
            "type": "scatterpolar"
           }
          ],
          "scatterpolargl": [
           {
            "marker": {
             "colorbar": {
              "outlinewidth": 0,
              "ticks": ""
             }
            },
            "type": "scatterpolargl"
           }
          ],
          "scatterternary": [
           {
            "marker": {
             "colorbar": {
              "outlinewidth": 0,
              "ticks": ""
             }
            },
            "type": "scatterternary"
           }
          ],
          "surface": [
           {
            "colorbar": {
             "outlinewidth": 0,
             "ticks": ""
            },
            "colorscale": [
             [
              0,
              "#0d0887"
             ],
             [
              0.1111111111111111,
              "#46039f"
             ],
             [
              0.2222222222222222,
              "#7201a8"
             ],
             [
              0.3333333333333333,
              "#9c179e"
             ],
             [
              0.4444444444444444,
              "#bd3786"
             ],
             [
              0.5555555555555556,
              "#d8576b"
             ],
             [
              0.6666666666666666,
              "#ed7953"
             ],
             [
              0.7777777777777778,
              "#fb9f3a"
             ],
             [
              0.8888888888888888,
              "#fdca26"
             ],
             [
              1,
              "#f0f921"
             ]
            ],
            "type": "surface"
           }
          ],
          "table": [
           {
            "cells": {
             "fill": {
              "color": "#EBF0F8"
             },
             "line": {
              "color": "white"
             }
            },
            "header": {
             "fill": {
              "color": "#C8D4E3"
             },
             "line": {
              "color": "white"
             }
            },
            "type": "table"
           }
          ]
         },
         "layout": {
          "annotationdefaults": {
           "arrowcolor": "#2a3f5f",
           "arrowhead": 0,
           "arrowwidth": 1
          },
          "autotypenumbers": "strict",
          "coloraxis": {
           "colorbar": {
            "outlinewidth": 0,
            "ticks": ""
           }
          },
          "colorscale": {
           "diverging": [
            [
             0,
             "#8e0152"
            ],
            [
             0.1,
             "#c51b7d"
            ],
            [
             0.2,
             "#de77ae"
            ],
            [
             0.3,
             "#f1b6da"
            ],
            [
             0.4,
             "#fde0ef"
            ],
            [
             0.5,
             "#f7f7f7"
            ],
            [
             0.6,
             "#e6f5d0"
            ],
            [
             0.7,
             "#b8e186"
            ],
            [
             0.8,
             "#7fbc41"
            ],
            [
             0.9,
             "#4d9221"
            ],
            [
             1,
             "#276419"
            ]
           ],
           "sequential": [
            [
             0,
             "#0d0887"
            ],
            [
             0.1111111111111111,
             "#46039f"
            ],
            [
             0.2222222222222222,
             "#7201a8"
            ],
            [
             0.3333333333333333,
             "#9c179e"
            ],
            [
             0.4444444444444444,
             "#bd3786"
            ],
            [
             0.5555555555555556,
             "#d8576b"
            ],
            [
             0.6666666666666666,
             "#ed7953"
            ],
            [
             0.7777777777777778,
             "#fb9f3a"
            ],
            [
             0.8888888888888888,
             "#fdca26"
            ],
            [
             1,
             "#f0f921"
            ]
           ],
           "sequentialminus": [
            [
             0,
             "#0d0887"
            ],
            [
             0.1111111111111111,
             "#46039f"
            ],
            [
             0.2222222222222222,
             "#7201a8"
            ],
            [
             0.3333333333333333,
             "#9c179e"
            ],
            [
             0.4444444444444444,
             "#bd3786"
            ],
            [
             0.5555555555555556,
             "#d8576b"
            ],
            [
             0.6666666666666666,
             "#ed7953"
            ],
            [
             0.7777777777777778,
             "#fb9f3a"
            ],
            [
             0.8888888888888888,
             "#fdca26"
            ],
            [
             1,
             "#f0f921"
            ]
           ]
          },
          "colorway": [
           "#636efa",
           "#EF553B",
           "#00cc96",
           "#ab63fa",
           "#FFA15A",
           "#19d3f3",
           "#FF6692",
           "#B6E880",
           "#FF97FF",
           "#FECB52"
          ],
          "font": {
           "color": "#2a3f5f"
          },
          "geo": {
           "bgcolor": "white",
           "lakecolor": "white",
           "landcolor": "#E5ECF6",
           "showlakes": true,
           "showland": true,
           "subunitcolor": "white"
          },
          "hoverlabel": {
           "align": "left"
          },
          "hovermode": "closest",
          "mapbox": {
           "style": "light"
          },
          "paper_bgcolor": "white",
          "plot_bgcolor": "#E5ECF6",
          "polar": {
           "angularaxis": {
            "gridcolor": "white",
            "linecolor": "white",
            "ticks": ""
           },
           "bgcolor": "#E5ECF6",
           "radialaxis": {
            "gridcolor": "white",
            "linecolor": "white",
            "ticks": ""
           }
          },
          "scene": {
           "xaxis": {
            "backgroundcolor": "#E5ECF6",
            "gridcolor": "white",
            "gridwidth": 2,
            "linecolor": "white",
            "showbackground": true,
            "ticks": "",
            "zerolinecolor": "white"
           },
           "yaxis": {
            "backgroundcolor": "#E5ECF6",
            "gridcolor": "white",
            "gridwidth": 2,
            "linecolor": "white",
            "showbackground": true,
            "ticks": "",
            "zerolinecolor": "white"
           },
           "zaxis": {
            "backgroundcolor": "#E5ECF6",
            "gridcolor": "white",
            "gridwidth": 2,
            "linecolor": "white",
            "showbackground": true,
            "ticks": "",
            "zerolinecolor": "white"
           }
          },
          "shapedefaults": {
           "line": {
            "color": "#2a3f5f"
           }
          },
          "ternary": {
           "aaxis": {
            "gridcolor": "white",
            "linecolor": "white",
            "ticks": ""
           },
           "baxis": {
            "gridcolor": "white",
            "linecolor": "white",
            "ticks": ""
           },
           "bgcolor": "#E5ECF6",
           "caxis": {
            "gridcolor": "white",
            "linecolor": "white",
            "ticks": ""
           }
          },
          "title": {
           "x": 0.05
          },
          "xaxis": {
           "automargin": true,
           "gridcolor": "white",
           "linecolor": "white",
           "ticks": "",
           "title": {
            "standoff": 15
           },
           "zerolinecolor": "white",
           "zerolinewidth": 2
          },
          "yaxis": {
           "automargin": true,
           "gridcolor": "white",
           "linecolor": "white",
           "ticks": "",
           "title": {
            "standoff": 15
           },
           "zerolinecolor": "white",
           "zerolinewidth": 2
          }
         }
        },
        "title": {
         "text": "Total Renewable Energy Production by Year (2000-2023)",
         "x": 0.5
        },
        "width": 3000,
        "xaxis": {
         "anchor": "y",
         "autorange": true,
         "domain": [
          0,
          0.1388888888888889
         ],
         "range": [
          -0.5,
          9.5
         ],
         "type": "category"
        },
        "xaxis10": {
         "anchor": "y10",
         "autorange": true,
         "domain": [
          0.5166666666666667,
          0.6555555555555557
         ],
         "range": [
          -0.5,
          9.5
         ],
         "type": "category"
        },
        "xaxis11": {
         "anchor": "y11",
         "autorange": true,
         "domain": [
          0.6888888888888889,
          0.8277777777777777
         ],
         "range": [
          -0.5,
          9.5
         ],
         "type": "category"
        },
        "xaxis12": {
         "anchor": "y12",
         "autorange": true,
         "domain": [
          0.861111111111111,
          1
         ],
         "range": [
          -0.5,
          9.5
         ],
         "type": "category"
        },
        "xaxis13": {
         "anchor": "y13",
         "autorange": true,
         "domain": [
          0,
          0.1388888888888889
         ],
         "range": [
          -0.5,
          9.5
         ],
         "type": "category"
        },
        "xaxis14": {
         "anchor": "y14",
         "autorange": true,
         "domain": [
          0.17222222222222222,
          0.3111111111111111
         ],
         "range": [
          -0.5,
          9.5
         ],
         "type": "category"
        },
        "xaxis15": {
         "anchor": "y15",
         "autorange": true,
         "domain": [
          0.34444444444444444,
          0.48333333333333334
         ],
         "range": [
          -0.5,
          9.5
         ],
         "type": "category"
        },
        "xaxis16": {
         "anchor": "y16",
         "autorange": true,
         "domain": [
          0.5166666666666667,
          0.6555555555555557
         ],
         "range": [
          -0.5,
          9.5
         ],
         "type": "category"
        },
        "xaxis17": {
         "anchor": "y17",
         "autorange": true,
         "domain": [
          0.6888888888888889,
          0.8277777777777777
         ],
         "range": [
          -0.5,
          9.5
         ],
         "type": "category"
        },
        "xaxis18": {
         "anchor": "y18",
         "autorange": true,
         "domain": [
          0.861111111111111,
          1
         ],
         "range": [
          -0.5,
          9.5
         ],
         "type": "category"
        },
        "xaxis19": {
         "anchor": "y19",
         "autorange": true,
         "domain": [
          0,
          0.1388888888888889
         ],
         "range": [
          -0.5,
          9.5
         ],
         "type": "category"
        },
        "xaxis2": {
         "anchor": "y2",
         "autorange": true,
         "domain": [
          0.17222222222222222,
          0.3111111111111111
         ],
         "range": [
          -0.5,
          9.5
         ],
         "type": "category"
        },
        "xaxis20": {
         "anchor": "y20",
         "autorange": true,
         "domain": [
          0.17222222222222222,
          0.3111111111111111
         ],
         "range": [
          -0.5,
          9.5
         ],
         "type": "category"
        },
        "xaxis21": {
         "anchor": "y21",
         "autorange": true,
         "domain": [
          0.34444444444444444,
          0.48333333333333334
         ],
         "range": [
          -0.5,
          9.5
         ],
         "type": "category"
        },
        "xaxis22": {
         "anchor": "y22",
         "autorange": true,
         "domain": [
          0.5166666666666667,
          0.6555555555555557
         ],
         "range": [
          -0.5,
          9.5
         ],
         "type": "category"
        },
        "xaxis23": {
         "anchor": "y23",
         "autorange": true,
         "domain": [
          0.6888888888888889,
          0.8277777777777777
         ],
         "range": [
          -0.5,
          9.5
         ],
         "type": "category"
        },
        "xaxis24": {
         "anchor": "y24",
         "autorange": true,
         "domain": [
          0.861111111111111,
          1
         ],
         "range": [
          -0.5,
          9.5
         ],
         "type": "category"
        },
        "xaxis3": {
         "anchor": "y3",
         "autorange": true,
         "domain": [
          0.34444444444444444,
          0.48333333333333334
         ],
         "range": [
          -0.5,
          9.5
         ],
         "type": "category"
        },
        "xaxis4": {
         "anchor": "y4",
         "autorange": true,
         "domain": [
          0.5166666666666667,
          0.6555555555555557
         ],
         "range": [
          -0.5,
          9.5
         ],
         "type": "category"
        },
        "xaxis5": {
         "anchor": "y5",
         "autorange": true,
         "domain": [
          0.6888888888888889,
          0.8277777777777777
         ],
         "range": [
          -0.5,
          9.5
         ],
         "type": "category"
        },
        "xaxis6": {
         "anchor": "y6",
         "autorange": true,
         "domain": [
          0.861111111111111,
          1
         ],
         "range": [
          -0.5,
          9.5
         ],
         "type": "category"
        },
        "xaxis7": {
         "anchor": "y7",
         "autorange": true,
         "domain": [
          0,
          0.1388888888888889
         ],
         "range": [
          -0.5,
          9.5
         ],
         "type": "category"
        },
        "xaxis8": {
         "anchor": "y8",
         "autorange": true,
         "domain": [
          0.17222222222222222,
          0.3111111111111111
         ],
         "range": [
          -0.5,
          9.5
         ],
         "type": "category"
        },
        "xaxis9": {
         "anchor": "y9",
         "autorange": true,
         "domain": [
          0.34444444444444444,
          0.48333333333333334
         ],
         "range": [
          -0.5,
          9.5
         ],
         "type": "category"
        },
        "yaxis": {
         "anchor": "x",
         "autorange": true,
         "domain": [
          0.84375,
          1
         ],
         "range": [
          0,
          3933.4744465932345
         ],
         "title": {
          "text": "Total Renewable Energy Production (GWh)"
         },
         "type": "linear"
        },
        "yaxis10": {
         "anchor": "x10",
         "autorange": true,
         "domain": [
          0.5625,
          0.71875
         ],
         "range": [
          0,
          4204.236701473327
         ],
         "title": {
          "text": "Total Renewable Energy Production (GWh)"
         },
         "type": "linear"
        },
        "yaxis11": {
         "anchor": "x11",
         "autorange": true,
         "domain": [
          0.5625,
          0.71875
         ],
         "range": [
          0,
          3929.7128243712727
         ],
         "title": {
          "text": "Total Renewable Energy Production (GWh)"
         },
         "type": "linear"
        },
        "yaxis12": {
         "anchor": "x12",
         "autorange": true,
         "domain": [
          0.5625,
          0.71875
         ],
         "range": [
          0,
          3864.833475471446
         ],
         "title": {
          "text": "Total Renewable Energy Production (GWh)"
         },
         "type": "linear"
        },
        "yaxis13": {
         "anchor": "x13",
         "autorange": true,
         "domain": [
          0.28125,
          0.4375
         ],
         "range": [
          0,
          4693.011320537577
         ],
         "title": {
          "text": "Total Renewable Energy Production (GWh)"
         },
         "type": "linear"
        },
        "yaxis14": {
         "anchor": "x14",
         "autorange": true,
         "domain": [
          0.28125,
          0.4375
         ],
         "range": [
          0,
          4305.366287055748
         ],
         "title": {
          "text": "Total Renewable Energy Production (GWh)"
         },
         "type": "linear"
        },
        "yaxis15": {
         "anchor": "x15",
         "autorange": true,
         "domain": [
          0.28125,
          0.4375
         ],
         "range": [
          0,
          4153.63724939867
         ],
         "title": {
          "text": "Total Renewable Energy Production (GWh)"
         },
         "type": "linear"
        },
        "yaxis16": {
         "anchor": "x16",
         "autorange": true,
         "domain": [
          0.28125,
          0.4375
         ],
         "range": [
          0,
          4871.752371574918
         ],
         "title": {
          "text": "Total Renewable Energy Production (GWh)"
         },
         "type": "linear"
        },
        "yaxis17": {
         "anchor": "x17",
         "autorange": true,
         "domain": [
          0.28125,
          0.4375
         ],
         "range": [
          0,
          3589.6962566009834
         ],
         "title": {
          "text": "Total Renewable Energy Production (GWh)"
         },
         "type": "linear"
        },
        "yaxis18": {
         "anchor": "x18",
         "autorange": true,
         "domain": [
          0.28125,
          0.4375
         ],
         "range": [
          0,
          3581.3544856706962
         ],
         "title": {
          "text": "Total Renewable Energy Production (GWh)"
         },
         "type": "linear"
        },
        "yaxis19": {
         "anchor": "x19",
         "autorange": true,
         "domain": [
          0,
          0.15625
         ],
         "range": [
          0,
          4109.136384528189
         ],
         "title": {
          "text": "Total Renewable Energy Production (GWh)"
         },
         "type": "linear"
        },
        "yaxis2": {
         "anchor": "x2",
         "autorange": true,
         "domain": [
          0.84375,
          1
         ],
         "range": [
          0,
          4556.415121903364
         ],
         "title": {
          "text": "Total Renewable Energy Production (GWh)"
         },
         "type": "linear"
        },
        "yaxis20": {
         "anchor": "x20",
         "autorange": true,
         "domain": [
          0,
          0.15625
         ],
         "range": [
          0,
          4253.351057285013
         ],
         "title": {
          "text": "Total Renewable Energy Production (GWh)"
         },
         "type": "linear"
        },
        "yaxis21": {
         "anchor": "x21",
         "autorange": true,
         "domain": [
          0,
          0.15625
         ],
         "range": [
          0,
          3907.939174440358
         ],
         "title": {
          "text": "Total Renewable Energy Production (GWh)"
         },
         "type": "linear"
        },
        "yaxis22": {
         "anchor": "x22",
         "autorange": true,
         "domain": [
          0,
          0.15625
         ],
         "range": [
          0,
          3974.790564360575
         ],
         "title": {
          "text": "Total Renewable Energy Production (GWh)"
         },
         "type": "linear"
        },
        "yaxis23": {
         "anchor": "x23",
         "autorange": true,
         "domain": [
          0,
          0.15625
         ],
         "range": [
          0,
          3557.099821420945
         ],
         "title": {
          "text": "Total Renewable Energy Production (GWh)"
         },
         "type": "linear"
        },
        "yaxis24": {
         "anchor": "x24",
         "autorange": true,
         "domain": [
          0,
          0.15625
         ],
         "range": [
          0,
          3904.1092630534577
         ],
         "title": {
          "text": "Total Renewable Energy Production (GWh)"
         },
         "type": "linear"
        },
        "yaxis3": {
         "anchor": "x3",
         "autorange": true,
         "domain": [
          0.84375,
          1
         ],
         "range": [
          0,
          3911.9888457615766
         ],
         "title": {
          "text": "Total Renewable Energy Production (GWh)"
         },
         "type": "linear"
        },
        "yaxis4": {
         "anchor": "x4",
         "autorange": true,
         "domain": [
          0.84375,
          1
         ],
         "range": [
          0,
          3785.5671798209346
         ],
         "title": {
          "text": "Total Renewable Energy Production (GWh)"
         },
         "type": "linear"
        },
        "yaxis5": {
         "anchor": "x5",
         "autorange": true,
         "domain": [
          0.84375,
          1
         ],
         "range": [
          0,
          4217.082139151841
         ],
         "title": {
          "text": "Total Renewable Energy Production (GWh)"
         },
         "type": "linear"
        },
        "yaxis6": {
         "anchor": "x6",
         "autorange": true,
         "domain": [
          0.84375,
          1
         ],
         "range": [
          0,
          3553.579212690584
         ],
         "title": {
          "text": "Total Renewable Energy Production (GWh)"
         },
         "type": "linear"
        },
        "yaxis7": {
         "anchor": "x7",
         "autorange": true,
         "domain": [
          0.5625,
          0.71875
         ],
         "range": [
          0,
          3851.171795545398
         ],
         "title": {
          "text": "Total Renewable Energy Production (GWh)"
         },
         "type": "linear"
        },
        "yaxis8": {
         "anchor": "x8",
         "autorange": true,
         "domain": [
          0.5625,
          0.71875
         ],
         "range": [
          0,
          4024.2218052860235
         ],
         "title": {
          "text": "Total Renewable Energy Production (GWh)"
         },
         "type": "linear"
        },
        "yaxis9": {
         "anchor": "x9",
         "autorange": true,
         "domain": [
          0.5625,
          0.71875
         ],
         "range": [
          0,
          4155.211468416045
         ],
         "title": {
          "text": "Total Renewable Energy Production (GWh)"
         },
         "type": "linear"
        }
       }
      },
      "image/png": "[encoded data removed]",
      "text/html": [
       "<div>                            <div id=\"0fbf3385-36bc-4c1d-959a-9c391919483b\" class=\"plotly-graph-div\" style=\"height:2000px; width:3000px;\"></div>            <script type=\"text/javascript\">                require([\"plotly\"], function(Plotly) {                    window.PLOTLYENV=window.PLOTLYENV || {};                                    if (document.getElementById(\"0fbf3385-36bc-4c1d-959a-9c391919483b\")) {                    Plotly.newPlot(                        \"0fbf3385-36bc-4c1d-959a-9c391919483b\",                        [{\"name\":\"2000\",\"x\":[\"USA\",\"China\",\"India\",\"Germany\",\"UK\",\"France\",\"Brazil\",\"Canada\",\"Australia\",\"Japan\"],\"y\":[3736.8007242635726,1768.026527921858,3016.9030992607345,1744.6274754887006,2915.3957169958967,3176.053016144782,2939.7377185158234,2543.8201610281067,2594.485554022319,2083.99526229356],\"type\":\"bar\",\"xaxis\":\"x\",\"yaxis\":\"y\"},{\"name\":\"2001\",\"x\":[\"USA\",\"China\",\"India\",\"Germany\",\"UK\",\"France\",\"Brazil\",\"Canada\",\"Australia\",\"Japan\"],\"y\":[1481.7310591199162,2268.881780614847,4328.594365808196,2309.6006769612004,4243.975133535502,2551.080576266058,3322.653512902812,3305.625233931129,2704.0782379594507,3412.018100276068],\"type\":\"bar\",\"xaxis\":\"x2\",\"yaxis\":\"y2\"},{\"name\":\"2002\",\"x\":[\"USA\",\"China\",\"India\",\"Germany\",\"UK\",\"France\",\"Brazil\",\"Canada\",\"Australia\",\"Japan\"],\"y\":[2582.950935479509,2828.538705931964,2016.328634830452,2720.8817016741423,2992.3599411298355,3716.3894034734976,1719.2136059412248,2312.0368865418795,3307.833141547074,1874.3794847800116],\"type\":\"bar\",\"xaxis\":\"x3\",\"yaxis\":\"y3\"},{\"name\":\"2003\",\"x\":[\"USA\",\"China\",\"India\",\"Germany\",\"UK\",\"France\",\"Brazil\",\"Canada\",\"Australia\",\"Japan\"],\"y\":[2066.873694288255,1521.119280937599,1678.8197397661293,2593.1977325017133,3596.2888208298878,2091.496363333603,1487.1145852934217,3307.962315378893,2563.7169735908483,2296.926790571604],\"type\":\"bar\",\"xaxis\":\"x4\",\"yaxis\":\"y4\"},{\"name\":\"2004\",\"x\":[\"USA\",\"China\",\"India\",\"Germany\",\"UK\",\"France\",\"Brazil\",\"Canada\",\"Australia\",\"Japan\"],\"y\":[2471.361024566209,4006.2280321942494,2107.806173189253,3595.130908587283,3146.965153545617,3376.6115367685693,3000.882579238765,2327.4016122621256,3166.572863501043,1811.784659683088],\"type\":\"bar\",\"xaxis\":\"x5\",\"yaxis\":\"y5\"},{\"name\":\"2005\",\"x\":[\"USA\",\"China\",\"India\",\"Germany\",\"UK\",\"France\",\"Brazil\",\"Canada\",\"Australia\",\"Japan\"],\"y\":[2043.518356089828,3375.900252056055,2845.78200151544,2499.306288736131,2768.744634986823,2867.675525420011,1820.100006525699,1891.9836141109945,2821.7743744799745,2818.883172325718],\"type\":\"bar\",\"xaxis\":\"x6\",\"yaxis\":\"y6\"},{\"name\":\"2006\",\"x\":[\"USA\",\"China\",\"India\",\"Germany\",\"UK\",\"France\",\"Brazil\",\"Canada\",\"Australia\",\"Japan\"],\"y\":[2652.0426625615864,3131.744103037821,3399.8250180994173,3658.613205768128,2553.8775276758784,3396.3780494018083,1505.042960967639,2144.306847566438,2323.433388581359,2668.5382965851504],\"type\":\"bar\",\"xaxis\":\"x7\",\"yaxis\":\"y7\"},{\"name\":\"2007\",\"x\":[\"USA\",\"China\",\"India\",\"Germany\",\"UK\",\"France\",\"Brazil\",\"Canada\",\"Australia\",\"Japan\"],\"y\":[2353.1207524035617,3188.3356360354733,2305.3720040909243,1621.8925427798567,3526.9394323829747,3679.270482289221,1872.2734411945653,1829.4149647177856,3823.0107150217223,3141.524131721502],\"type\":\"bar\",\"xaxis\":\"x8\",\"yaxis\":\"y8\"},{\"name\":\"2008\",\"x\":[\"USA\",\"China\",\"India\",\"Germany\",\"UK\",\"France\",\"Brazil\",\"Canada\",\"Australia\",\"Japan\"],\"y\":[3947.4508949952433,2129.77563089366,3036.880586485561,3321.584491791407,2823.00351708707,2704.0755690734286,2427.154138226484,2906.430812624035,2737.527509826466,2139.651630165129],\"type\":\"bar\",\"xaxis\":\"x9\",\"yaxis\":\"y9\"},{\"name\":\"2009\",\"x\":[\"USA\",\"China\",\"India\",\"Germany\",\"UK\",\"France\",\"Brazil\",\"Canada\",\"Australia\",\"Japan\"],\"y\":[2412.39090771782,2945.1663694856534,3850.6880213739823,3686.320969376213,2766.464237285119,3788.593381038621,3220.8733332961874,3325.554923264493,3994.024866399661,1442.3984367564071],\"type\":\"bar\",\"xaxis\":\"x10\",\"yaxis\":\"y10\"},{\"name\":\"2010\",\"x\":[\"USA\",\"China\",\"India\",\"Germany\",\"UK\",\"France\",\"Brazil\",\"Canada\",\"Australia\",\"Japan\"],\"y\":[1871.2190613362752,3086.308467401993,2466.5030292525994,2295.8746459526265,2566.259165611812,3707.683749133144,2772.1701427815924,2621.175926121205,3254.69907099334,3733.227183152709],\"type\":\"bar\",\"xaxis\":\"x11\",\"yaxis\":\"y11\"},{\"name\":\"2011\",\"x\":[\"USA\",\"China\",\"India\",\"Germany\",\"UK\",\"France\",\"Brazil\",\"Canada\",\"Australia\",\"Japan\"],\"y\":[2508.120391982205,2824.237249455475,2111.3085913330174,910.3810249062876,1703.7762764154418,2842.023278316334,1936.060955839772,3192.2880946424884,3671.5918016978735,2501.211261351078],\"type\":\"bar\",\"xaxis\":\"x12\",\"yaxis\":\"y12\"},{\"name\":\"2012\",\"x\":[\"USA\",\"China\",\"India\",\"Germany\",\"UK\",\"France\",\"Brazil\",\"Canada\",\"Australia\",\"Japan\"],\"y\":[3379.453681304388,2216.774404719426,4458.360754510699,3184.790624545341,1796.273415496362,3656.681704617294,2808.6879654045124,2176.657343858341,1944.784951939714,2878.706310472092],\"type\":\"bar\",\"xaxis\":\"x13\",\"yaxis\":\"y13\"},{\"name\":\"2013\",\"x\":[\"USA\",\"China\",\"India\",\"Germany\",\"UK\",\"France\",\"Brazil\",\"Canada\",\"Australia\",\"Japan\"],\"y\":[4090.097972702961,2710.4261365760344,3033.6328069491096,2197.6440106239984,3021.123520260136,4001.457554903891,2626.720283211744,2856.886542249317,2124.7142376350635,3509.1892618050265],\"type\":\"bar\",\"xaxis\":\"x14\",\"yaxis\":\"y14\"},{\"name\":\"2014\",\"x\":[\"USA\",\"China\",\"India\",\"Germany\",\"UK\",\"France\",\"Brazil\",\"Canada\",\"Australia\",\"Japan\"],\"y\":[1207.706012983,3201.2246174111287,3300.027365877058,2909.305399297932,2812.034713693706,2560.28195072116,2185.7852130971837,1690.027794355196,3074.385475256156,3945.955386928737],\"type\":\"bar\",\"xaxis\":\"x15\",\"yaxis\":\"y15\"},{\"name\":\"2015\",\"x\":[\"USA\",\"China\",\"India\",\"Germany\",\"UK\",\"France\",\"Brazil\",\"Canada\",\"Australia\",\"Japan\"],\"y\":[2921.9560645969937,2976.70867425504,2366.7198485409467,3041.5213117132253,4628.164752996172,2987.631026657516,2072.058560545697,2933.414617202288,2487.060427713204,1762.3891623902614],\"type\":\"bar\",\"xaxis\":\"x16\",\"yaxis\":\"y16\"},{\"name\":\"2016\",\"x\":[\"USA\",\"China\",\"India\",\"Germany\",\"UK\",\"France\",\"Brazil\",\"Canada\",\"Australia\",\"Japan\"],\"y\":[2208.90579062078,3121.1015153461435,3410.2114437709342,1863.6945694364815,2669.6162281438483,2167.182794610928,1593.602413632273,2980.934205804002,2041.816066734072,2168.008321390181],\"type\":\"bar\",\"xaxis\":\"x17\",\"yaxis\":\"y17\"},{\"name\":\"2017\",\"x\":[\"USA\",\"China\",\"India\",\"Germany\",\"UK\",\"France\",\"Brazil\",\"Canada\",\"Australia\",\"Japan\"],\"y\":[3402.2867613871613,2446.4134774468625,2961.967678630567,3292.723225609536,2620.777525796779,3390.0504671034773,3230.174598256093,2955.3631653572734,3215.992504849376,2633.7522825025208],\"type\":\"bar\",\"xaxis\":\"x18\",\"yaxis\":\"y18\"},{\"name\":\"2018\",\"x\":[\"USA\",\"China\",\"India\",\"Germany\",\"UK\",\"France\",\"Brazil\",\"Canada\",\"Australia\",\"Japan\"],\"y\":[3244.78047256192,2614.182391693417,3903.67956530178,2860.1850865886777,1418.660745862797,3547.813932207805,2397.691406921346,2925.6522347248288,2259.5263810910565,2314.749312316023],\"type\":\"bar\",\"xaxis\":\"x19\",\"yaxis\":\"y19\"},{\"name\":\"2019\",\"x\":[\"USA\",\"China\",\"India\",\"Germany\",\"UK\",\"France\",\"Brazil\",\"Canada\",\"Australia\",\"Japan\"],\"y\":[2101.9341745832407,2580.586896974983,3095.676425560725,4040.683504420762,3130.5392538952187,2370.9038175671285,2938.460687506879,2898.9854193865644,1916.4956648873035,3097.879573755427],\"type\":\"bar\",\"xaxis\":\"x20\",\"yaxis\":\"y20\"},{\"name\":\"2020\",\"x\":[\"USA\",\"China\",\"India\",\"Germany\",\"UK\",\"France\",\"Brazil\",\"Canada\",\"Australia\",\"Japan\"],\"y\":[2828.2085480420737,3428.925320201064,3712.54221571834,1095.9041363329045,2879.867201372323,1798.9018092989406,2732.3148479018105,2244.38840551788,2327.488255054132,1487.787681789187],\"type\":\"bar\",\"xaxis\":\"x21\",\"yaxis\":\"y21\"},{\"name\":\"2021\",\"x\":[\"USA\",\"China\",\"India\",\"Germany\",\"UK\",\"France\",\"Brazil\",\"Canada\",\"Australia\",\"Japan\"],\"y\":[2879.853773463422,3071.2571536529963,3764.8691636655335,1887.4672061361812,2560.5336349314275,2596.100387417184,3389.526125926841,3776.0510361425463,2440.932473177017,3533.28326891069],\"type\":\"bar\",\"xaxis\":\"x22\",\"yaxis\":\"y22\"},{\"name\":\"2022\",\"x\":[\"USA\",\"China\",\"India\",\"Germany\",\"UK\",\"France\",\"Brazil\",\"Canada\",\"Australia\",\"Japan\"],\"y\":[2586.6412433746887,3379.2448303498977,2571.181403959102,2952.072365378304,3191.256012263406,3142.900919479857,1430.755862518459,1948.953449235985,2286.3805439954917,2880.8919104923502],\"type\":\"bar\",\"xaxis\":\"x23\",\"yaxis\":\"y23\"},{\"name\":\"2023\",\"x\":[\"USA\",\"China\",\"India\",\"Germany\",\"UK\",\"France\",\"Brazil\",\"Canada\",\"Australia\",\"Japan\"],\"y\":[3597.2191248822824,2003.1152950400187,2252.883799275913,3126.171905445863,3319.635818412611,3708.9037999007846,1886.813594031151,3111.760083896874,3027.057034177034,1792.878545839327],\"type\":\"bar\",\"xaxis\":\"x24\",\"yaxis\":\"y24\"}],                        {\"template\":{\"data\":{\"histogram2dcontour\":[{\"type\":\"histogram2dcontour\",\"colorbar\":{\"outlinewidth\":0,\"ticks\":\"\"},\"colorscale\":[[0.0,\"#0d0887\"],[0.1111111111111111,\"#46039f\"],[0.2222222222222222,\"#7201a8\"],[0.3333333333333333,\"#9c179e\"],[0.4444444444444444,\"#bd3786\"],[0.5555555555555556,\"#d8576b\"],[0.6666666666666666,\"#ed7953\"],[0.7777777777777778,\"#fb9f3a\"],[0.8888888888888888,\"#fdca26\"],[1.0,\"#f0f921\"]]}],\"choropleth\":[{\"type\":\"choropleth\",\"colorbar\":{\"outlinewidth\":0,\"ticks\":\"\"}}],\"histogram2d\":[{\"type\":\"histogram2d\",\"colorbar\":{\"outlinewidth\":0,\"ticks\":\"\"},\"colorscale\":[[0.0,\"#0d0887\"],[0.1111111111111111,\"#46039f\"],[0.2222222222222222,\"#7201a8\"],[0.3333333333333333,\"#9c179e\"],[0.4444444444444444,\"#bd3786\"],[0.5555555555555556,\"#d8576b\"],[0.6666666666666666,\"#ed7953\"],[0.7777777777777778,\"#fb9f3a\"],[0.8888888888888888,\"#fdca26\"],[1.0,\"#f0f921\"]]}],\"heatmap\":[{\"type\":\"heatmap\",\"colorbar\":{\"outlinewidth\":0,\"ticks\":\"\"},\"colorscale\":[[0.0,\"#0d0887\"],[0.1111111111111111,\"#46039f\"],[0.2222222222222222,\"#7201a8\"],[0.3333333333333333,\"#9c179e\"],[0.4444444444444444,\"#bd3786\"],[0.5555555555555556,\"#d8576b\"],[0.6666666666666666,\"#ed7953\"],[0.7777777777777778,\"#fb9f3a\"],[0.8888888888888888,\"#fdca26\"],[1.0,\"#f0f921\"]]}],\"heatmapgl\":[{\"type\":\"heatmapgl\",\"colorbar\":{\"outlinewidth\":0,\"ticks\":\"\"},\"colorscale\":[[0.0,\"#0d0887\"],[0.1111111111111111,\"#46039f\"],[0.2222222222222222,\"#7201a8\"],[0.3333333333333333,\"#9c179e\"],[0.4444444444444444,\"#bd3786\"],[0.5555555555555556,\"#d8576b\"],[0.6666666666666666,\"#ed7953\"],[0.7777777777777778,\"#fb9f3a\"],[0.8888888888888888,\"#fdca26\"],[1.0,\"#f0f921\"]]}],\"contourcarpet\":[{\"type\":\"contourcarpet\",\"colorbar\":{\"outlinewidth\":0,\"ticks\":\"\"}}],\"contour\":[{\"type\":\"contour\",\"colorbar\":{\"outlinewidth\":0,\"ticks\":\"\"},\"colorscale\":[[0.0,\"#0d0887\"],[0.1111111111111111,\"#46039f\"],[0.2222222222222222,\"#7201a8\"],[0.3333333333333333,\"#9c179e\"],[0.4444444444444444,\"#bd3786\"],[0.5555555555555556,\"#d8576b\"],[0.6666666666666666,\"#ed7953\"],[0.7777777777777778,\"#fb9f3a\"],[0.8888888888888888,\"#fdca26\"],[1.0,\"#f0f921\"]]}],\"surface\":[{\"type\":\"surface\",\"colorbar\":{\"outlinewidth\":0,\"ticks\":\"\"},\"colorscale\":[[0.0,\"#0d0887\"],[0.1111111111111111,\"#46039f\"],[0.2222222222222222,\"#7201a8\"],[0.3333333333333333,\"#9c179e\"],[0.4444444444444444,\"#bd3786\"],[0.5555555555555556,\"#d8576b\"],[0.6666666666666666,\"#ed7953\"],[0.7777777777777778,\"#fb9f3a\"],[0.8888888888888888,\"#fdca26\"],[1.0,\"#f0f921\"]]}],\"mesh3d\":[{\"type\":\"mesh3d\",\"colorbar\":{\"outlinewidth\":0,\"ticks\":\"\"}}],\"scatter\":[{\"fillpattern\":{\"fillmode\":\"overlay\",\"size\":10,\"solidity\":0.2},\"type\":\"scatter\"}],\"parcoords\":[{\"type\":\"parcoords\",\"line\":{\"colorbar\":{\"outlinewidth\":0,\"ticks\":\"\"}}}],\"scatterpolargl\":[{\"type\":\"scatterpolargl\",\"marker\":{\"colorbar\":{\"outlinewidth\":0,\"ticks\":\"\"}}}],\"bar\":[{\"error_x\":{\"color\":\"#2a3f5f\"},\"error_y\":{\"color\":\"#2a3f5f\"},\"marker\":{\"line\":{\"color\":\"#E5ECF6\",\"width\":0.5},\"pattern\":{\"fillmode\":\"overlay\",\"size\":10,\"solidity\":0.2}},\"type\":\"bar\"}],\"scattergeo\":[{\"type\":\"scattergeo\",\"marker\":{\"colorbar\":{\"outlinewidth\":0,\"ticks\":\"\"}}}],\"scatterpolar\":[{\"type\":\"scatterpolar\",\"marker\":{\"colorbar\":{\"outlinewidth\":0,\"ticks\":\"\"}}}],\"histogram\":[{\"marker\":{\"pattern\":{\"fillmode\":\"overlay\",\"size\":10,\"solidity\":0.2}},\"type\":\"histogram\"}],\"scattergl\":[{\"type\":\"scattergl\",\"marker\":{\"colorbar\":{\"outlinewidth\":0,\"ticks\":\"\"}}}],\"scatter3d\":[{\"type\":\"scatter3d\",\"line\":{\"colorbar\":{\"outlinewidth\":0,\"ticks\":\"\"}},\"marker\":{\"colorbar\":{\"outlinewidth\":0,\"ticks\":\"\"}}}],\"scattermapbox\":[{\"type\":\"scattermapbox\",\"marker\":{\"colorbar\":{\"outlinewidth\":0,\"ticks\":\"\"}}}],\"scatterternary\":[{\"type\":\"scatterternary\",\"marker\":{\"colorbar\":{\"outlinewidth\":0,\"ticks\":\"\"}}}],\"scattercarpet\":[{\"type\":\"scattercarpet\",\"marker\":{\"colorbar\":{\"outlinewidth\":0,\"ticks\":\"\"}}}],\"carpet\":[{\"aaxis\":{\"endlinecolor\":\"#2a3f5f\",\"gridcolor\":\"white\",\"linecolor\":\"white\",\"minorgridcolor\":\"white\",\"startlinecolor\":\"#2a3f5f\"},\"baxis\":{\"endlinecolor\":\"#2a3f5f\",\"gridcolor\":\"white\",\"linecolor\":\"white\",\"minorgridcolor\":\"white\",\"startlinecolor\":\"#2a3f5f\"},\"type\":\"carpet\"}],\"table\":[{\"cells\":{\"fill\":{\"color\":\"#EBF0F8\"},\"line\":{\"color\":\"white\"}},\"header\":{\"fill\":{\"color\":\"#C8D4E3\"},\"line\":{\"color\":\"white\"}},\"type\":\"table\"}],\"barpolar\":[{\"marker\":{\"line\":{\"color\":\"#E5ECF6\",\"width\":0.5},\"pattern\":{\"fillmode\":\"overlay\",\"size\":10,\"solidity\":0.2}},\"type\":\"barpolar\"}],\"pie\":[{\"automargin\":true,\"type\":\"pie\"}]},\"layout\":{\"autotypenumbers\":\"strict\",\"colorway\":[\"#636efa\",\"#EF553B\",\"#00cc96\",\"#ab63fa\",\"#FFA15A\",\"#19d3f3\",\"#FF6692\",\"#B6E880\",\"#FF97FF\",\"#FECB52\"],\"font\":{\"color\":\"#2a3f5f\"},\"hovermode\":\"closest\",\"hoverlabel\":{\"align\":\"left\"},\"paper_bgcolor\":\"white\",\"plot_bgcolor\":\"#E5ECF6\",\"polar\":{\"bgcolor\":\"#E5ECF6\",\"angularaxis\":{\"gridcolor\":\"white\",\"linecolor\":\"white\",\"ticks\":\"\"},\"radialaxis\":{\"gridcolor\":\"white\",\"linecolor\":\"white\",\"ticks\":\"\"}},\"ternary\":{\"bgcolor\":\"#E5ECF6\",\"aaxis\":{\"gridcolor\":\"white\",\"linecolor\":\"white\",\"ticks\":\"\"},\"baxis\":{\"gridcolor\":\"white\",\"linecolor\":\"white\",\"ticks\":\"\"},\"caxis\":{\"gridcolor\":\"white\",\"linecolor\":\"white\",\"ticks\":\"\"}},\"coloraxis\":{\"colorbar\":{\"outlinewidth\":0,\"ticks\":\"\"}},\"colorscale\":{\"sequential\":[[0.0,\"#0d0887\"],[0.1111111111111111,\"#46039f\"],[0.2222222222222222,\"#7201a8\"],[0.3333333333333333,\"#9c179e\"],[0.4444444444444444,\"#bd3786\"],[0.5555555555555556,\"#d8576b\"],[0.6666666666666666,\"#ed7953\"],[0.7777777777777778,\"#fb9f3a\"],[0.8888888888888888,\"#fdca26\"],[1.0,\"#f0f921\"]],\"sequentialminus\":[[0.0,\"#0d0887\"],[0.1111111111111111,\"#46039f\"],[0.2222222222222222,\"#7201a8\"],[0.3333333333333333,\"#9c179e\"],[0.4444444444444444,\"#bd3786\"],[0.5555555555555556,\"#d8576b\"],[0.6666666666666666,\"#ed7953\"],[0.7777777777777778,\"#fb9f3a\"],[0.8888888888888888,\"#fdca26\"],[1.0,\"#f0f921\"]],\"diverging\":[[0,\"#8e0152\"],[0.1,\"#c51b7d\"],[0.2,\"#de77ae\"],[0.3,\"#f1b6da\"],[0.4,\"#fde0ef\"],[0.5,\"#f7f7f7\"],[0.6,\"#e6f5d0\"],[0.7,\"#b8e186\"],[0.8,\"#7fbc41\"],[0.9,\"#4d9221\"],[1,\"#276419\"]]},\"xaxis\":{\"gridcolor\":\"white\",\"linecolor\":\"white\",\"ticks\":\"\",\"title\":{\"standoff\":15},\"zerolinecolor\":\"white\",\"automargin\":true,\"zerolinewidth\":2},\"yaxis\":{\"gridcolor\":\"white\",\"linecolor\":\"white\",\"ticks\":\"\",\"title\":{\"standoff\":15},\"zerolinecolor\":\"white\",\"automargin\":true,\"zerolinewidth\":2},\"scene\":{\"xaxis\":{\"backgroundcolor\":\"#E5ECF6\",\"gridcolor\":\"white\",\"linecolor\":\"white\",\"showbackground\":true,\"ticks\":\"\",\"zerolinecolor\":\"white\",\"gridwidth\":2},\"yaxis\":{\"backgroundcolor\":\"#E5ECF6\",\"gridcolor\":\"white\",\"linecolor\":\"white\",\"showbackground\":true,\"ticks\":\"\",\"zerolinecolor\":\"white\",\"gridwidth\":2},\"zaxis\":{\"backgroundcolor\":\"#E5ECF6\",\"gridcolor\":\"white\",\"linecolor\":\"white\",\"showbackground\":true,\"ticks\":\"\",\"zerolinecolor\":\"white\",\"gridwidth\":2}},\"shapedefaults\":{\"line\":{\"color\":\"#2a3f5f\"}},\"annotationdefaults\":{\"arrowcolor\":\"#2a3f5f\",\"arrowhead\":0,\"arrowwidth\":1},\"geo\":{\"bgcolor\":\"white\",\"landcolor\":\"#E5ECF6\",\"subunitcolor\":\"white\",\"showland\":true,\"showlakes\":true,\"lakecolor\":\"white\"},\"title\":{\"x\":0.05},\"mapbox\":{\"style\":\"light\"}}},\"xaxis\":{\"anchor\":\"y\",\"domain\":[0.0,0.1388888888888889]},\"yaxis\":{\"anchor\":\"x\",\"domain\":[0.84375,1.0],\"title\":{\"text\":\"Total Renewable Energy Production (GWh)\"}},\"xaxis2\":{\"anchor\":\"y2\",\"domain\":[0.17222222222222222,0.3111111111111111]},\"yaxis2\":{\"anchor\":\"x2\",\"domain\":[0.84375,1.0],\"title\":{\"text\":\"Total Renewable Energy Production (GWh)\"}},\"xaxis3\":{\"anchor\":\"y3\",\"domain\":[0.34444444444444444,0.48333333333333334]},\"yaxis3\":{\"anchor\":\"x3\",\"domain\":[0.84375,1.0],\"title\":{\"text\":\"Total Renewable Energy Production (GWh)\"}},\"xaxis4\":{\"anchor\":\"y4\",\"domain\":[0.5166666666666667,0.6555555555555557]},\"yaxis4\":{\"anchor\":\"x4\",\"domain\":[0.84375,1.0],\"title\":{\"text\":\"Total Renewable Energy Production (GWh)\"}},\"xaxis5\":{\"anchor\":\"y5\",\"domain\":[0.6888888888888889,0.8277777777777777]},\"yaxis5\":{\"anchor\":\"x5\",\"domain\":[0.84375,1.0],\"title\":{\"text\":\"Total Renewable Energy Production (GWh)\"}},\"xaxis6\":{\"anchor\":\"y6\",\"domain\":[0.861111111111111,1.0]},\"yaxis6\":{\"anchor\":\"x6\",\"domain\":[0.84375,1.0],\"title\":{\"text\":\"Total Renewable Energy Production (GWh)\"}},\"xaxis7\":{\"anchor\":\"y7\",\"domain\":[0.0,0.1388888888888889]},\"yaxis7\":{\"anchor\":\"x7\",\"domain\":[0.5625,0.71875],\"title\":{\"text\":\"Total Renewable Energy Production (GWh)\"}},\"xaxis8\":{\"anchor\":\"y8\",\"domain\":[0.17222222222222222,0.3111111111111111]},\"yaxis8\":{\"anchor\":\"x8\",\"domain\":[0.5625,0.71875],\"title\":{\"text\":\"Total Renewable Energy Production (GWh)\"}},\"xaxis9\":{\"anchor\":\"y9\",\"domain\":[0.34444444444444444,0.48333333333333334]},\"yaxis9\":{\"anchor\":\"x9\",\"domain\":[0.5625,0.71875],\"title\":{\"text\":\"Total Renewable Energy Production (GWh)\"}},\"xaxis10\":{\"anchor\":\"y10\",\"domain\":[0.5166666666666667,0.6555555555555557]},\"yaxis10\":{\"anchor\":\"x10\",\"domain\":[0.5625,0.71875],\"title\":{\"text\":\"Total Renewable Energy Production (GWh)\"}},\"xaxis11\":{\"anchor\":\"y11\",\"domain\":[0.6888888888888889,0.8277777777777777]},\"yaxis11\":{\"anchor\":\"x11\",\"domain\":[0.5625,0.71875],\"title\":{\"text\":\"Total Renewable Energy Production (GWh)\"}},\"xaxis12\":{\"anchor\":\"y12\",\"domain\":[0.861111111111111,1.0]},\"yaxis12\":{\"anchor\":\"x12\",\"domain\":[0.5625,0.71875],\"title\":{\"text\":\"Total Renewable Energy Production (GWh)\"}},\"xaxis13\":{\"anchor\":\"y13\",\"domain\":[0.0,0.1388888888888889]},\"yaxis13\":{\"anchor\":\"x13\",\"domain\":[0.28125,0.4375],\"title\":{\"text\":\"Total Renewable Energy Production (GWh)\"}},\"xaxis14\":{\"anchor\":\"y14\",\"domain\":[0.17222222222222222,0.3111111111111111]},\"yaxis14\":{\"anchor\":\"x14\",\"domain\":[0.28125,0.4375],\"title\":{\"text\":\"Total Renewable Energy Production (GWh)\"}},\"xaxis15\":{\"anchor\":\"y15\",\"domain\":[0.34444444444444444,0.48333333333333334]},\"yaxis15\":{\"anchor\":\"x15\",\"domain\":[0.28125,0.4375],\"title\":{\"text\":\"Total Renewable Energy Production (GWh)\"}},\"xaxis16\":{\"anchor\":\"y16\",\"domain\":[0.5166666666666667,0.6555555555555557]},\"yaxis16\":{\"anchor\":\"x16\",\"domain\":[0.28125,0.4375],\"title\":{\"text\":\"Total Renewable Energy Production (GWh)\"}},\"xaxis17\":{\"anchor\":\"y17\",\"domain\":[0.6888888888888889,0.8277777777777777]},\"yaxis17\":{\"anchor\":\"x17\",\"domain\":[0.28125,0.4375],\"title\":{\"text\":\"Total Renewable Energy Production (GWh)\"}},\"xaxis18\":{\"anchor\":\"y18\",\"domain\":[0.861111111111111,1.0]},\"yaxis18\":{\"anchor\":\"x18\",\"domain\":[0.28125,0.4375],\"title\":{\"text\":\"Total Renewable Energy Production (GWh)\"}},\"xaxis19\":{\"anchor\":\"y19\",\"domain\":[0.0,0.1388888888888889]},\"yaxis19\":{\"anchor\":\"x19\",\"domain\":[0.0,0.15625],\"title\":{\"text\":\"Total Renewable Energy Production (GWh)\"}},\"xaxis20\":{\"anchor\":\"y20\",\"domain\":[0.17222222222222222,0.3111111111111111]},\"yaxis20\":{\"anchor\":\"x20\",\"domain\":[0.0,0.15625],\"title\":{\"text\":\"Total Renewable Energy Production (GWh)\"}},\"xaxis21\":{\"anchor\":\"y21\",\"domain\":[0.34444444444444444,0.48333333333333334]},\"yaxis21\":{\"anchor\":\"x21\",\"domain\":[0.0,0.15625],\"title\":{\"text\":\"Total Renewable Energy Production (GWh)\"}},\"xaxis22\":{\"anchor\":\"y22\",\"domain\":[0.5166666666666667,0.6555555555555557]},\"yaxis22\":{\"anchor\":\"x22\",\"domain\":[0.0,0.15625],\"title\":{\"text\":\"Total Renewable Energy Production (GWh)\"}},\"xaxis23\":{\"anchor\":\"y23\",\"domain\":[0.6888888888888889,0.8277777777777777]},\"yaxis23\":{\"anchor\":\"x23\",\"domain\":[0.0,0.15625],\"title\":{\"text\":\"Total Renewable Energy Production (GWh)\"}},\"xaxis24\":{\"anchor\":\"y24\",\"domain\":[0.861111111111111,1.0]},\"yaxis24\":{\"anchor\":\"x24\",\"domain\":[0.0,0.15625],\"title\":{\"text\":\"Total Renewable Energy Production (GWh)\"}},\"annotations\":[{\"font\":{\"size\":16},\"showarrow\":false,\"text\":\"2000\",\"x\":0.06944444444444445,\"xanchor\":\"center\",\"xref\":\"paper\",\"y\":1.0,\"yanchor\":\"bottom\",\"yref\":\"paper\"},{\"font\":{\"size\":16},\"showarrow\":false,\"text\":\"2001\",\"x\":0.24166666666666667,\"xanchor\":\"center\",\"xref\":\"paper\",\"y\":1.0,\"yanchor\":\"bottom\",\"yref\":\"paper\"},{\"font\":{\"size\":16},\"showarrow\":false,\"text\":\"2002\",\"x\":0.41388888888888886,\"xanchor\":\"center\",\"xref\":\"paper\",\"y\":1.0,\"yanchor\":\"bottom\",\"yref\":\"paper\"},{\"font\":{\"size\":16},\"showarrow\":false,\"text\":\"2003\",\"x\":0.5861111111111112,\"xanchor\":\"center\",\"xref\":\"paper\",\"y\":1.0,\"yanchor\":\"bottom\",\"yref\":\"paper\"},{\"font\":{\"size\":16},\"showarrow\":false,\"text\":\"2004\",\"x\":0.7583333333333333,\"xanchor\":\"center\",\"xref\":\"paper\",\"y\":1.0,\"yanchor\":\"bottom\",\"yref\":\"paper\"},{\"font\":{\"size\":16},\"showarrow\":false,\"text\":\"2005\",\"x\":0.9305555555555556,\"xanchor\":\"center\",\"xref\":\"paper\",\"y\":1.0,\"yanchor\":\"bottom\",\"yref\":\"paper\"},{\"font\":{\"size\":16},\"showarrow\":false,\"text\":\"2006\",\"x\":0.06944444444444445,\"xanchor\":\"center\",\"xref\":\"paper\",\"y\":0.71875,\"yanchor\":\"bottom\",\"yref\":\"paper\"},{\"font\":{\"size\":16},\"showarrow\":false,\"text\":\"2007\",\"x\":0.24166666666666667,\"xanchor\":\"center\",\"xref\":\"paper\",\"y\":0.71875,\"yanchor\":\"bottom\",\"yref\":\"paper\"},{\"font\":{\"size\":16},\"showarrow\":false,\"text\":\"2008\",\"x\":0.41388888888888886,\"xanchor\":\"center\",\"xref\":\"paper\",\"y\":0.71875,\"yanchor\":\"bottom\",\"yref\":\"paper\"},{\"font\":{\"size\":16},\"showarrow\":false,\"text\":\"2009\",\"x\":0.5861111111111112,\"xanchor\":\"center\",\"xref\":\"paper\",\"y\":0.71875,\"yanchor\":\"bottom\",\"yref\":\"paper\"},{\"font\":{\"size\":16},\"showarrow\":false,\"text\":\"2010\",\"x\":0.7583333333333333,\"xanchor\":\"center\",\"xref\":\"paper\",\"y\":0.71875,\"yanchor\":\"bottom\",\"yref\":\"paper\"},{\"font\":{\"size\":16},\"showarrow\":false,\"text\":\"2011\",\"x\":0.9305555555555556,\"xanchor\":\"center\",\"xref\":\"paper\",\"y\":0.71875,\"yanchor\":\"bottom\",\"yref\":\"paper\"},{\"font\":{\"size\":16},\"showarrow\":false,\"text\":\"2012\",\"x\":0.06944444444444445,\"xanchor\":\"center\",\"xref\":\"paper\",\"y\":0.4375,\"yanchor\":\"bottom\",\"yref\":\"paper\"},{\"font\":{\"size\":16},\"showarrow\":false,\"text\":\"2013\",\"x\":0.24166666666666667,\"xanchor\":\"center\",\"xref\":\"paper\",\"y\":0.4375,\"yanchor\":\"bottom\",\"yref\":\"paper\"},{\"font\":{\"size\":16},\"showarrow\":false,\"text\":\"2014\",\"x\":0.41388888888888886,\"xanchor\":\"center\",\"xref\":\"paper\",\"y\":0.4375,\"yanchor\":\"bottom\",\"yref\":\"paper\"},{\"font\":{\"size\":16},\"showarrow\":false,\"text\":\"2015\",\"x\":0.5861111111111112,\"xanchor\":\"center\",\"xref\":\"paper\",\"y\":0.4375,\"yanchor\":\"bottom\",\"yref\":\"paper\"},{\"font\":{\"size\":16},\"showarrow\":false,\"text\":\"2016\",\"x\":0.7583333333333333,\"xanchor\":\"center\",\"xref\":\"paper\",\"y\":0.4375,\"yanchor\":\"bottom\",\"yref\":\"paper\"},{\"font\":{\"size\":16},\"showarrow\":false,\"text\":\"2017\",\"x\":0.9305555555555556,\"xanchor\":\"center\",\"xref\":\"paper\",\"y\":0.4375,\"yanchor\":\"bottom\",\"yref\":\"paper\"},{\"font\":{\"size\":16},\"showarrow\":false,\"text\":\"2018\",\"x\":0.06944444444444445,\"xanchor\":\"center\",\"xref\":\"paper\",\"y\":0.15625,\"yanchor\":\"bottom\",\"yref\":\"paper\"},{\"font\":{\"size\":16},\"showarrow\":false,\"text\":\"2019\",\"x\":0.24166666666666667,\"xanchor\":\"center\",\"xref\":\"paper\",\"y\":0.15625,\"yanchor\":\"bottom\",\"yref\":\"paper\"},{\"font\":{\"size\":16},\"showarrow\":false,\"text\":\"2020\",\"x\":0.41388888888888886,\"xanchor\":\"center\",\"xref\":\"paper\",\"y\":0.15625,\"yanchor\":\"bottom\",\"yref\":\"paper\"},{\"font\":{\"size\":16},\"showarrow\":false,\"text\":\"2021\",\"x\":0.5861111111111112,\"xanchor\":\"center\",\"xref\":\"paper\",\"y\":0.15625,\"yanchor\":\"bottom\",\"yref\":\"paper\"},{\"font\":{\"size\":16},\"showarrow\":false,\"text\":\"2022\",\"x\":0.7583333333333333,\"xanchor\":\"center\",\"xref\":\"paper\",\"y\":0.15625,\"yanchor\":\"bottom\",\"yref\":\"paper\"},{\"font\":{\"size\":16},\"showarrow\":false,\"text\":\"2023\",\"x\":0.9305555555555556,\"xanchor\":\"center\",\"xref\":\"paper\",\"y\":0.15625,\"yanchor\":\"bottom\",\"yref\":\"paper\"}],\"title\":{\"text\":\"Total Renewable Energy Production by Year (2000-2023)\",\"x\":0.5},\"height\":2000,\"width\":3000,\"showlegend\":false},                        {\"responsive\": true}                    ).then(function(){\n",
       "                            \n",
       "var gd = document.getElementById('0fbf3385-36bc-4c1d-959a-9c391919483b');\n",
       "var x = new MutationObserver(function (mutations, observer) {{\n",
       "        var display = window.getComputedStyle(gd).display;\n",
       "        if (!display || display === 'none') {{\n",
       "            console.log([gd, 'removed!']);\n",
       "            Plotly.purge(gd);\n",
       "            observer.disconnect();\n",
       "        }}\n",
       "}});\n",
       "\n",
       "// Listen for the removal of the full notebook cells\n",
       "var notebookContainer = gd.closest('#notebook-container');\n",
       "if (notebookContainer) {{\n",
       "    x.observe(notebookContainer, {childList: true});\n",
       "}}\n",
       "\n",
       "// Listen for the clearing of the current output cell\n",
       "var outputEl = gd.closest('.output');\n",
       "if (outputEl) {{\n",
       "    x.observe(outputEl, {childList: true});\n",
       "}}\n",
       "\n",
       "                        })                };                });            </script>        </div>"
      ]
     },
     "metadata": {},
     "output_type": "display_data"
    }
   ],
   "source": [
    "import plotly.express as px\n",
    "import plotly.graph_objects as go\n",
    "from plotly.subplots import make_subplots\n",
    "\n",
    "fig = make_subplots(rows=4, cols=6, subplot_titles=[str(year) for year, _ in year_dfs])\n",
    "\n",
    "for i, (year, data) in enumerate(year_dfs):\n",
    "    row = i // 6 + 1\n",
    "    col = i % 6 + 1\n",
    "    fig.add_trace(\n",
    "        go.Bar(x=data['Country'], y=data['TotalRenewableEnergy'], name=str(year)),\n",
    "        row=row, col=col\n",
    "    )\n",
    "\n",
    "for i in range(1, 5):\n",
    "    for j in range(1, 7):\n",
    "        fig.update_yaxes(title_text=\"Total Renewable Energy Production (GWh)\", row=i, col=j)\n",
    "\n",
    "fig.update_layout(\n",
    "    height=2000, width=3000,\n",
    "    title_text=\"Total Renewable Energy Production by Year (2000-2023)\",\n",
    "    title_x=0.5, \n",
    "    showlegend=False\n",
    ")\n",
    "\n",
    "fig.show()"
   ]
  },
  {
   "cell_type": "markdown",
   "metadata": {},
   "source": [
    "### This plot will show the total renewable energy production by country for every year ###"
   ]
  },
  {
   "cell_type": "code",
   "execution_count": 204,
   "metadata": {},
   "outputs": [
    {
     "data": {
      "application/vnd.plotly.v1+json": {
       "config": {
        "plotlyServerURL": "https://plot.ly"
       },
       "data": [
        {
         "mode": "lines",
         "name": "Australia",
         "type": "scatter",
         "x": [
          2000,
          2001,
          2002,
          2003,
          2004,
          2005,
          2006,
          2007,
          2008,
          2009,
          2010,
          2011,
          2012,
          2013,
          2014,
          2015,
          2016,
          2017,
          2018,
          2019,
          2020,
          2021,
          2022,
          2023
         ],
         "xaxis": "x",
         "y": [
          2594.485554022319,
          2704.0782379594507,
          3307.833141547074,
          2563.7169735908483,
          3166.572863501043,
          2821.7743744799745,
          2323.433388581359,
          3823.0107150217223,
          2737.527509826466,
          3994.024866399661,
          3254.69907099334,
          3671.5918016978735,
          1944.784951939714,
          2124.7142376350635,
          3074.385475256156,
          2487.060427713204,
          2041.816066734072,
          3215.992504849376,
          2259.5263810910565,
          1916.4956648873035,
          2327.488255054132,
          2440.932473177017,
          2286.3805439954917,
          3027.057034177034
         ],
         "yaxis": "y"
        },
        {
         "mode": "lines",
         "name": "Brazil",
         "type": "scatter",
         "x": [
          2000,
          2001,
          2002,
          2003,
          2004,
          2005,
          2006,
          2007,
          2008,
          2009,
          2010,
          2011,
          2012,
          2013,
          2014,
          2015,
          2016,
          2017,
          2018,
          2019,
          2020,
          2021,
          2022,
          2023
         ],
         "xaxis": "x2",
         "y": [
          2939.7377185158234,
          3322.653512902812,
          1719.2136059412248,
          1487.1145852934217,
          3000.882579238765,
          1820.100006525699,
          1505.042960967639,
          1872.2734411945653,
          2427.154138226484,
          3220.8733332961874,
          2772.1701427815924,
          1936.060955839772,
          2808.6879654045124,
          2626.720283211744,
          2185.7852130971837,
          2072.058560545697,
          1593.602413632273,
          3230.174598256093,
          2397.691406921346,
          2938.460687506879,
          2732.3148479018105,
          3389.526125926841,
          1430.755862518459,
          1886.813594031151
         ],
         "yaxis": "y2"
        },
        {
         "mode": "lines",
         "name": "Canada",
         "type": "scatter",
         "x": [
          2000,
          2001,
          2002,
          2003,
          2004,
          2005,
          2006,
          2007,
          2008,
          2009,
          2010,
          2011,
          2012,
          2013,
          2014,
          2015,
          2016,
          2017,
          2018,
          2019,
          2020,
          2021,
          2022,
          2023
         ],
         "xaxis": "x3",
         "y": [
          2543.8201610281067,
          3305.625233931129,
          2312.0368865418795,
          3307.962315378893,
          2327.4016122621256,
          1891.9836141109945,
          2144.306847566438,
          1829.4149647177856,
          2906.430812624035,
          3325.554923264493,
          2621.175926121205,
          3192.2880946424884,
          2176.657343858341,
          2856.886542249317,
          1690.027794355196,
          2933.414617202288,
          2980.934205804002,
          2955.3631653572734,
          2925.6522347248288,
          2898.9854193865644,
          2244.38840551788,
          3776.0510361425463,
          1948.953449235985,
          3111.760083896874
         ],
         "yaxis": "y3"
        },
        {
         "mode": "lines",
         "name": "China",
         "type": "scatter",
         "x": [
          2000,
          2001,
          2002,
          2003,
          2004,
          2005,
          2006,
          2007,
          2008,
          2009,
          2010,
          2011,
          2012,
          2013,
          2014,
          2015,
          2016,
          2017,
          2018,
          2019,
          2020,
          2021,
          2022,
          2023
         ],
         "xaxis": "x4",
         "y": [
          1768.026527921858,
          2268.881780614847,
          2828.538705931964,
          1521.119280937599,
          4006.2280321942494,
          3375.900252056055,
          3131.744103037821,
          3188.3356360354733,
          2129.77563089366,
          2945.1663694856534,
          3086.308467401993,
          2824.237249455475,
          2216.774404719426,
          2710.4261365760344,
          3201.2246174111287,
          2976.70867425504,
          3121.1015153461435,
          2446.4134774468625,
          2614.182391693417,
          2580.586896974983,
          3428.925320201064,
          3071.2571536529963,
          3379.2448303498977,
          2003.1152950400187
         ],
         "yaxis": "y4"
        },
        {
         "mode": "lines",
         "name": "France",
         "type": "scatter",
         "x": [
          2000,
          2001,
          2002,
          2003,
          2004,
          2005,
          2006,
          2007,
          2008,
          2009,
          2010,
          2011,
          2012,
          2013,
          2014,
          2015,
          2016,
          2017,
          2018,
          2019,
          2020,
          2021,
          2022,
          2023
         ],
         "xaxis": "x5",
         "y": [
          3176.053016144782,
          2551.080576266058,
          3716.3894034734976,
          2091.496363333603,
          3376.6115367685693,
          2867.675525420011,
          3396.3780494018083,
          3679.270482289221,
          2704.0755690734286,
          3788.593381038621,
          3707.683749133144,
          2842.023278316334,
          3656.681704617294,
          4001.457554903891,
          2560.28195072116,
          2987.631026657516,
          2167.182794610928,
          3390.0504671034773,
          3547.813932207805,
          2370.9038175671285,
          1798.9018092989406,
          2596.100387417184,
          3142.900919479857,
          3708.9037999007846
         ],
         "yaxis": "y5"
        },
        {
         "mode": "lines",
         "name": "Germany",
         "type": "scatter",
         "x": [
          2000,
          2001,
          2002,
          2003,
          2004,
          2005,
          2006,
          2007,
          2008,
          2009,
          2010,
          2011,
          2012,
          2013,
          2014,
          2015,
          2016,
          2017,
          2018,
          2019,
          2020,
          2021,
          2022,
          2023
         ],
         "xaxis": "x6",
         "y": [
          1744.6274754887006,
          2309.6006769612004,
          2720.8817016741423,
          2593.1977325017133,
          3595.130908587283,
          2499.306288736131,
          3658.613205768128,
          1621.8925427798567,
          3321.584491791407,
          3686.320969376213,
          2295.8746459526265,
          910.3810249062876,
          3184.790624545341,
          2197.6440106239984,
          2909.305399297932,
          3041.5213117132253,
          1863.6945694364815,
          3292.723225609536,
          2860.1850865886777,
          4040.683504420762,
          1095.9041363329045,
          1887.4672061361812,
          2952.072365378304,
          3126.171905445863
         ],
         "yaxis": "y6"
        },
        {
         "mode": "lines",
         "name": "India",
         "type": "scatter",
         "x": [
          2000,
          2001,
          2002,
          2003,
          2004,
          2005,
          2006,
          2007,
          2008,
          2009,
          2010,
          2011,
          2012,
          2013,
          2014,
          2015,
          2016,
          2017,
          2018,
          2019,
          2020,
          2021,
          2022,
          2023
         ],
         "xaxis": "x7",
         "y": [
          3016.9030992607345,
          4328.594365808196,
          2016.328634830452,
          1678.8197397661293,
          2107.806173189253,
          2845.78200151544,
          3399.8250180994173,
          2305.3720040909243,
          3036.880586485561,
          3850.6880213739823,
          2466.5030292525994,
          2111.3085913330174,
          4458.360754510699,
          3033.6328069491096,
          3300.027365877058,
          2366.7198485409467,
          3410.2114437709342,
          2961.967678630567,
          3903.67956530178,
          3095.676425560725,
          3712.54221571834,
          3764.8691636655335,
          2571.181403959102,
          2252.883799275913
         ],
         "yaxis": "y7"
        },
        {
         "mode": "lines",
         "name": "Japan",
         "type": "scatter",
         "x": [
          2000,
          2001,
          2002,
          2003,
          2004,
          2005,
          2006,
          2007,
          2008,
          2009,
          2010,
          2011,
          2012,
          2013,
          2014,
          2015,
          2016,
          2017,
          2018,
          2019,
          2020,
          2021,
          2022,
          2023
         ],
         "xaxis": "x8",
         "y": [
          2083.99526229356,
          3412.018100276068,
          1874.3794847800116,
          2296.926790571604,
          1811.784659683088,
          2818.883172325718,
          2668.5382965851504,
          3141.524131721502,
          2139.651630165129,
          1442.3984367564071,
          3733.227183152709,
          2501.211261351078,
          2878.706310472092,
          3509.1892618050265,
          3945.955386928737,
          1762.3891623902614,
          2168.008321390181,
          2633.7522825025208,
          2314.749312316023,
          3097.879573755427,
          1487.787681789187,
          3533.28326891069,
          2880.8919104923502,
          1792.878545839327
         ],
         "yaxis": "y8"
        },
        {
         "mode": "lines",
         "name": "UK",
         "type": "scatter",
         "x": [
          2000,
          2001,
          2002,
          2003,
          2004,
          2005,
          2006,
          2007,
          2008,
          2009,
          2010,
          2011,
          2012,
          2013,
          2014,
          2015,
          2016,
          2017,
          2018,
          2019,
          2020,
          2021,
          2022,
          2023
         ],
         "xaxis": "x9",
         "y": [
          2915.3957169958967,
          4243.975133535502,
          2992.3599411298355,
          3596.2888208298878,
          3146.965153545617,
          2768.744634986823,
          2553.8775276758784,
          3526.9394323829747,
          2823.00351708707,
          2766.464237285119,
          2566.259165611812,
          1703.7762764154418,
          1796.273415496362,
          3021.123520260136,
          2812.034713693706,
          4628.164752996172,
          2669.6162281438483,
          2620.777525796779,
          1418.660745862797,
          3130.5392538952187,
          2879.867201372323,
          2560.5336349314275,
          3191.256012263406,
          3319.635818412611
         ],
         "yaxis": "y9"
        },
        {
         "mode": "lines",
         "name": "USA",
         "type": "scatter",
         "x": [
          2000,
          2001,
          2002,
          2003,
          2004,
          2005,
          2006,
          2007,
          2008,
          2009,
          2010,
          2011,
          2012,
          2013,
          2014,
          2015,
          2016,
          2017,
          2018,
          2019,
          2020,
          2021,
          2022,
          2023
         ],
         "xaxis": "x10",
         "y": [
          3736.8007242635726,
          1481.7310591199162,
          2582.950935479509,
          2066.873694288255,
          2471.361024566209,
          2043.518356089828,
          2652.0426625615864,
          2353.1207524035617,
          3947.4508949952433,
          2412.39090771782,
          1871.2190613362752,
          2508.120391982205,
          3379.453681304388,
          4090.097972702961,
          1207.706012983,
          2921.9560645969937,
          2208.90579062078,
          3402.2867613871613,
          3244.78047256192,
          2101.9341745832407,
          2828.2085480420737,
          2879.853773463422,
          2586.6412433746887,
          3597.2191248822824
         ],
         "yaxis": "y10"
        }
       ],
       "layout": {
        "annotations": [
         {
          "font": {
           "size": 16
          },
          "showarrow": false,
          "text": "Australia",
          "x": 0.08399999999999999,
          "xanchor": "center",
          "xref": "paper",
          "y": 1,
          "yanchor": "bottom",
          "yref": "paper"
         },
         {
          "font": {
           "size": 16
          },
          "showarrow": false,
          "text": "Brazil",
          "x": 0.292,
          "xanchor": "center",
          "xref": "paper",
          "y": 1,
          "yanchor": "bottom",
          "yref": "paper"
         },
         {
          "font": {
           "size": 16
          },
          "showarrow": false,
          "text": "Canada",
          "x": 0.5,
          "xanchor": "center",
          "xref": "paper",
          "y": 1,
          "yanchor": "bottom",
          "yref": "paper"
         },
         {
          "font": {
           "size": 16
          },
          "showarrow": false,
          "text": "China",
          "x": 0.708,
          "xanchor": "center",
          "xref": "paper",
          "y": 1,
          "yanchor": "bottom",
          "yref": "paper"
         },
         {
          "font": {
           "size": 16
          },
          "showarrow": false,
          "text": "France",
          "x": 0.9159999999999999,
          "xanchor": "center",
          "xref": "paper",
          "y": 1,
          "yanchor": "bottom",
          "yref": "paper"
         },
         {
          "font": {
           "size": 16
          },
          "showarrow": false,
          "text": "Germany",
          "x": 0.08399999999999999,
          "xanchor": "center",
          "xref": "paper",
          "y": 0.375,
          "yanchor": "bottom",
          "yref": "paper"
         },
         {
          "font": {
           "size": 16
          },
          "showarrow": false,
          "text": "India",
          "x": 0.292,
          "xanchor": "center",
          "xref": "paper",
          "y": 0.375,
          "yanchor": "bottom",
          "yref": "paper"
         },
         {
          "font": {
           "size": 16
          },
          "showarrow": false,
          "text": "Japan",
          "x": 0.5,
          "xanchor": "center",
          "xref": "paper",
          "y": 0.375,
          "yanchor": "bottom",
          "yref": "paper"
         },
         {
          "font": {
           "size": 16
          },
          "showarrow": false,
          "text": "UK",
          "x": 0.708,
          "xanchor": "center",
          "xref": "paper",
          "y": 0.375,
          "yanchor": "bottom",
          "yref": "paper"
         },
         {
          "font": {
           "size": 16
          },
          "showarrow": false,
          "text": "USA",
          "x": 0.9159999999999999,
          "xanchor": "center",
          "xref": "paper",
          "y": 0.375,
          "yanchor": "bottom",
          "yref": "paper"
         }
        ],
        "height": 600,
        "showlegend": false,
        "template": {
         "data": {
          "bar": [
           {
            "error_x": {
             "color": "#2a3f5f"
            },
            "error_y": {
             "color": "#2a3f5f"
            },
            "marker": {
             "line": {
              "color": "#E5ECF6",
              "width": 0.5
             },
             "pattern": {
              "fillmode": "overlay",
              "size": 10,
              "solidity": 0.2
             }
            },
            "type": "bar"
           }
          ],
          "barpolar": [
           {
            "marker": {
             "line": {
              "color": "#E5ECF6",
              "width": 0.5
             },
             "pattern": {
              "fillmode": "overlay",
              "size": 10,
              "solidity": 0.2
             }
            },
            "type": "barpolar"
           }
          ],
          "carpet": [
           {
            "aaxis": {
             "endlinecolor": "#2a3f5f",
             "gridcolor": "white",
             "linecolor": "white",
             "minorgridcolor": "white",
             "startlinecolor": "#2a3f5f"
            },
            "baxis": {
             "endlinecolor": "#2a3f5f",
             "gridcolor": "white",
             "linecolor": "white",
             "minorgridcolor": "white",
             "startlinecolor": "#2a3f5f"
            },
            "type": "carpet"
           }
          ],
          "choropleth": [
           {
            "colorbar": {
             "outlinewidth": 0,
             "ticks": ""
            },
            "type": "choropleth"
           }
          ],
          "contour": [
           {
            "colorbar": {
             "outlinewidth": 0,
             "ticks": ""
            },
            "colorscale": [
             [
              0,
              "#0d0887"
             ],
             [
              0.1111111111111111,
              "#46039f"
             ],
             [
              0.2222222222222222,
              "#7201a8"
             ],
             [
              0.3333333333333333,
              "#9c179e"
             ],
             [
              0.4444444444444444,
              "#bd3786"
             ],
             [
              0.5555555555555556,
              "#d8576b"
             ],
             [
              0.6666666666666666,
              "#ed7953"
             ],
             [
              0.7777777777777778,
              "#fb9f3a"
             ],
             [
              0.8888888888888888,
              "#fdca26"
             ],
             [
              1,
              "#f0f921"
             ]
            ],
            "type": "contour"
           }
          ],
          "contourcarpet": [
           {
            "colorbar": {
             "outlinewidth": 0,
             "ticks": ""
            },
            "type": "contourcarpet"
           }
          ],
          "heatmap": [
           {
            "colorbar": {
             "outlinewidth": 0,
             "ticks": ""
            },
            "colorscale": [
             [
              0,
              "#0d0887"
             ],
             [
              0.1111111111111111,
              "#46039f"
             ],
             [
              0.2222222222222222,
              "#7201a8"
             ],
             [
              0.3333333333333333,
              "#9c179e"
             ],
             [
              0.4444444444444444,
              "#bd3786"
             ],
             [
              0.5555555555555556,
              "#d8576b"
             ],
             [
              0.6666666666666666,
              "#ed7953"
             ],
             [
              0.7777777777777778,
              "#fb9f3a"
             ],
             [
              0.8888888888888888,
              "#fdca26"
             ],
             [
              1,
              "#f0f921"
             ]
            ],
            "type": "heatmap"
           }
          ],
          "heatmapgl": [
           {
            "colorbar": {
             "outlinewidth": 0,
             "ticks": ""
            },
            "colorscale": [
             [
              0,
              "#0d0887"
             ],
             [
              0.1111111111111111,
              "#46039f"
             ],
             [
              0.2222222222222222,
              "#7201a8"
             ],
             [
              0.3333333333333333,
              "#9c179e"
             ],
             [
              0.4444444444444444,
              "#bd3786"
             ],
             [
              0.5555555555555556,
              "#d8576b"
             ],
             [
              0.6666666666666666,
              "#ed7953"
             ],
             [
              0.7777777777777778,
              "#fb9f3a"
             ],
             [
              0.8888888888888888,
              "#fdca26"
             ],
             [
              1,
              "#f0f921"
             ]
            ],
            "type": "heatmapgl"
           }
          ],
          "histogram": [
           {
            "marker": {
             "pattern": {
              "fillmode": "overlay",
              "size": 10,
              "solidity": 0.2
             }
            },
            "type": "histogram"
           }
          ],
          "histogram2d": [
           {
            "colorbar": {
             "outlinewidth": 0,
             "ticks": ""
            },
            "colorscale": [
             [
              0,
              "#0d0887"
             ],
             [
              0.1111111111111111,
              "#46039f"
             ],
             [
              0.2222222222222222,
              "#7201a8"
             ],
             [
              0.3333333333333333,
              "#9c179e"
             ],
             [
              0.4444444444444444,
              "#bd3786"
             ],
             [
              0.5555555555555556,
              "#d8576b"
             ],
             [
              0.6666666666666666,
              "#ed7953"
             ],
             [
              0.7777777777777778,
              "#fb9f3a"
             ],
             [
              0.8888888888888888,
              "#fdca26"
             ],
             [
              1,
              "#f0f921"
             ]
            ],
            "type": "histogram2d"
           }
          ],
          "histogram2dcontour": [
           {
            "colorbar": {
             "outlinewidth": 0,
             "ticks": ""
            },
            "colorscale": [
             [
              0,
              "#0d0887"
             ],
             [
              0.1111111111111111,
              "#46039f"
             ],
             [
              0.2222222222222222,
              "#7201a8"
             ],
             [
              0.3333333333333333,
              "#9c179e"
             ],
             [
              0.4444444444444444,
              "#bd3786"
             ],
             [
              0.5555555555555556,
              "#d8576b"
             ],
             [
              0.6666666666666666,
              "#ed7953"
             ],
             [
              0.7777777777777778,
              "#fb9f3a"
             ],
             [
              0.8888888888888888,
              "#fdca26"
             ],
             [
              1,
              "#f0f921"
             ]
            ],
            "type": "histogram2dcontour"
           }
          ],
          "mesh3d": [
           {
            "colorbar": {
             "outlinewidth": 0,
             "ticks": ""
            },
            "type": "mesh3d"
           }
          ],
          "parcoords": [
           {
            "line": {
             "colorbar": {
              "outlinewidth": 0,
              "ticks": ""
             }
            },
            "type": "parcoords"
           }
          ],
          "pie": [
           {
            "automargin": true,
            "type": "pie"
           }
          ],
          "scatter": [
           {
            "fillpattern": {
             "fillmode": "overlay",
             "size": 10,
             "solidity": 0.2
            },
            "type": "scatter"
           }
          ],
          "scatter3d": [
           {
            "line": {
             "colorbar": {
              "outlinewidth": 0,
              "ticks": ""
             }
            },
            "marker": {
             "colorbar": {
              "outlinewidth": 0,
              "ticks": ""
             }
            },
            "type": "scatter3d"
           }
          ],
          "scattercarpet": [
           {
            "marker": {
             "colorbar": {
              "outlinewidth": 0,
              "ticks": ""
             }
            },
            "type": "scattercarpet"
           }
          ],
          "scattergeo": [
           {
            "marker": {
             "colorbar": {
              "outlinewidth": 0,
              "ticks": ""
             }
            },
            "type": "scattergeo"
           }
          ],
          "scattergl": [
           {
            "marker": {
             "colorbar": {
              "outlinewidth": 0,
              "ticks": ""
             }
            },
            "type": "scattergl"
           }
          ],
          "scattermapbox": [
           {
            "marker": {
             "colorbar": {
              "outlinewidth": 0,
              "ticks": ""
             }
            },
            "type": "scattermapbox"
           }
          ],
          "scatterpolar": [
           {
            "marker": {
             "colorbar": {
              "outlinewidth": 0,
              "ticks": ""
             }
            },
            "type": "scatterpolar"
           }
          ],
          "scatterpolargl": [
           {
            "marker": {
             "colorbar": {
              "outlinewidth": 0,
              "ticks": ""
             }
            },
            "type": "scatterpolargl"
           }
          ],
          "scatterternary": [
           {
            "marker": {
             "colorbar": {
              "outlinewidth": 0,
              "ticks": ""
             }
            },
            "type": "scatterternary"
           }
          ],
          "surface": [
           {
            "colorbar": {
             "outlinewidth": 0,
             "ticks": ""
            },
            "colorscale": [
             [
              0,
              "#0d0887"
             ],
             [
              0.1111111111111111,
              "#46039f"
             ],
             [
              0.2222222222222222,
              "#7201a8"
             ],
             [
              0.3333333333333333,
              "#9c179e"
             ],
             [
              0.4444444444444444,
              "#bd3786"
             ],
             [
              0.5555555555555556,
              "#d8576b"
             ],
             [
              0.6666666666666666,
              "#ed7953"
             ],
             [
              0.7777777777777778,
              "#fb9f3a"
             ],
             [
              0.8888888888888888,
              "#fdca26"
             ],
             [
              1,
              "#f0f921"
             ]
            ],
            "type": "surface"
           }
          ],
          "table": [
           {
            "cells": {
             "fill": {
              "color": "#EBF0F8"
             },
             "line": {
              "color": "white"
             }
            },
            "header": {
             "fill": {
              "color": "#C8D4E3"
             },
             "line": {
              "color": "white"
             }
            },
            "type": "table"
           }
          ]
         },
         "layout": {
          "annotationdefaults": {
           "arrowcolor": "#2a3f5f",
           "arrowhead": 0,
           "arrowwidth": 1
          },
          "autotypenumbers": "strict",
          "coloraxis": {
           "colorbar": {
            "outlinewidth": 0,
            "ticks": ""
           }
          },
          "colorscale": {
           "diverging": [
            [
             0,
             "#8e0152"
            ],
            [
             0.1,
             "#c51b7d"
            ],
            [
             0.2,
             "#de77ae"
            ],
            [
             0.3,
             "#f1b6da"
            ],
            [
             0.4,
             "#fde0ef"
            ],
            [
             0.5,
             "#f7f7f7"
            ],
            [
             0.6,
             "#e6f5d0"
            ],
            [
             0.7,
             "#b8e186"
            ],
            [
             0.8,
             "#7fbc41"
            ],
            [
             0.9,
             "#4d9221"
            ],
            [
             1,
             "#276419"
            ]
           ],
           "sequential": [
            [
             0,
             "#0d0887"
            ],
            [
             0.1111111111111111,
             "#46039f"
            ],
            [
             0.2222222222222222,
             "#7201a8"
            ],
            [
             0.3333333333333333,
             "#9c179e"
            ],
            [
             0.4444444444444444,
             "#bd3786"
            ],
            [
             0.5555555555555556,
             "#d8576b"
            ],
            [
             0.6666666666666666,
             "#ed7953"
            ],
            [
             0.7777777777777778,
             "#fb9f3a"
            ],
            [
             0.8888888888888888,
             "#fdca26"
            ],
            [
             1,
             "#f0f921"
            ]
           ],
           "sequentialminus": [
            [
             0,
             "#0d0887"
            ],
            [
             0.1111111111111111,
             "#46039f"
            ],
            [
             0.2222222222222222,
             "#7201a8"
            ],
            [
             0.3333333333333333,
             "#9c179e"
            ],
            [
             0.4444444444444444,
             "#bd3786"
            ],
            [
             0.5555555555555556,
             "#d8576b"
            ],
            [
             0.6666666666666666,
             "#ed7953"
            ],
            [
             0.7777777777777778,
             "#fb9f3a"
            ],
            [
             0.8888888888888888,
             "#fdca26"
            ],
            [
             1,
             "#f0f921"
            ]
           ]
          },
          "colorway": [
           "#636efa",
           "#EF553B",
           "#00cc96",
           "#ab63fa",
           "#FFA15A",
           "#19d3f3",
           "#FF6692",
           "#B6E880",
           "#FF97FF",
           "#FECB52"
          ],
          "font": {
           "color": "#2a3f5f"
          },
          "geo": {
           "bgcolor": "white",
           "lakecolor": "white",
           "landcolor": "#E5ECF6",
           "showlakes": true,
           "showland": true,
           "subunitcolor": "white"
          },
          "hoverlabel": {
           "align": "left"
          },
          "hovermode": "closest",
          "mapbox": {
           "style": "light"
          },
          "paper_bgcolor": "white",
          "plot_bgcolor": "#E5ECF6",
          "polar": {
           "angularaxis": {
            "gridcolor": "white",
            "linecolor": "white",
            "ticks": ""
           },
           "bgcolor": "#E5ECF6",
           "radialaxis": {
            "gridcolor": "white",
            "linecolor": "white",
            "ticks": ""
           }
          },
          "scene": {
           "xaxis": {
            "backgroundcolor": "#E5ECF6",
            "gridcolor": "white",
            "gridwidth": 2,
            "linecolor": "white",
            "showbackground": true,
            "ticks": "",
            "zerolinecolor": "white"
           },
           "yaxis": {
            "backgroundcolor": "#E5ECF6",
            "gridcolor": "white",
            "gridwidth": 2,
            "linecolor": "white",
            "showbackground": true,
            "ticks": "",
            "zerolinecolor": "white"
           },
           "zaxis": {
            "backgroundcolor": "#E5ECF6",
            "gridcolor": "white",
            "gridwidth": 2,
            "linecolor": "white",
            "showbackground": true,
            "ticks": "",
            "zerolinecolor": "white"
           }
          },
          "shapedefaults": {
           "line": {
            "color": "#2a3f5f"
           }
          },
          "ternary": {
           "aaxis": {
            "gridcolor": "white",
            "linecolor": "white",
            "ticks": ""
           },
           "baxis": {
            "gridcolor": "white",
            "linecolor": "white",
            "ticks": ""
           },
           "bgcolor": "#E5ECF6",
           "caxis": {
            "gridcolor": "white",
            "linecolor": "white",
            "ticks": ""
           }
          },
          "title": {
           "x": 0.05
          },
          "xaxis": {
           "automargin": true,
           "gridcolor": "white",
           "linecolor": "white",
           "ticks": "",
           "title": {
            "standoff": 15
           },
           "zerolinecolor": "white",
           "zerolinewidth": 2
          },
          "yaxis": {
           "automargin": true,
           "gridcolor": "white",
           "linecolor": "white",
           "ticks": "",
           "title": {
            "standoff": 15
           },
           "zerolinecolor": "white",
           "zerolinewidth": 2
          }
         }
        },
        "title": {
         "text": "Total Renewable Energy Production By Country",
         "x": 0.5
        },
        "width": 1200,
        "xaxis": {
         "anchor": "y",
         "autorange": true,
         "domain": [
          0,
          0.16799999999999998
         ],
         "range": [
          2000,
          2023
         ],
         "type": "linear"
        },
        "xaxis10": {
         "anchor": "y10",
         "autorange": true,
         "domain": [
          0.832,
          1
         ],
         "range": [
          2000,
          2023
         ],
         "type": "linear"
        },
        "xaxis2": {
         "anchor": "y2",
         "autorange": true,
         "domain": [
          0.208,
          0.376
         ],
         "range": [
          2000,
          2023
         ],
         "type": "linear"
        },
        "xaxis3": {
         "anchor": "y3",
         "autorange": true,
         "domain": [
          0.416,
          0.584
         ],
         "range": [
          2000,
          2023
         ],
         "type": "linear"
        },
        "xaxis4": {
         "anchor": "y4",
         "autorange": true,
         "domain": [
          0.624,
          0.792
         ],
         "range": [
          2000,
          2023
         ],
         "type": "linear"
        },
        "xaxis5": {
         "anchor": "y5",
         "autorange": true,
         "domain": [
          0.832,
          1
         ],
         "range": [
          2000,
          2023
         ],
         "type": "linear"
        },
        "xaxis6": {
         "anchor": "y6",
         "autorange": true,
         "domain": [
          0,
          0.16799999999999998
         ],
         "range": [
          2000,
          2023
         ],
         "type": "linear"
        },
        "xaxis7": {
         "anchor": "y7",
         "autorange": true,
         "domain": [
          0.208,
          0.376
         ],
         "range": [
          2000,
          2023
         ],
         "type": "linear"
        },
        "xaxis8": {
         "anchor": "y8",
         "autorange": true,
         "domain": [
          0.416,
          0.584
         ],
         "range": [
          2000,
          2023
         ],
         "type": "linear"
        },
        "xaxis9": {
         "anchor": "y9",
         "autorange": true,
         "domain": [
          0.624,
          0.792
         ],
         "range": [
          2000,
          2023
         ],
         "type": "linear"
        },
        "yaxis": {
         "anchor": "x",
         "autorange": true,
         "domain": [
          0.625,
          1
         ],
         "range": [
          1801.0773759143947,
          4109.44315537257
         ],
         "type": "linear"
        },
        "yaxis10": {
         "anchor": "x10",
         "autorange": true,
         "domain": [
          0,
          0.375
         ],
         "range": [
          1047.573126331891,
          4250.23085935407
         ],
         "type": "linear"
        },
        "yaxis2": {
         "anchor": "x2",
         "autorange": true,
         "domain": [
          0.625,
          1
         ],
         "range": [
          1321.9352923291044,
          3498.3466961161953
         ],
         "type": "linear"
        },
        "yaxis3": {
         "anchor": "x3",
         "autorange": true,
         "domain": [
          0.625,
          1
         ],
         "range": [
          1574.1376142558988,
          3891.9412162418434
         ],
         "type": "linear"
        },
        "yaxis4": {
         "anchor": "x4",
         "autorange": true,
         "domain": [
          0.625,
          1
         ],
         "range": [
          1383.0576836455627,
          4144.289629486286
         ],
         "type": "linear"
        },
        "yaxis5": {
         "anchor": "x5",
         "autorange": true,
         "domain": [
          0.625,
          1
         ],
         "range": [
          1676.5376012097768,
          4123.821762993055
         ],
         "type": "linear"
        },
        "yaxis6": {
         "anchor": "x6",
         "autorange": true,
         "domain": [
          0,
          0.375
         ],
         "range": [
          736.4753315999279,
          4214.589197727121
         ],
         "type": "linear"
        },
        "yaxis7": {
         "anchor": "x7",
         "autorange": true,
         "domain": [
          0,
          0.375
         ],
         "range": [
          1524.400794502542,
          4612.779699774286
         ],
         "type": "linear"
        },
        "yaxis8": {
         "anchor": "x8",
         "autorange": true,
         "domain": [
          0,
          0.375
         ],
         "range": [
          1303.311939524611,
          4085.0418841605333
         ],
         "type": "linear"
        },
        "yaxis9": {
         "anchor": "x9",
         "autorange": true,
         "domain": [
          0,
          0.375
         ],
         "range": [
          1240.3549676887205,
          4806.470531170248
         ],
         "type": "linear"
        }
       }
      },
      "image/png": "[encoded data removed]",
      "text/html": [
       "<div>                            <div id=\"efc549d1-c47c-4b2e-84e7-c144cfe9629d\" class=\"plotly-graph-div\" style=\"height:600px; width:1200px;\"></div>            <script type=\"text/javascript\">                require([\"plotly\"], function(Plotly) {                    window.PLOTLYENV=window.PLOTLYENV || {};                                    if (document.getElementById(\"efc549d1-c47c-4b2e-84e7-c144cfe9629d\")) {                    Plotly.newPlot(                        \"efc549d1-c47c-4b2e-84e7-c144cfe9629d\",                        [{\"mode\":\"lines\",\"name\":\"Australia\",\"x\":[2000,2001,2002,2003,2004,2005,2006,2007,2008,2009,2010,2011,2012,2013,2014,2015,2016,2017,2018,2019,2020,2021,2022,2023],\"y\":[2594.485554022319,2704.0782379594507,3307.833141547074,2563.7169735908483,3166.572863501043,2821.7743744799745,2323.433388581359,3823.0107150217223,2737.527509826466,3994.024866399661,3254.69907099334,3671.5918016978735,1944.784951939714,2124.7142376350635,3074.385475256156,2487.060427713204,2041.816066734072,3215.992504849376,2259.5263810910565,1916.4956648873035,2327.488255054132,2440.932473177017,2286.3805439954917,3027.057034177034],\"type\":\"scatter\",\"xaxis\":\"x\",\"yaxis\":\"y\"},{\"mode\":\"lines\",\"name\":\"Brazil\",\"x\":[2000,2001,2002,2003,2004,2005,2006,2007,2008,2009,2010,2011,2012,2013,2014,2015,2016,2017,2018,2019,2020,2021,2022,2023],\"y\":[2939.7377185158234,3322.653512902812,1719.2136059412248,1487.1145852934217,3000.882579238765,1820.100006525699,1505.042960967639,1872.2734411945653,2427.154138226484,3220.8733332961874,2772.1701427815924,1936.060955839772,2808.6879654045124,2626.720283211744,2185.7852130971837,2072.058560545697,1593.602413632273,3230.174598256093,2397.691406921346,2938.460687506879,2732.3148479018105,3389.526125926841,1430.755862518459,1886.813594031151],\"type\":\"scatter\",\"xaxis\":\"x2\",\"yaxis\":\"y2\"},{\"mode\":\"lines\",\"name\":\"Canada\",\"x\":[2000,2001,2002,2003,2004,2005,2006,2007,2008,2009,2010,2011,2012,2013,2014,2015,2016,2017,2018,2019,2020,2021,2022,2023],\"y\":[2543.8201610281067,3305.625233931129,2312.0368865418795,3307.962315378893,2327.4016122621256,1891.9836141109945,2144.306847566438,1829.4149647177856,2906.430812624035,3325.554923264493,2621.175926121205,3192.2880946424884,2176.657343858341,2856.886542249317,1690.027794355196,2933.414617202288,2980.934205804002,2955.3631653572734,2925.6522347248288,2898.9854193865644,2244.38840551788,3776.0510361425463,1948.953449235985,3111.760083896874],\"type\":\"scatter\",\"xaxis\":\"x3\",\"yaxis\":\"y3\"},{\"mode\":\"lines\",\"name\":\"China\",\"x\":[2000,2001,2002,2003,2004,2005,2006,2007,2008,2009,2010,2011,2012,2013,2014,2015,2016,2017,2018,2019,2020,2021,2022,2023],\"y\":[1768.026527921858,2268.881780614847,2828.538705931964,1521.119280937599,4006.2280321942494,3375.900252056055,3131.744103037821,3188.3356360354733,2129.77563089366,2945.1663694856534,3086.308467401993,2824.237249455475,2216.774404719426,2710.4261365760344,3201.2246174111287,2976.70867425504,3121.1015153461435,2446.4134774468625,2614.182391693417,2580.586896974983,3428.925320201064,3071.2571536529963,3379.2448303498977,2003.1152950400187],\"type\":\"scatter\",\"xaxis\":\"x4\",\"yaxis\":\"y4\"},{\"mode\":\"lines\",\"name\":\"France\",\"x\":[2000,2001,2002,2003,2004,2005,2006,2007,2008,2009,2010,2011,2012,2013,2014,2015,2016,2017,2018,2019,2020,2021,2022,2023],\"y\":[3176.053016144782,2551.080576266058,3716.3894034734976,2091.496363333603,3376.6115367685693,2867.675525420011,3396.3780494018083,3679.270482289221,2704.0755690734286,3788.593381038621,3707.683749133144,2842.023278316334,3656.681704617294,4001.457554903891,2560.28195072116,2987.631026657516,2167.182794610928,3390.0504671034773,3547.813932207805,2370.9038175671285,1798.9018092989406,2596.100387417184,3142.900919479857,3708.9037999007846],\"type\":\"scatter\",\"xaxis\":\"x5\",\"yaxis\":\"y5\"},{\"mode\":\"lines\",\"name\":\"Germany\",\"x\":[2000,2001,2002,2003,2004,2005,2006,2007,2008,2009,2010,2011,2012,2013,2014,2015,2016,2017,2018,2019,2020,2021,2022,2023],\"y\":[1744.6274754887006,2309.6006769612004,2720.8817016741423,2593.1977325017133,3595.130908587283,2499.306288736131,3658.613205768128,1621.8925427798567,3321.584491791407,3686.320969376213,2295.8746459526265,910.3810249062876,3184.790624545341,2197.6440106239984,2909.305399297932,3041.5213117132253,1863.6945694364815,3292.723225609536,2860.1850865886777,4040.683504420762,1095.9041363329045,1887.4672061361812,2952.072365378304,3126.171905445863],\"type\":\"scatter\",\"xaxis\":\"x6\",\"yaxis\":\"y6\"},{\"mode\":\"lines\",\"name\":\"India\",\"x\":[2000,2001,2002,2003,2004,2005,2006,2007,2008,2009,2010,2011,2012,2013,2014,2015,2016,2017,2018,2019,2020,2021,2022,2023],\"y\":[3016.9030992607345,4328.594365808196,2016.328634830452,1678.8197397661293,2107.806173189253,2845.78200151544,3399.8250180994173,2305.3720040909243,3036.880586485561,3850.6880213739823,2466.5030292525994,2111.3085913330174,4458.360754510699,3033.6328069491096,3300.027365877058,2366.7198485409467,3410.2114437709342,2961.967678630567,3903.67956530178,3095.676425560725,3712.54221571834,3764.8691636655335,2571.181403959102,2252.883799275913],\"type\":\"scatter\",\"xaxis\":\"x7\",\"yaxis\":\"y7\"},{\"mode\":\"lines\",\"name\":\"Japan\",\"x\":[2000,2001,2002,2003,2004,2005,2006,2007,2008,2009,2010,2011,2012,2013,2014,2015,2016,2017,2018,2019,2020,2021,2022,2023],\"y\":[2083.99526229356,3412.018100276068,1874.3794847800116,2296.926790571604,1811.784659683088,2818.883172325718,2668.5382965851504,3141.524131721502,2139.651630165129,1442.3984367564071,3733.227183152709,2501.211261351078,2878.706310472092,3509.1892618050265,3945.955386928737,1762.3891623902614,2168.008321390181,2633.7522825025208,2314.749312316023,3097.879573755427,1487.787681789187,3533.28326891069,2880.8919104923502,1792.878545839327],\"type\":\"scatter\",\"xaxis\":\"x8\",\"yaxis\":\"y8\"},{\"mode\":\"lines\",\"name\":\"UK\",\"x\":[2000,2001,2002,2003,2004,2005,2006,2007,2008,2009,2010,2011,2012,2013,2014,2015,2016,2017,2018,2019,2020,2021,2022,2023],\"y\":[2915.3957169958967,4243.975133535502,2992.3599411298355,3596.2888208298878,3146.965153545617,2768.744634986823,2553.8775276758784,3526.9394323829747,2823.00351708707,2766.464237285119,2566.259165611812,1703.7762764154418,1796.273415496362,3021.123520260136,2812.034713693706,4628.164752996172,2669.6162281438483,2620.777525796779,1418.660745862797,3130.5392538952187,2879.867201372323,2560.5336349314275,3191.256012263406,3319.635818412611],\"type\":\"scatter\",\"xaxis\":\"x9\",\"yaxis\":\"y9\"},{\"mode\":\"lines\",\"name\":\"USA\",\"x\":[2000,2001,2002,2003,2004,2005,2006,2007,2008,2009,2010,2011,2012,2013,2014,2015,2016,2017,2018,2019,2020,2021,2022,2023],\"y\":[3736.8007242635726,1481.7310591199162,2582.950935479509,2066.873694288255,2471.361024566209,2043.518356089828,2652.0426625615864,2353.1207524035617,3947.4508949952433,2412.39090771782,1871.2190613362752,2508.120391982205,3379.453681304388,4090.097972702961,1207.706012983,2921.9560645969937,2208.90579062078,3402.2867613871613,3244.78047256192,2101.9341745832407,2828.2085480420737,2879.853773463422,2586.6412433746887,3597.2191248822824],\"type\":\"scatter\",\"xaxis\":\"x10\",\"yaxis\":\"y10\"}],                        {\"template\":{\"data\":{\"histogram2dcontour\":[{\"type\":\"histogram2dcontour\",\"colorbar\":{\"outlinewidth\":0,\"ticks\":\"\"},\"colorscale\":[[0.0,\"#0d0887\"],[0.1111111111111111,\"#46039f\"],[0.2222222222222222,\"#7201a8\"],[0.3333333333333333,\"#9c179e\"],[0.4444444444444444,\"#bd3786\"],[0.5555555555555556,\"#d8576b\"],[0.6666666666666666,\"#ed7953\"],[0.7777777777777778,\"#fb9f3a\"],[0.8888888888888888,\"#fdca26\"],[1.0,\"#f0f921\"]]}],\"choropleth\":[{\"type\":\"choropleth\",\"colorbar\":{\"outlinewidth\":0,\"ticks\":\"\"}}],\"histogram2d\":[{\"type\":\"histogram2d\",\"colorbar\":{\"outlinewidth\":0,\"ticks\":\"\"},\"colorscale\":[[0.0,\"#0d0887\"],[0.1111111111111111,\"#46039f\"],[0.2222222222222222,\"#7201a8\"],[0.3333333333333333,\"#9c179e\"],[0.4444444444444444,\"#bd3786\"],[0.5555555555555556,\"#d8576b\"],[0.6666666666666666,\"#ed7953\"],[0.7777777777777778,\"#fb9f3a\"],[0.8888888888888888,\"#fdca26\"],[1.0,\"#f0f921\"]]}],\"heatmap\":[{\"type\":\"heatmap\",\"colorbar\":{\"outlinewidth\":0,\"ticks\":\"\"},\"colorscale\":[[0.0,\"#0d0887\"],[0.1111111111111111,\"#46039f\"],[0.2222222222222222,\"#7201a8\"],[0.3333333333333333,\"#9c179e\"],[0.4444444444444444,\"#bd3786\"],[0.5555555555555556,\"#d8576b\"],[0.6666666666666666,\"#ed7953\"],[0.7777777777777778,\"#fb9f3a\"],[0.8888888888888888,\"#fdca26\"],[1.0,\"#f0f921\"]]}],\"heatmapgl\":[{\"type\":\"heatmapgl\",\"colorbar\":{\"outlinewidth\":0,\"ticks\":\"\"},\"colorscale\":[[0.0,\"#0d0887\"],[0.1111111111111111,\"#46039f\"],[0.2222222222222222,\"#7201a8\"],[0.3333333333333333,\"#9c179e\"],[0.4444444444444444,\"#bd3786\"],[0.5555555555555556,\"#d8576b\"],[0.6666666666666666,\"#ed7953\"],[0.7777777777777778,\"#fb9f3a\"],[0.8888888888888888,\"#fdca26\"],[1.0,\"#f0f921\"]]}],\"contourcarpet\":[{\"type\":\"contourcarpet\",\"colorbar\":{\"outlinewidth\":0,\"ticks\":\"\"}}],\"contour\":[{\"type\":\"contour\",\"colorbar\":{\"outlinewidth\":0,\"ticks\":\"\"},\"colorscale\":[[0.0,\"#0d0887\"],[0.1111111111111111,\"#46039f\"],[0.2222222222222222,\"#7201a8\"],[0.3333333333333333,\"#9c179e\"],[0.4444444444444444,\"#bd3786\"],[0.5555555555555556,\"#d8576b\"],[0.6666666666666666,\"#ed7953\"],[0.7777777777777778,\"#fb9f3a\"],[0.8888888888888888,\"#fdca26\"],[1.0,\"#f0f921\"]]}],\"surface\":[{\"type\":\"surface\",\"colorbar\":{\"outlinewidth\":0,\"ticks\":\"\"},\"colorscale\":[[0.0,\"#0d0887\"],[0.1111111111111111,\"#46039f\"],[0.2222222222222222,\"#7201a8\"],[0.3333333333333333,\"#9c179e\"],[0.4444444444444444,\"#bd3786\"],[0.5555555555555556,\"#d8576b\"],[0.6666666666666666,\"#ed7953\"],[0.7777777777777778,\"#fb9f3a\"],[0.8888888888888888,\"#fdca26\"],[1.0,\"#f0f921\"]]}],\"mesh3d\":[{\"type\":\"mesh3d\",\"colorbar\":{\"outlinewidth\":0,\"ticks\":\"\"}}],\"scatter\":[{\"fillpattern\":{\"fillmode\":\"overlay\",\"size\":10,\"solidity\":0.2},\"type\":\"scatter\"}],\"parcoords\":[{\"type\":\"parcoords\",\"line\":{\"colorbar\":{\"outlinewidth\":0,\"ticks\":\"\"}}}],\"scatterpolargl\":[{\"type\":\"scatterpolargl\",\"marker\":{\"colorbar\":{\"outlinewidth\":0,\"ticks\":\"\"}}}],\"bar\":[{\"error_x\":{\"color\":\"#2a3f5f\"},\"error_y\":{\"color\":\"#2a3f5f\"},\"marker\":{\"line\":{\"color\":\"#E5ECF6\",\"width\":0.5},\"pattern\":{\"fillmode\":\"overlay\",\"size\":10,\"solidity\":0.2}},\"type\":\"bar\"}],\"scattergeo\":[{\"type\":\"scattergeo\",\"marker\":{\"colorbar\":{\"outlinewidth\":0,\"ticks\":\"\"}}}],\"scatterpolar\":[{\"type\":\"scatterpolar\",\"marker\":{\"colorbar\":{\"outlinewidth\":0,\"ticks\":\"\"}}}],\"histogram\":[{\"marker\":{\"pattern\":{\"fillmode\":\"overlay\",\"size\":10,\"solidity\":0.2}},\"type\":\"histogram\"}],\"scattergl\":[{\"type\":\"scattergl\",\"marker\":{\"colorbar\":{\"outlinewidth\":0,\"ticks\":\"\"}}}],\"scatter3d\":[{\"type\":\"scatter3d\",\"line\":{\"colorbar\":{\"outlinewidth\":0,\"ticks\":\"\"}},\"marker\":{\"colorbar\":{\"outlinewidth\":0,\"ticks\":\"\"}}}],\"scattermapbox\":[{\"type\":\"scattermapbox\",\"marker\":{\"colorbar\":{\"outlinewidth\":0,\"ticks\":\"\"}}}],\"scatterternary\":[{\"type\":\"scatterternary\",\"marker\":{\"colorbar\":{\"outlinewidth\":0,\"ticks\":\"\"}}}],\"scattercarpet\":[{\"type\":\"scattercarpet\",\"marker\":{\"colorbar\":{\"outlinewidth\":0,\"ticks\":\"\"}}}],\"carpet\":[{\"aaxis\":{\"endlinecolor\":\"#2a3f5f\",\"gridcolor\":\"white\",\"linecolor\":\"white\",\"minorgridcolor\":\"white\",\"startlinecolor\":\"#2a3f5f\"},\"baxis\":{\"endlinecolor\":\"#2a3f5f\",\"gridcolor\":\"white\",\"linecolor\":\"white\",\"minorgridcolor\":\"white\",\"startlinecolor\":\"#2a3f5f\"},\"type\":\"carpet\"}],\"table\":[{\"cells\":{\"fill\":{\"color\":\"#EBF0F8\"},\"line\":{\"color\":\"white\"}},\"header\":{\"fill\":{\"color\":\"#C8D4E3\"},\"line\":{\"color\":\"white\"}},\"type\":\"table\"}],\"barpolar\":[{\"marker\":{\"line\":{\"color\":\"#E5ECF6\",\"width\":0.5},\"pattern\":{\"fillmode\":\"overlay\",\"size\":10,\"solidity\":0.2}},\"type\":\"barpolar\"}],\"pie\":[{\"automargin\":true,\"type\":\"pie\"}]},\"layout\":{\"autotypenumbers\":\"strict\",\"colorway\":[\"#636efa\",\"#EF553B\",\"#00cc96\",\"#ab63fa\",\"#FFA15A\",\"#19d3f3\",\"#FF6692\",\"#B6E880\",\"#FF97FF\",\"#FECB52\"],\"font\":{\"color\":\"#2a3f5f\"},\"hovermode\":\"closest\",\"hoverlabel\":{\"align\":\"left\"},\"paper_bgcolor\":\"white\",\"plot_bgcolor\":\"#E5ECF6\",\"polar\":{\"bgcolor\":\"#E5ECF6\",\"angularaxis\":{\"gridcolor\":\"white\",\"linecolor\":\"white\",\"ticks\":\"\"},\"radialaxis\":{\"gridcolor\":\"white\",\"linecolor\":\"white\",\"ticks\":\"\"}},\"ternary\":{\"bgcolor\":\"#E5ECF6\",\"aaxis\":{\"gridcolor\":\"white\",\"linecolor\":\"white\",\"ticks\":\"\"},\"baxis\":{\"gridcolor\":\"white\",\"linecolor\":\"white\",\"ticks\":\"\"},\"caxis\":{\"gridcolor\":\"white\",\"linecolor\":\"white\",\"ticks\":\"\"}},\"coloraxis\":{\"colorbar\":{\"outlinewidth\":0,\"ticks\":\"\"}},\"colorscale\":{\"sequential\":[[0.0,\"#0d0887\"],[0.1111111111111111,\"#46039f\"],[0.2222222222222222,\"#7201a8\"],[0.3333333333333333,\"#9c179e\"],[0.4444444444444444,\"#bd3786\"],[0.5555555555555556,\"#d8576b\"],[0.6666666666666666,\"#ed7953\"],[0.7777777777777778,\"#fb9f3a\"],[0.8888888888888888,\"#fdca26\"],[1.0,\"#f0f921\"]],\"sequentialminus\":[[0.0,\"#0d0887\"],[0.1111111111111111,\"#46039f\"],[0.2222222222222222,\"#7201a8\"],[0.3333333333333333,\"#9c179e\"],[0.4444444444444444,\"#bd3786\"],[0.5555555555555556,\"#d8576b\"],[0.6666666666666666,\"#ed7953\"],[0.7777777777777778,\"#fb9f3a\"],[0.8888888888888888,\"#fdca26\"],[1.0,\"#f0f921\"]],\"diverging\":[[0,\"#8e0152\"],[0.1,\"#c51b7d\"],[0.2,\"#de77ae\"],[0.3,\"#f1b6da\"],[0.4,\"#fde0ef\"],[0.5,\"#f7f7f7\"],[0.6,\"#e6f5d0\"],[0.7,\"#b8e186\"],[0.8,\"#7fbc41\"],[0.9,\"#4d9221\"],[1,\"#276419\"]]},\"xaxis\":{\"gridcolor\":\"white\",\"linecolor\":\"white\",\"ticks\":\"\",\"title\":{\"standoff\":15},\"zerolinecolor\":\"white\",\"automargin\":true,\"zerolinewidth\":2},\"yaxis\":{\"gridcolor\":\"white\",\"linecolor\":\"white\",\"ticks\":\"\",\"title\":{\"standoff\":15},\"zerolinecolor\":\"white\",\"automargin\":true,\"zerolinewidth\":2},\"scene\":{\"xaxis\":{\"backgroundcolor\":\"#E5ECF6\",\"gridcolor\":\"white\",\"linecolor\":\"white\",\"showbackground\":true,\"ticks\":\"\",\"zerolinecolor\":\"white\",\"gridwidth\":2},\"yaxis\":{\"backgroundcolor\":\"#E5ECF6\",\"gridcolor\":\"white\",\"linecolor\":\"white\",\"showbackground\":true,\"ticks\":\"\",\"zerolinecolor\":\"white\",\"gridwidth\":2},\"zaxis\":{\"backgroundcolor\":\"#E5ECF6\",\"gridcolor\":\"white\",\"linecolor\":\"white\",\"showbackground\":true,\"ticks\":\"\",\"zerolinecolor\":\"white\",\"gridwidth\":2}},\"shapedefaults\":{\"line\":{\"color\":\"#2a3f5f\"}},\"annotationdefaults\":{\"arrowcolor\":\"#2a3f5f\",\"arrowhead\":0,\"arrowwidth\":1},\"geo\":{\"bgcolor\":\"white\",\"landcolor\":\"#E5ECF6\",\"subunitcolor\":\"white\",\"showland\":true,\"showlakes\":true,\"lakecolor\":\"white\"},\"title\":{\"x\":0.05},\"mapbox\":{\"style\":\"light\"}}},\"xaxis\":{\"anchor\":\"y\",\"domain\":[0.0,0.16799999999999998]},\"yaxis\":{\"anchor\":\"x\",\"domain\":[0.625,1.0]},\"xaxis2\":{\"anchor\":\"y2\",\"domain\":[0.208,0.376]},\"yaxis2\":{\"anchor\":\"x2\",\"domain\":[0.625,1.0]},\"xaxis3\":{\"anchor\":\"y3\",\"domain\":[0.416,0.584]},\"yaxis3\":{\"anchor\":\"x3\",\"domain\":[0.625,1.0]},\"xaxis4\":{\"anchor\":\"y4\",\"domain\":[0.624,0.792]},\"yaxis4\":{\"anchor\":\"x4\",\"domain\":[0.625,1.0]},\"xaxis5\":{\"anchor\":\"y5\",\"domain\":[0.832,1.0]},\"yaxis5\":{\"anchor\":\"x5\",\"domain\":[0.625,1.0]},\"xaxis6\":{\"anchor\":\"y6\",\"domain\":[0.0,0.16799999999999998]},\"yaxis6\":{\"anchor\":\"x6\",\"domain\":[0.0,0.375]},\"xaxis7\":{\"anchor\":\"y7\",\"domain\":[0.208,0.376]},\"yaxis7\":{\"anchor\":\"x7\",\"domain\":[0.0,0.375]},\"xaxis8\":{\"anchor\":\"y8\",\"domain\":[0.416,0.584]},\"yaxis8\":{\"anchor\":\"x8\",\"domain\":[0.0,0.375]},\"xaxis9\":{\"anchor\":\"y9\",\"domain\":[0.624,0.792]},\"yaxis9\":{\"anchor\":\"x9\",\"domain\":[0.0,0.375]},\"xaxis10\":{\"anchor\":\"y10\",\"domain\":[0.832,1.0]},\"yaxis10\":{\"anchor\":\"x10\",\"domain\":[0.0,0.375]},\"annotations\":[{\"font\":{\"size\":16},\"showarrow\":false,\"text\":\"Australia\",\"x\":0.08399999999999999,\"xanchor\":\"center\",\"xref\":\"paper\",\"y\":1.0,\"yanchor\":\"bottom\",\"yref\":\"paper\"},{\"font\":{\"size\":16},\"showarrow\":false,\"text\":\"Brazil\",\"x\":0.292,\"xanchor\":\"center\",\"xref\":\"paper\",\"y\":1.0,\"yanchor\":\"bottom\",\"yref\":\"paper\"},{\"font\":{\"size\":16},\"showarrow\":false,\"text\":\"Canada\",\"x\":0.5,\"xanchor\":\"center\",\"xref\":\"paper\",\"y\":1.0,\"yanchor\":\"bottom\",\"yref\":\"paper\"},{\"font\":{\"size\":16},\"showarrow\":false,\"text\":\"China\",\"x\":0.708,\"xanchor\":\"center\",\"xref\":\"paper\",\"y\":1.0,\"yanchor\":\"bottom\",\"yref\":\"paper\"},{\"font\":{\"size\":16},\"showarrow\":false,\"text\":\"France\",\"x\":0.9159999999999999,\"xanchor\":\"center\",\"xref\":\"paper\",\"y\":1.0,\"yanchor\":\"bottom\",\"yref\":\"paper\"},{\"font\":{\"size\":16},\"showarrow\":false,\"text\":\"Germany\",\"x\":0.08399999999999999,\"xanchor\":\"center\",\"xref\":\"paper\",\"y\":0.375,\"yanchor\":\"bottom\",\"yref\":\"paper\"},{\"font\":{\"size\":16},\"showarrow\":false,\"text\":\"India\",\"x\":0.292,\"xanchor\":\"center\",\"xref\":\"paper\",\"y\":0.375,\"yanchor\":\"bottom\",\"yref\":\"paper\"},{\"font\":{\"size\":16},\"showarrow\":false,\"text\":\"Japan\",\"x\":0.5,\"xanchor\":\"center\",\"xref\":\"paper\",\"y\":0.375,\"yanchor\":\"bottom\",\"yref\":\"paper\"},{\"font\":{\"size\":16},\"showarrow\":false,\"text\":\"UK\",\"x\":0.708,\"xanchor\":\"center\",\"xref\":\"paper\",\"y\":0.375,\"yanchor\":\"bottom\",\"yref\":\"paper\"},{\"font\":{\"size\":16},\"showarrow\":false,\"text\":\"USA\",\"x\":0.9159999999999999,\"xanchor\":\"center\",\"xref\":\"paper\",\"y\":0.375,\"yanchor\":\"bottom\",\"yref\":\"paper\"}],\"title\":{\"text\":\"Total Renewable Energy Production By Country\",\"x\":0.5},\"height\":600,\"width\":1200,\"showlegend\":false},                        {\"responsive\": true}                    ).then(function(){\n",
       "                            \n",
       "var gd = document.getElementById('efc549d1-c47c-4b2e-84e7-c144cfe9629d');\n",
       "var x = new MutationObserver(function (mutations, observer) {{\n",
       "        var display = window.getComputedStyle(gd).display;\n",
       "        if (!display || display === 'none') {{\n",
       "            console.log([gd, 'removed!']);\n",
       "            Plotly.purge(gd);\n",
       "            observer.disconnect();\n",
       "        }}\n",
       "}});\n",
       "\n",
       "// Listen for the removal of the full notebook cells\n",
       "var notebookContainer = gd.closest('#notebook-container');\n",
       "if (notebookContainer) {{\n",
       "    x.observe(notebookContainer, {childList: true});\n",
       "}}\n",
       "\n",
       "// Listen for the clearing of the current output cell\n",
       "var outputEl = gd.closest('.output');\n",
       "if (outputEl) {{\n",
       "    x.observe(outputEl, {childList: true});\n",
       "}}\n",
       "\n",
       "                        })                };                });            </script>        </div>"
      ]
     },
     "metadata": {},
     "output_type": "display_data"
    }
   ],
   "source": [
    "fig = make_subplots(rows=2, cols=5, subplot_titles=[country for country, _ in country_dfs[:10]])\n",
    "for i, (country, df) in enumerate(country_dfs[:10]):\n",
    "    row = i // 5 + 1\n",
    "    col = i % 5 + 1\n",
    "    fig.add_trace(\n",
    "        go.Scatter(x=df['Year'], y=df['TotalRenewableEnergy'], mode='lines', name=country),\n",
    "        row=row, col=col\n",
    "    )\n",
    "fig.update_layout(height=600, width=1200, title_text=\"Total Renewable Energy Production By Country\", title_x=.5, showlegend=False)\n",
    "fig.show()"
   ]
  },
  {
   "cell_type": "markdown",
   "metadata": {},
   "source": [
    "### This plot aggregates the total sums of renewable energy production by resource for all countries over all years. ###"
   ]
  },
  {
   "cell_type": "code",
   "execution_count": 194,
   "metadata": {},
   "outputs": [
    {
     "data": {
      "application/vnd.plotly.v1+json": {
       "config": {
        "plotlyServerURL": "https://plot.ly"
       },
       "data": [
        {
         "name": "Solar Energy",
         "type": "bar",
         "x": [
          2000,
          2001,
          2002,
          2003,
          2004,
          2005,
          2006,
          2007,
          2008,
          2009,
          2010,
          2011,
          2012,
          2013,
          2014,
          2015,
          2016,
          2017,
          2018,
          2019,
          2020,
          2021,
          2022,
          2023
         ],
         "y": [
          437.0861069626262,
          240.41677639819287,
          641.0035105688879,
          849.1983767203795,
          373.8180186635839,
          650.6676052501415,
          510.4629857953323,
          633.1731119758382,
          158.54643368675156,
          374.1523922560336,
          209.83441136030092,
          332.9019834400152,
          592.0392514089517,
          945.5490474077702,
          179.64325184672754,
          449.8095607205338,
          352.84105871864267,
          167.09557931179376,
          104.96990541124217,
          794.1433120173511,
          876.7930832880342,
          379.884089544096,
          898.4914683186939,
          784.7065437552077
         ]
        },
        {
         "name": "Wind Energy",
         "type": "bar",
         "x": [
          2000,
          2001,
          2002,
          2003,
          2004,
          2005,
          2006,
          2007,
          2008,
          2009,
          2010,
          2011,
          2012,
          2013,
          2014,
          2015,
          2016,
          2017,
          2018,
          2019,
          2020,
          2021,
          2022,
          2023
         ],
         "y": [
          1435.928598332891,
          402.79287643706346,
          1120.4943511348592,
          476.040843881759,
          882.1833611219092,
          381.3420188476544,
          1220.7287498109176,
          260.38553653599706,
          1433.5511984293332,
          326.973748208299,
          843.7299831446512,
          1061.2789696601767,
          440.3107921831852,
          1363.2755555559436,
          454.7777211448888,
          552.7537413060647,
          905.504908105723,
          1482.9530175806724,
          1260.0998569912845,
          296.2580472543175,
          1010.2875648758252,
          622.7383186347711,
          813.8794027105341,
          929.6603568403452
         ]
        },
        {
         "name": "Hydro Energy",
         "type": "bar",
         "x": [
          2000,
          2001,
          2002,
          2003,
          2004,
          2005,
          2006,
          2007,
          2008,
          2009,
          2010,
          2011,
          2012,
          2013,
          2014,
          2015,
          2016,
          2017,
          2018,
          2019,
          2020,
          2021,
          2022,
          2023
         ],
         "y": [
          1544.3897010793887,
          398.7421406859391,
          334.9936403028641,
          609.1024442520711,
          1034.3065316915968,
          796.6459025098709,
          639.4454296692115,
          1332.826248232445,
          1941.574456226751,
          1463.1961450706667,
          358.4604858958713,
          829.9088293519986,
          1948.2938671997492,
          1316.4299639788446,
          376.8863911479147,
          1708.85376555828,
          539.5711824570965,
          1612.8161078043177,
          1501.657484540949,
          909.3917385252636,
          862.5266422495037,
          1540.3305031747088,
          503.3102180951129,
          1610.6442059227536
         ]
        },
        {
         "name": "Other Renewable Energy",
         "type": "bar",
         "x": [
          2000,
          2001,
          2002,
          2003,
          2004,
          2005,
          2006,
          2007,
          2008,
          2009,
          2010,
          2011,
          2012,
          2013,
          2014,
          2015,
          2016,
          2017,
          2018,
          2019,
          2020,
          2021,
          2022,
          2023
         ],
         "y": [
          319.3963178886665,
          439.7792655987208,
          486.45943347289744,
          132.53202943404523,
          181.05311308911885,
          214.8628294821613,
          281.4054972861252,
          126.7358556592812,
          413.7788066524075,
          248.06862218282055,
          459.1941809354519,
          284.0306095300149,
          398.80977051250153,
          464.84340576040256,
          196.39864884346892,
          210.5389970121152,
          410.9886413393178,
          139.4220566903776,
          378.0532256184443,
          102.14107678630836,
          78.60125762871064,
          336.9008621098459,
          370.9601542503477,
          272.20801836397584
         ]
        },
        {
         "line": {
          "color": "purple",
          "width": 2
         },
         "mode": "lines+markers",
         "name": "Total Renewable Energy",
         "type": "scatter",
         "x": [
          2000,
          2001,
          2002,
          2003,
          2004,
          2005,
          2006,
          2007,
          2008,
          2009,
          2010,
          2011,
          2012,
          2013,
          2014,
          2015,
          2016,
          2017,
          2018,
          2019,
          2020,
          2021,
          2022,
          2023
         ],
         "y": [
          3736.8007242635726,
          1481.7310591199162,
          2582.950935479509,
          2066.873694288255,
          2471.361024566209,
          2043.518356089828,
          2652.0426625615864,
          2353.1207524035617,
          3947.4508949952433,
          2412.39090771782,
          1871.2190613362752,
          2508.120391982205,
          3379.453681304388,
          4090.097972702961,
          1207.706012983,
          2921.9560645969937,
          2208.90579062078,
          3402.2867613871613,
          3244.78047256192,
          2101.9341745832407,
          2828.2085480420737,
          2879.853773463422,
          2586.6412433746887,
          3597.2191248822824
         ]
        }
       ],
       "layout": {
        "autosize": true,
        "barmode": "stack",
        "legend": {
         "title": {
          "text": "Energy Type"
         }
        },
        "template": {
         "data": {
          "bar": [
           {
            "error_x": {
             "color": "#2a3f5f"
            },
            "error_y": {
             "color": "#2a3f5f"
            },
            "marker": {
             "line": {
              "color": "#E5ECF6",
              "width": 0.5
             },
             "pattern": {
              "fillmode": "overlay",
              "size": 10,
              "solidity": 0.2
             }
            },
            "type": "bar"
           }
          ],
          "barpolar": [
           {
            "marker": {
             "line": {
              "color": "#E5ECF6",
              "width": 0.5
             },
             "pattern": {
              "fillmode": "overlay",
              "size": 10,
              "solidity": 0.2
             }
            },
            "type": "barpolar"
           }
          ],
          "carpet": [
           {
            "aaxis": {
             "endlinecolor": "#2a3f5f",
             "gridcolor": "white",
             "linecolor": "white",
             "minorgridcolor": "white",
             "startlinecolor": "#2a3f5f"
            },
            "baxis": {
             "endlinecolor": "#2a3f5f",
             "gridcolor": "white",
             "linecolor": "white",
             "minorgridcolor": "white",
             "startlinecolor": "#2a3f5f"
            },
            "type": "carpet"
           }
          ],
          "choropleth": [
           {
            "colorbar": {
             "outlinewidth": 0,
             "ticks": ""
            },
            "type": "choropleth"
           }
          ],
          "contour": [
           {
            "colorbar": {
             "outlinewidth": 0,
             "ticks": ""
            },
            "colorscale": [
             [
              0,
              "#0d0887"
             ],
             [
              0.1111111111111111,
              "#46039f"
             ],
             [
              0.2222222222222222,
              "#7201a8"
             ],
             [
              0.3333333333333333,
              "#9c179e"
             ],
             [
              0.4444444444444444,
              "#bd3786"
             ],
             [
              0.5555555555555556,
              "#d8576b"
             ],
             [
              0.6666666666666666,
              "#ed7953"
             ],
             [
              0.7777777777777778,
              "#fb9f3a"
             ],
             [
              0.8888888888888888,
              "#fdca26"
             ],
             [
              1,
              "#f0f921"
             ]
            ],
            "type": "contour"
           }
          ],
          "contourcarpet": [
           {
            "colorbar": {
             "outlinewidth": 0,
             "ticks": ""
            },
            "type": "contourcarpet"
           }
          ],
          "heatmap": [
           {
            "colorbar": {
             "outlinewidth": 0,
             "ticks": ""
            },
            "colorscale": [
             [
              0,
              "#0d0887"
             ],
             [
              0.1111111111111111,
              "#46039f"
             ],
             [
              0.2222222222222222,
              "#7201a8"
             ],
             [
              0.3333333333333333,
              "#9c179e"
             ],
             [
              0.4444444444444444,
              "#bd3786"
             ],
             [
              0.5555555555555556,
              "#d8576b"
             ],
             [
              0.6666666666666666,
              "#ed7953"
             ],
             [
              0.7777777777777778,
              "#fb9f3a"
             ],
             [
              0.8888888888888888,
              "#fdca26"
             ],
             [
              1,
              "#f0f921"
             ]
            ],
            "type": "heatmap"
           }
          ],
          "heatmapgl": [
           {
            "colorbar": {
             "outlinewidth": 0,
             "ticks": ""
            },
            "colorscale": [
             [
              0,
              "#0d0887"
             ],
             [
              0.1111111111111111,
              "#46039f"
             ],
             [
              0.2222222222222222,
              "#7201a8"
             ],
             [
              0.3333333333333333,
              "#9c179e"
             ],
             [
              0.4444444444444444,
              "#bd3786"
             ],
             [
              0.5555555555555556,
              "#d8576b"
             ],
             [
              0.6666666666666666,
              "#ed7953"
             ],
             [
              0.7777777777777778,
              "#fb9f3a"
             ],
             [
              0.8888888888888888,
              "#fdca26"
             ],
             [
              1,
              "#f0f921"
             ]
            ],
            "type": "heatmapgl"
           }
          ],
          "histogram": [
           {
            "marker": {
             "pattern": {
              "fillmode": "overlay",
              "size": 10,
              "solidity": 0.2
             }
            },
            "type": "histogram"
           }
          ],
          "histogram2d": [
           {
            "colorbar": {
             "outlinewidth": 0,
             "ticks": ""
            },
            "colorscale": [
             [
              0,
              "#0d0887"
             ],
             [
              0.1111111111111111,
              "#46039f"
             ],
             [
              0.2222222222222222,
              "#7201a8"
             ],
             [
              0.3333333333333333,
              "#9c179e"
             ],
             [
              0.4444444444444444,
              "#bd3786"
             ],
             [
              0.5555555555555556,
              "#d8576b"
             ],
             [
              0.6666666666666666,
              "#ed7953"
             ],
             [
              0.7777777777777778,
              "#fb9f3a"
             ],
             [
              0.8888888888888888,
              "#fdca26"
             ],
             [
              1,
              "#f0f921"
             ]
            ],
            "type": "histogram2d"
           }
          ],
          "histogram2dcontour": [
           {
            "colorbar": {
             "outlinewidth": 0,
             "ticks": ""
            },
            "colorscale": [
             [
              0,
              "#0d0887"
             ],
             [
              0.1111111111111111,
              "#46039f"
             ],
             [
              0.2222222222222222,
              "#7201a8"
             ],
             [
              0.3333333333333333,
              "#9c179e"
             ],
             [
              0.4444444444444444,
              "#bd3786"
             ],
             [
              0.5555555555555556,
              "#d8576b"
             ],
             [
              0.6666666666666666,
              "#ed7953"
             ],
             [
              0.7777777777777778,
              "#fb9f3a"
             ],
             [
              0.8888888888888888,
              "#fdca26"
             ],
             [
              1,
              "#f0f921"
             ]
            ],
            "type": "histogram2dcontour"
           }
          ],
          "mesh3d": [
           {
            "colorbar": {
             "outlinewidth": 0,
             "ticks": ""
            },
            "type": "mesh3d"
           }
          ],
          "parcoords": [
           {
            "line": {
             "colorbar": {
              "outlinewidth": 0,
              "ticks": ""
             }
            },
            "type": "parcoords"
           }
          ],
          "pie": [
           {
            "automargin": true,
            "type": "pie"
           }
          ],
          "scatter": [
           {
            "fillpattern": {
             "fillmode": "overlay",
             "size": 10,
             "solidity": 0.2
            },
            "type": "scatter"
           }
          ],
          "scatter3d": [
           {
            "line": {
             "colorbar": {
              "outlinewidth": 0,
              "ticks": ""
             }
            },
            "marker": {
             "colorbar": {
              "outlinewidth": 0,
              "ticks": ""
             }
            },
            "type": "scatter3d"
           }
          ],
          "scattercarpet": [
           {
            "marker": {
             "colorbar": {
              "outlinewidth": 0,
              "ticks": ""
             }
            },
            "type": "scattercarpet"
           }
          ],
          "scattergeo": [
           {
            "marker": {
             "colorbar": {
              "outlinewidth": 0,
              "ticks": ""
             }
            },
            "type": "scattergeo"
           }
          ],
          "scattergl": [
           {
            "marker": {
             "colorbar": {
              "outlinewidth": 0,
              "ticks": ""
             }
            },
            "type": "scattergl"
           }
          ],
          "scattermapbox": [
           {
            "marker": {
             "colorbar": {
              "outlinewidth": 0,
              "ticks": ""
             }
            },
            "type": "scattermapbox"
           }
          ],
          "scatterpolar": [
           {
            "marker": {
             "colorbar": {
              "outlinewidth": 0,
              "ticks": ""
             }
            },
            "type": "scatterpolar"
           }
          ],
          "scatterpolargl": [
           {
            "marker": {
             "colorbar": {
              "outlinewidth": 0,
              "ticks": ""
             }
            },
            "type": "scatterpolargl"
           }
          ],
          "scatterternary": [
           {
            "marker": {
             "colorbar": {
              "outlinewidth": 0,
              "ticks": ""
             }
            },
            "type": "scatterternary"
           }
          ],
          "surface": [
           {
            "colorbar": {
             "outlinewidth": 0,
             "ticks": ""
            },
            "colorscale": [
             [
              0,
              "#0d0887"
             ],
             [
              0.1111111111111111,
              "#46039f"
             ],
             [
              0.2222222222222222,
              "#7201a8"
             ],
             [
              0.3333333333333333,
              "#9c179e"
             ],
             [
              0.4444444444444444,
              "#bd3786"
             ],
             [
              0.5555555555555556,
              "#d8576b"
             ],
             [
              0.6666666666666666,
              "#ed7953"
             ],
             [
              0.7777777777777778,
              "#fb9f3a"
             ],
             [
              0.8888888888888888,
              "#fdca26"
             ],
             [
              1,
              "#f0f921"
             ]
            ],
            "type": "surface"
           }
          ],
          "table": [
           {
            "cells": {
             "fill": {
              "color": "#EBF0F8"
             },
             "line": {
              "color": "white"
             }
            },
            "header": {
             "fill": {
              "color": "#C8D4E3"
             },
             "line": {
              "color": "white"
             }
            },
            "type": "table"
           }
          ]
         },
         "layout": {
          "annotationdefaults": {
           "arrowcolor": "#2a3f5f",
           "arrowhead": 0,
           "arrowwidth": 1
          },
          "autotypenumbers": "strict",
          "coloraxis": {
           "colorbar": {
            "outlinewidth": 0,
            "ticks": ""
           }
          },
          "colorscale": {
           "diverging": [
            [
             0,
             "#8e0152"
            ],
            [
             0.1,
             "#c51b7d"
            ],
            [
             0.2,
             "#de77ae"
            ],
            [
             0.3,
             "#f1b6da"
            ],
            [
             0.4,
             "#fde0ef"
            ],
            [
             0.5,
             "#f7f7f7"
            ],
            [
             0.6,
             "#e6f5d0"
            ],
            [
             0.7,
             "#b8e186"
            ],
            [
             0.8,
             "#7fbc41"
            ],
            [
             0.9,
             "#4d9221"
            ],
            [
             1,
             "#276419"
            ]
           ],
           "sequential": [
            [
             0,
             "#0d0887"
            ],
            [
             0.1111111111111111,
             "#46039f"
            ],
            [
             0.2222222222222222,
             "#7201a8"
            ],
            [
             0.3333333333333333,
             "#9c179e"
            ],
            [
             0.4444444444444444,
             "#bd3786"
            ],
            [
             0.5555555555555556,
             "#d8576b"
            ],
            [
             0.6666666666666666,
             "#ed7953"
            ],
            [
             0.7777777777777778,
             "#fb9f3a"
            ],
            [
             0.8888888888888888,
             "#fdca26"
            ],
            [
             1,
             "#f0f921"
            ]
           ],
           "sequentialminus": [
            [
             0,
             "#0d0887"
            ],
            [
             0.1111111111111111,
             "#46039f"
            ],
            [
             0.2222222222222222,
             "#7201a8"
            ],
            [
             0.3333333333333333,
             "#9c179e"
            ],
            [
             0.4444444444444444,
             "#bd3786"
            ],
            [
             0.5555555555555556,
             "#d8576b"
            ],
            [
             0.6666666666666666,
             "#ed7953"
            ],
            [
             0.7777777777777778,
             "#fb9f3a"
            ],
            [
             0.8888888888888888,
             "#fdca26"
            ],
            [
             1,
             "#f0f921"
            ]
           ]
          },
          "colorway": [
           "#636efa",
           "#EF553B",
           "#00cc96",
           "#ab63fa",
           "#FFA15A",
           "#19d3f3",
           "#FF6692",
           "#B6E880",
           "#FF97FF",
           "#FECB52"
          ],
          "font": {
           "color": "#2a3f5f"
          },
          "geo": {
           "bgcolor": "white",
           "lakecolor": "white",
           "landcolor": "#E5ECF6",
           "showlakes": true,
           "showland": true,
           "subunitcolor": "white"
          },
          "hoverlabel": {
           "align": "left"
          },
          "hovermode": "closest",
          "mapbox": {
           "style": "light"
          },
          "paper_bgcolor": "white",
          "plot_bgcolor": "#E5ECF6",
          "polar": {
           "angularaxis": {
            "gridcolor": "white",
            "linecolor": "white",
            "ticks": ""
           },
           "bgcolor": "#E5ECF6",
           "radialaxis": {
            "gridcolor": "white",
            "linecolor": "white",
            "ticks": ""
           }
          },
          "scene": {
           "xaxis": {
            "backgroundcolor": "#E5ECF6",
            "gridcolor": "white",
            "gridwidth": 2,
            "linecolor": "white",
            "showbackground": true,
            "ticks": "",
            "zerolinecolor": "white"
           },
           "yaxis": {
            "backgroundcolor": "#E5ECF6",
            "gridcolor": "white",
            "gridwidth": 2,
            "linecolor": "white",
            "showbackground": true,
            "ticks": "",
            "zerolinecolor": "white"
           },
           "zaxis": {
            "backgroundcolor": "#E5ECF6",
            "gridcolor": "white",
            "gridwidth": 2,
            "linecolor": "white",
            "showbackground": true,
            "ticks": "",
            "zerolinecolor": "white"
           }
          },
          "shapedefaults": {
           "line": {
            "color": "#2a3f5f"
           }
          },
          "ternary": {
           "aaxis": {
            "gridcolor": "white",
            "linecolor": "white",
            "ticks": ""
           },
           "baxis": {
            "gridcolor": "white",
            "linecolor": "white",
            "ticks": ""
           },
           "bgcolor": "#E5ECF6",
           "caxis": {
            "gridcolor": "white",
            "linecolor": "white",
            "ticks": ""
           }
          },
          "title": {
           "x": 0.05
          },
          "xaxis": {
           "automargin": true,
           "gridcolor": "white",
           "linecolor": "white",
           "ticks": "",
           "title": {
            "standoff": 15
           },
           "zerolinecolor": "white",
           "zerolinewidth": 2
          },
          "yaxis": {
           "automargin": true,
           "gridcolor": "white",
           "linecolor": "white",
           "ticks": "",
           "title": {
            "standoff": 15
           },
           "zerolinecolor": "white",
           "zerolinewidth": 2
          }
         }
        },
        "title": {
         "text": "Yearly Renewable Energy Production By Resource (2000-2023)",
         "x": 0.5
        },
        "xaxis": {
         "autorange": true,
         "range": [
          1998.5612930310663,
          2024.4387069689337
         ],
         "showspikes": false,
         "title": {
          "text": "Year"
         },
         "type": "linear"
        },
        "yaxis": {
         "autorange": true,
         "range": [
          0,
          4401.899163447133
         ],
         "showspikes": false,
         "title": {
          "text": "Energy Production (GWh)"
         },
         "type": "linear"
        }
       }
      },
      "image/png": "[encoded data removed]",
      "text/html": [
       "<div>                            <div id=\"209ac579-a25d-49ca-9f42-853744672b43\" class=\"plotly-graph-div\" style=\"height:525px; width:100%;\"></div>            <script type=\"text/javascript\">                require([\"plotly\"], function(Plotly) {                    window.PLOTLYENV=window.PLOTLYENV || {};                                    if (document.getElementById(\"209ac579-a25d-49ca-9f42-853744672b43\")) {                    Plotly.newPlot(                        \"209ac579-a25d-49ca-9f42-853744672b43\",                        [{\"name\":\"Solar Energy\",\"x\":[2000,2001,2002,2003,2004,2005,2006,2007,2008,2009,2010,2011,2012,2013,2014,2015,2016,2017,2018,2019,2020,2021,2022,2023],\"y\":[437.0861069626262,240.41677639819287,641.0035105688879,849.1983767203795,373.8180186635839,650.6676052501415,510.4629857953323,633.1731119758382,158.54643368675156,374.1523922560336,209.83441136030092,332.9019834400152,592.0392514089517,945.5490474077702,179.64325184672754,449.8095607205338,352.84105871864267,167.09557931179376,104.96990541124217,794.1433120173511,876.7930832880342,379.884089544096,898.4914683186939,784.7065437552077],\"type\":\"bar\"},{\"name\":\"Wind Energy\",\"x\":[2000,2001,2002,2003,2004,2005,2006,2007,2008,2009,2010,2011,2012,2013,2014,2015,2016,2017,2018,2019,2020,2021,2022,2023],\"y\":[1435.928598332891,402.79287643706346,1120.4943511348592,476.040843881759,882.1833611219092,381.3420188476544,1220.7287498109176,260.38553653599706,1433.5511984293332,326.973748208299,843.7299831446512,1061.2789696601767,440.3107921831852,1363.2755555559436,454.7777211448888,552.7537413060647,905.504908105723,1482.9530175806724,1260.0998569912845,296.2580472543175,1010.2875648758252,622.7383186347711,813.8794027105341,929.6603568403452],\"type\":\"bar\"},{\"name\":\"Hydro Energy\",\"x\":[2000,2001,2002,2003,2004,2005,2006,2007,2008,2009,2010,2011,2012,2013,2014,2015,2016,2017,2018,2019,2020,2021,2022,2023],\"y\":[1544.3897010793887,398.7421406859391,334.9936403028641,609.1024442520711,1034.3065316915968,796.6459025098709,639.4454296692115,1332.826248232445,1941.574456226751,1463.1961450706667,358.4604858958713,829.9088293519986,1948.2938671997492,1316.4299639788446,376.8863911479147,1708.85376555828,539.5711824570965,1612.8161078043177,1501.657484540949,909.3917385252636,862.5266422495037,1540.3305031747088,503.3102180951129,1610.6442059227536],\"type\":\"bar\"},{\"name\":\"Other Renewable Energy\",\"x\":[2000,2001,2002,2003,2004,2005,2006,2007,2008,2009,2010,2011,2012,2013,2014,2015,2016,2017,2018,2019,2020,2021,2022,2023],\"y\":[319.3963178886665,439.7792655987208,486.45943347289744,132.53202943404523,181.05311308911885,214.8628294821613,281.4054972861252,126.7358556592812,413.7788066524075,248.06862218282055,459.1941809354519,284.0306095300149,398.80977051250153,464.84340576040256,196.39864884346892,210.5389970121152,410.9886413393178,139.4220566903776,378.0532256184443,102.14107678630836,78.60125762871064,336.9008621098459,370.9601542503477,272.20801836397584],\"type\":\"bar\"},{\"line\":{\"color\":\"purple\",\"width\":2},\"mode\":\"lines+markers\",\"name\":\"Total Renewable Energy\",\"x\":[2000,2001,2002,2003,2004,2005,2006,2007,2008,2009,2010,2011,2012,2013,2014,2015,2016,2017,2018,2019,2020,2021,2022,2023],\"y\":[3736.8007242635726,1481.7310591199162,2582.950935479509,2066.873694288255,2471.361024566209,2043.518356089828,2652.0426625615864,2353.1207524035617,3947.4508949952433,2412.39090771782,1871.2190613362752,2508.120391982205,3379.453681304388,4090.097972702961,1207.706012983,2921.9560645969937,2208.90579062078,3402.2867613871613,3244.78047256192,2101.9341745832407,2828.2085480420737,2879.853773463422,2586.6412433746887,3597.2191248822824],\"type\":\"scatter\"}],                        {\"template\":{\"data\":{\"histogram2dcontour\":[{\"type\":\"histogram2dcontour\",\"colorbar\":{\"outlinewidth\":0,\"ticks\":\"\"},\"colorscale\":[[0.0,\"#0d0887\"],[0.1111111111111111,\"#46039f\"],[0.2222222222222222,\"#7201a8\"],[0.3333333333333333,\"#9c179e\"],[0.4444444444444444,\"#bd3786\"],[0.5555555555555556,\"#d8576b\"],[0.6666666666666666,\"#ed7953\"],[0.7777777777777778,\"#fb9f3a\"],[0.8888888888888888,\"#fdca26\"],[1.0,\"#f0f921\"]]}],\"choropleth\":[{\"type\":\"choropleth\",\"colorbar\":{\"outlinewidth\":0,\"ticks\":\"\"}}],\"histogram2d\":[{\"type\":\"histogram2d\",\"colorbar\":{\"outlinewidth\":0,\"ticks\":\"\"},\"colorscale\":[[0.0,\"#0d0887\"],[0.1111111111111111,\"#46039f\"],[0.2222222222222222,\"#7201a8\"],[0.3333333333333333,\"#9c179e\"],[0.4444444444444444,\"#bd3786\"],[0.5555555555555556,\"#d8576b\"],[0.6666666666666666,\"#ed7953\"],[0.7777777777777778,\"#fb9f3a\"],[0.8888888888888888,\"#fdca26\"],[1.0,\"#f0f921\"]]}],\"heatmap\":[{\"type\":\"heatmap\",\"colorbar\":{\"outlinewidth\":0,\"ticks\":\"\"},\"colorscale\":[[0.0,\"#0d0887\"],[0.1111111111111111,\"#46039f\"],[0.2222222222222222,\"#7201a8\"],[0.3333333333333333,\"#9c179e\"],[0.4444444444444444,\"#bd3786\"],[0.5555555555555556,\"#d8576b\"],[0.6666666666666666,\"#ed7953\"],[0.7777777777777778,\"#fb9f3a\"],[0.8888888888888888,\"#fdca26\"],[1.0,\"#f0f921\"]]}],\"heatmapgl\":[{\"type\":\"heatmapgl\",\"colorbar\":{\"outlinewidth\":0,\"ticks\":\"\"},\"colorscale\":[[0.0,\"#0d0887\"],[0.1111111111111111,\"#46039f\"],[0.2222222222222222,\"#7201a8\"],[0.3333333333333333,\"#9c179e\"],[0.4444444444444444,\"#bd3786\"],[0.5555555555555556,\"#d8576b\"],[0.6666666666666666,\"#ed7953\"],[0.7777777777777778,\"#fb9f3a\"],[0.8888888888888888,\"#fdca26\"],[1.0,\"#f0f921\"]]}],\"contourcarpet\":[{\"type\":\"contourcarpet\",\"colorbar\":{\"outlinewidth\":0,\"ticks\":\"\"}}],\"contour\":[{\"type\":\"contour\",\"colorbar\":{\"outlinewidth\":0,\"ticks\":\"\"},\"colorscale\":[[0.0,\"#0d0887\"],[0.1111111111111111,\"#46039f\"],[0.2222222222222222,\"#7201a8\"],[0.3333333333333333,\"#9c179e\"],[0.4444444444444444,\"#bd3786\"],[0.5555555555555556,\"#d8576b\"],[0.6666666666666666,\"#ed7953\"],[0.7777777777777778,\"#fb9f3a\"],[0.8888888888888888,\"#fdca26\"],[1.0,\"#f0f921\"]]}],\"surface\":[{\"type\":\"surface\",\"colorbar\":{\"outlinewidth\":0,\"ticks\":\"\"},\"colorscale\":[[0.0,\"#0d0887\"],[0.1111111111111111,\"#46039f\"],[0.2222222222222222,\"#7201a8\"],[0.3333333333333333,\"#9c179e\"],[0.4444444444444444,\"#bd3786\"],[0.5555555555555556,\"#d8576b\"],[0.6666666666666666,\"#ed7953\"],[0.7777777777777778,\"#fb9f3a\"],[0.8888888888888888,\"#fdca26\"],[1.0,\"#f0f921\"]]}],\"mesh3d\":[{\"type\":\"mesh3d\",\"colorbar\":{\"outlinewidth\":0,\"ticks\":\"\"}}],\"scatter\":[{\"fillpattern\":{\"fillmode\":\"overlay\",\"size\":10,\"solidity\":0.2},\"type\":\"scatter\"}],\"parcoords\":[{\"type\":\"parcoords\",\"line\":{\"colorbar\":{\"outlinewidth\":0,\"ticks\":\"\"}}}],\"scatterpolargl\":[{\"type\":\"scatterpolargl\",\"marker\":{\"colorbar\":{\"outlinewidth\":0,\"ticks\":\"\"}}}],\"bar\":[{\"error_x\":{\"color\":\"#2a3f5f\"},\"error_y\":{\"color\":\"#2a3f5f\"},\"marker\":{\"line\":{\"color\":\"#E5ECF6\",\"width\":0.5},\"pattern\":{\"fillmode\":\"overlay\",\"size\":10,\"solidity\":0.2}},\"type\":\"bar\"}],\"scattergeo\":[{\"type\":\"scattergeo\",\"marker\":{\"colorbar\":{\"outlinewidth\":0,\"ticks\":\"\"}}}],\"scatterpolar\":[{\"type\":\"scatterpolar\",\"marker\":{\"colorbar\":{\"outlinewidth\":0,\"ticks\":\"\"}}}],\"histogram\":[{\"marker\":{\"pattern\":{\"fillmode\":\"overlay\",\"size\":10,\"solidity\":0.2}},\"type\":\"histogram\"}],\"scattergl\":[{\"type\":\"scattergl\",\"marker\":{\"colorbar\":{\"outlinewidth\":0,\"ticks\":\"\"}}}],\"scatter3d\":[{\"type\":\"scatter3d\",\"line\":{\"colorbar\":{\"outlinewidth\":0,\"ticks\":\"\"}},\"marker\":{\"colorbar\":{\"outlinewidth\":0,\"ticks\":\"\"}}}],\"scattermapbox\":[{\"type\":\"scattermapbox\",\"marker\":{\"colorbar\":{\"outlinewidth\":0,\"ticks\":\"\"}}}],\"scatterternary\":[{\"type\":\"scatterternary\",\"marker\":{\"colorbar\":{\"outlinewidth\":0,\"ticks\":\"\"}}}],\"scattercarpet\":[{\"type\":\"scattercarpet\",\"marker\":{\"colorbar\":{\"outlinewidth\":0,\"ticks\":\"\"}}}],\"carpet\":[{\"aaxis\":{\"endlinecolor\":\"#2a3f5f\",\"gridcolor\":\"white\",\"linecolor\":\"white\",\"minorgridcolor\":\"white\",\"startlinecolor\":\"#2a3f5f\"},\"baxis\":{\"endlinecolor\":\"#2a3f5f\",\"gridcolor\":\"white\",\"linecolor\":\"white\",\"minorgridcolor\":\"white\",\"startlinecolor\":\"#2a3f5f\"},\"type\":\"carpet\"}],\"table\":[{\"cells\":{\"fill\":{\"color\":\"#EBF0F8\"},\"line\":{\"color\":\"white\"}},\"header\":{\"fill\":{\"color\":\"#C8D4E3\"},\"line\":{\"color\":\"white\"}},\"type\":\"table\"}],\"barpolar\":[{\"marker\":{\"line\":{\"color\":\"#E5ECF6\",\"width\":0.5},\"pattern\":{\"fillmode\":\"overlay\",\"size\":10,\"solidity\":0.2}},\"type\":\"barpolar\"}],\"pie\":[{\"automargin\":true,\"type\":\"pie\"}]},\"layout\":{\"autotypenumbers\":\"strict\",\"colorway\":[\"#636efa\",\"#EF553B\",\"#00cc96\",\"#ab63fa\",\"#FFA15A\",\"#19d3f3\",\"#FF6692\",\"#B6E880\",\"#FF97FF\",\"#FECB52\"],\"font\":{\"color\":\"#2a3f5f\"},\"hovermode\":\"closest\",\"hoverlabel\":{\"align\":\"left\"},\"paper_bgcolor\":\"white\",\"plot_bgcolor\":\"#E5ECF6\",\"polar\":{\"bgcolor\":\"#E5ECF6\",\"angularaxis\":{\"gridcolor\":\"white\",\"linecolor\":\"white\",\"ticks\":\"\"},\"radialaxis\":{\"gridcolor\":\"white\",\"linecolor\":\"white\",\"ticks\":\"\"}},\"ternary\":{\"bgcolor\":\"#E5ECF6\",\"aaxis\":{\"gridcolor\":\"white\",\"linecolor\":\"white\",\"ticks\":\"\"},\"baxis\":{\"gridcolor\":\"white\",\"linecolor\":\"white\",\"ticks\":\"\"},\"caxis\":{\"gridcolor\":\"white\",\"linecolor\":\"white\",\"ticks\":\"\"}},\"coloraxis\":{\"colorbar\":{\"outlinewidth\":0,\"ticks\":\"\"}},\"colorscale\":{\"sequential\":[[0.0,\"#0d0887\"],[0.1111111111111111,\"#46039f\"],[0.2222222222222222,\"#7201a8\"],[0.3333333333333333,\"#9c179e\"],[0.4444444444444444,\"#bd3786\"],[0.5555555555555556,\"#d8576b\"],[0.6666666666666666,\"#ed7953\"],[0.7777777777777778,\"#fb9f3a\"],[0.8888888888888888,\"#fdca26\"],[1.0,\"#f0f921\"]],\"sequentialminus\":[[0.0,\"#0d0887\"],[0.1111111111111111,\"#46039f\"],[0.2222222222222222,\"#7201a8\"],[0.3333333333333333,\"#9c179e\"],[0.4444444444444444,\"#bd3786\"],[0.5555555555555556,\"#d8576b\"],[0.6666666666666666,\"#ed7953\"],[0.7777777777777778,\"#fb9f3a\"],[0.8888888888888888,\"#fdca26\"],[1.0,\"#f0f921\"]],\"diverging\":[[0,\"#8e0152\"],[0.1,\"#c51b7d\"],[0.2,\"#de77ae\"],[0.3,\"#f1b6da\"],[0.4,\"#fde0ef\"],[0.5,\"#f7f7f7\"],[0.6,\"#e6f5d0\"],[0.7,\"#b8e186\"],[0.8,\"#7fbc41\"],[0.9,\"#4d9221\"],[1,\"#276419\"]]},\"xaxis\":{\"gridcolor\":\"white\",\"linecolor\":\"white\",\"ticks\":\"\",\"title\":{\"standoff\":15},\"zerolinecolor\":\"white\",\"automargin\":true,\"zerolinewidth\":2},\"yaxis\":{\"gridcolor\":\"white\",\"linecolor\":\"white\",\"ticks\":\"\",\"title\":{\"standoff\":15},\"zerolinecolor\":\"white\",\"automargin\":true,\"zerolinewidth\":2},\"scene\":{\"xaxis\":{\"backgroundcolor\":\"#E5ECF6\",\"gridcolor\":\"white\",\"linecolor\":\"white\",\"showbackground\":true,\"ticks\":\"\",\"zerolinecolor\":\"white\",\"gridwidth\":2},\"yaxis\":{\"backgroundcolor\":\"#E5ECF6\",\"gridcolor\":\"white\",\"linecolor\":\"white\",\"showbackground\":true,\"ticks\":\"\",\"zerolinecolor\":\"white\",\"gridwidth\":2},\"zaxis\":{\"backgroundcolor\":\"#E5ECF6\",\"gridcolor\":\"white\",\"linecolor\":\"white\",\"showbackground\":true,\"ticks\":\"\",\"zerolinecolor\":\"white\",\"gridwidth\":2}},\"shapedefaults\":{\"line\":{\"color\":\"#2a3f5f\"}},\"annotationdefaults\":{\"arrowcolor\":\"#2a3f5f\",\"arrowhead\":0,\"arrowwidth\":1},\"geo\":{\"bgcolor\":\"white\",\"landcolor\":\"#E5ECF6\",\"subunitcolor\":\"white\",\"showland\":true,\"showlakes\":true,\"lakecolor\":\"white\"},\"title\":{\"x\":0.05},\"mapbox\":{\"style\":\"light\"}}},\"title\":{\"text\":\"Yearly Renewable Energy Production By Resource (2000-2023)\",\"x\":0.5},\"barmode\":\"stack\",\"xaxis\":{\"title\":{\"text\":\"Year\"}},\"yaxis\":{\"title\":{\"text\":\"Energy Production (GWh)\"}},\"legend\":{\"title\":{\"text\":\"Energy Type\"}}},                        {\"responsive\": true}                    ).then(function(){\n",
       "                            \n",
       "var gd = document.getElementById('209ac579-a25d-49ca-9f42-853744672b43');\n",
       "var x = new MutationObserver(function (mutations, observer) {{\n",
       "        var display = window.getComputedStyle(gd).display;\n",
       "        if (!display || display === 'none') {{\n",
       "            console.log([gd, 'removed!']);\n",
       "            Plotly.purge(gd);\n",
       "            observer.disconnect();\n",
       "        }}\n",
       "}});\n",
       "\n",
       "// Listen for the removal of the full notebook cells\n",
       "var notebookContainer = gd.closest('#notebook-container');\n",
       "if (notebookContainer) {{\n",
       "    x.observe(notebookContainer, {childList: true});\n",
       "}}\n",
       "\n",
       "// Listen for the clearing of the current output cell\n",
       "var outputEl = gd.closest('.output');\n",
       "if (outputEl) {{\n",
       "    x.observe(outputEl, {childList: true});\n",
       "}}\n",
       "\n",
       "                        })                };                });            </script>        </div>"
      ]
     },
     "metadata": {},
     "output_type": "display_data"
    }
   ],
   "source": [
    "yearly_totals = df.drop(columns='Country').groupby('Year').sum()\n",
    "\n",
    "fig = go.Figure()\n",
    "fig.add_trace(go.Bar(name='Solar Energy', x=yearly_totals.index, y=yearly_totals['SolarEnergy']))\n",
    "fig.add_trace(go.Bar(name='Wind Energy', x=yearly_totals.index, y=yearly_totals['WindEnergy']))\n",
    "fig.add_trace(go.Bar(name='Hydro Energy', x=yearly_totals.index, y=yearly_totals['HydroEnergy']))\n",
    "fig.add_trace(go.Bar(name='Other Renewable Energy', x=yearly_totals.index, y=yearly_totals['OtherRenewableEnergy']))\n",
    "fig.add_trace(go.Scatter(name='Total Renewable Energy', x=yearly_totals.index, y=yearly_totals['TotalRenewableEnergy']\n",
    "                         , mode='lines+markers', line=dict(color='purple', width=2)))\n",
    "\n",
    "fig.update_layout(\n",
    "    barmode='stack',\n",
    "    title='Yearly Renewable Energy Production By Resource (2000-2023)',\n",
    "    title_x=.5,\n",
    "    xaxis_title='Year',\n",
    "    yaxis_title='Energy Production (GWh)',\n",
    "    legend_title='Energy Type'\n",
    ")\n",
    "\n",
    "fig.show()"
   ]
  }
 ],
 "metadata": {
  "kernelspec": {
   "display_name": "Python 3 (ipykernel)",
   "language": "python",
   "name": "python3"
  },
  "language_info": {
   "codemirror_mode": {
    "name": "ipython",
    "version": 3
   },
   "file_extension": ".py",
   "mimetype": "text/x-python",
   "name": "python",
   "nbconvert_exporter": "python",
   "pygments_lexer": "ipython3",
   "version": "3.11.7"
  }
 },
 "nbformat": 4,
 "nbformat_minor": 4
}
